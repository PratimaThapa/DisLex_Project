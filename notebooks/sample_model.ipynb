{
 "cells": [
  {
   "cell_type": "code",
   "execution_count": 378,
   "metadata": {},
   "outputs": [
    {
     "name": "stderr",
     "output_type": "stream",
     "text": [
      "[nltk_data] Downloading package punkt to\n",
      "[nltk_data]     /home/pratimathapa/nltk_data...\n",
      "[nltk_data]   Package punkt is already up-to-date!\n"
     ]
    }
   ],
   "source": [
    "import pickle\n",
    "import pandas as pd\n",
    "import nltk\n",
    "nltk.download('punkt')  # Ensure NLTK's punkt package is downloaded for sentence tokenization\n",
    "import json\n",
    "import re\n"
   ]
  },
  {
   "cell_type": "code",
   "execution_count": 379,
   "metadata": {},
   "outputs": [],
   "source": [
    "from bertopic import BERTopic\n",
    "import csv\n",
    "import matplotlib.pyplot as plt\n",
    "from bertopic.representation import KeyBERTInspired\n"
   ]
  },
  {
   "cell_type": "code",
   "execution_count": 380,
   "metadata": {},
   "outputs": [
    {
     "data": {
      "text/html": [
       "<div>\n",
       "<style scoped>\n",
       "    .dataframe tbody tr th:only-of-type {\n",
       "        vertical-align: middle;\n",
       "    }\n",
       "\n",
       "    .dataframe tbody tr th {\n",
       "        vertical-align: top;\n",
       "    }\n",
       "\n",
       "    .dataframe thead th {\n",
       "        text-align: right;\n",
       "    }\n",
       "</style>\n",
       "<table border=\"1\" class=\"dataframe\">\n",
       "  <thead>\n",
       "    <tr style=\"text-align: right;\">\n",
       "      <th></th>\n",
       "      <th>Country</th>\n",
       "      <th>Language</th>\n",
       "      <th>Text</th>\n",
       "    </tr>\n",
       "  </thead>\n",
       "  <tbody>\n",
       "    <tr>\n",
       "      <th>0</th>\n",
       "      <td>Eswatini</td>\n",
       "      <td>English</td>\n",
       "      <td>piae jn\\nPi SAT OR face\\nSUPPLEMENT TO\\nTHE\\nS...</td>\n",
       "    </tr>\n",
       "    <tr>\n",
       "      <th>1</th>\n",
       "      <td>Jamaica</td>\n",
       "      <td>English</td>\n",
       "      <td>16.\\n\\n17.\\n\\nDISASTER RISK MANAGEMENT\\n\\nTHE ...</td>\n",
       "    </tr>\n",
       "    <tr>\n",
       "      <th>2</th>\n",
       "      <td>Turks and Caicos Islands</td>\n",
       "      <td>English</td>\n",
       "      <td>Page | of 70\\n\\n  \\n\\n*\\n\\nTURKS AND CAICOS IS...</td>\n",
       "    </tr>\n",
       "    <tr>\n",
       "      <th>3</th>\n",
       "      <td>The Gambia</td>\n",
       "      <td>English</td>\n",
       "      <td>\\n\fNATIONAL DISASTER MANAGEMENT ACT, 2008\\n\\n...</td>\n",
       "    </tr>\n",
       "    <tr>\n",
       "      <th>4</th>\n",
       "      <td>Cook Islands</td>\n",
       "      <td>English</td>\n",
       "      <td>\\n\\n \\n\\n \\n\\n \\n\\n \\n\\n \\n\\n \\n\\n \\n\\nPWNS\\n...</td>\n",
       "    </tr>\n",
       "    <tr>\n",
       "      <th>5</th>\n",
       "      <td>Tanzania</td>\n",
       "      <td>English</td>\n",
       "      <td>THE DISASTER MANAGEMENT ACT, 2015\\n\\nARRANGEME...</td>\n",
       "    </tr>\n",
       "    <tr>\n",
       "      <th>6</th>\n",
       "      <td>Federated States of Micronesia</td>\n",
       "      <td>English</td>\n",
       "      <td>PRESIDENTIAL COMm. NUs_@=L22eey\\nFSM CONGRESS\\...</td>\n",
       "    </tr>\n",
       "  </tbody>\n",
       "</table>\n",
       "</div>"
      ],
      "text/plain": [
       "                          Country Language  \\\n",
       "0                        Eswatini  English   \n",
       "1                         Jamaica  English   \n",
       "2        Turks and Caicos Islands  English   \n",
       "3                      The Gambia  English   \n",
       "4                    Cook Islands  English   \n",
       "5                        Tanzania  English   \n",
       "6  Federated States of Micronesia  English   \n",
       "\n",
       "                                                Text  \n",
       "0  piae jn\\nPi SAT OR face\\nSUPPLEMENT TO\\nTHE\\nS...  \n",
       "1  16.\\n\\n17.\\n\\nDISASTER RISK MANAGEMENT\\n\\nTHE ...  \n",
       "2  Page | of 70\\n\\n  \\n\\n*\\n\\nTURKS AND CAICOS IS...  \n",
       "3   \\n\n",
       "NATIONAL DISASTER MANAGEMENT ACT, 2008\\n\\n...  \n",
       "4   \\n\\n \\n\\n \\n\\n \\n\\n \\n\\n \\n\\n \\n\\n \\n\\nPWNS\\n...  \n",
       "5  THE DISASTER MANAGEMENT ACT, 2015\\n\\nARRANGEME...  \n",
       "6  PRESIDENTIAL COMm. NUs_@=L22eey\\nFSM CONGRESS\\...  "
      ]
     },
     "execution_count": 380,
     "metadata": {},
     "output_type": "execute_result"
    }
   ],
   "source": [
    "# Provide the path to your pickle file\n",
    "file_path = '/home/pratimathapa/code/PratimaThapa/DisLex_Project/notebooks/scanned_eng.pkl'\n",
    "\n",
    "# Read the pickle file\n",
    "with open(file_path, 'rb') as file:\n",
    "    data = pickle.load(file)\n",
    "\n",
    "data\n"
   ]
  },
  {
   "cell_type": "code",
   "execution_count": 375,
   "metadata": {},
   "outputs": [
    {
     "name": "stdout",
     "output_type": "stream",
     "text": [
      "                    Country Language  \\\n",
      "0                  Eswatini  English   \n",
      "1                   Jamaica  English   \n",
      "2  Turks and Caicos Islands  English   \n",
      "3                The Gambia  English   \n",
      "4              Cook Islands  English   \n",
      "\n",
      "                                                Text  \n",
      "0  piae jn Pi SAT OR face SUPPLEMENT TO THE SWAZI...  \n",
      "1  16.  17.  DISASTER RISK MANAGEMENT  THE DISAST...  \n",
      "2  Page | of 70      *  TURKS AND CAICOS ISLANDS ...  \n",
      "3    \fNATIONAL DISASTER MANAGEMENT ACT, 2008  ARR...  \n",
      "4                          PWNS  15. 16.  118  Th...  \n"
     ]
    }
   ],
   "source": [
    "# Create a DataFrame from your data\n",
    "df = pd.DataFrame(data)\n",
    "\n",
    "# Convert the 'Text' column to string type explicitly\n",
    "df['Text'] = df['Text'].astype(str)\n",
    "\n",
    "# Remove newline characters from the 'Text' column\n",
    "df['Text'] = df['Text'].str.replace('\\n', ' ')\n",
    "\n",
    "# Remove add a tab characters from the 'Text' column\n",
    "df['Text'] = df['Text'].str.replace('\\t', ' ')\n",
    "\n",
    "# Display the updated DataFrame\n",
    "print(df.head())\n"
   ]
  },
  {
   "cell_type": "code",
   "execution_count": 376,
   "metadata": {},
   "outputs": [
    {
     "data": {
      "text/html": [
       "<div>\n",
       "<style scoped>\n",
       "    .dataframe tbody tr th:only-of-type {\n",
       "        vertical-align: middle;\n",
       "    }\n",
       "\n",
       "    .dataframe tbody tr th {\n",
       "        vertical-align: top;\n",
       "    }\n",
       "\n",
       "    .dataframe thead th {\n",
       "        text-align: right;\n",
       "    }\n",
       "</style>\n",
       "<table border=\"1\" class=\"dataframe\">\n",
       "  <thead>\n",
       "    <tr style=\"text-align: right;\">\n",
       "      <th></th>\n",
       "      <th>Country</th>\n",
       "      <th>Language</th>\n",
       "      <th>Text</th>\n",
       "    </tr>\n",
       "  </thead>\n",
       "  <tbody>\n",
       "    <tr>\n",
       "      <th>6</th>\n",
       "      <td>Federated States of Micronesia</td>\n",
       "      <td>English</td>\n",
       "      <td>PRESIDENTIAL COMm. NUs_@=L22eey FSM CONGRESS  ...</td>\n",
       "    </tr>\n",
       "  </tbody>\n",
       "</table>\n",
       "</div>"
      ],
      "text/plain": [
       "                          Country Language  \\\n",
       "6  Federated States of Micronesia  English   \n",
       "\n",
       "                                                Text  \n",
       "6  PRESIDENTIAL COMm. NUs_@=L22eey FSM CONGRESS  ...  "
      ]
     },
     "execution_count": 376,
     "metadata": {},
     "output_type": "execute_result"
    }
   ],
   "source": [
    "n_df = pd.DataFrame(df.loc[6])\n",
    "i_data = n_df.transpose()\n",
    "i_data\n"
   ]
  },
  {
   "cell_type": "code",
   "execution_count": 377,
   "metadata": {},
   "outputs": [
    {
     "name": "stdout",
     "output_type": "stream",
     "text": [
      "Sentences extracted from the paragraphs and saved to '/home/pratimathapa/code/PratimaThapa/DisLex_Project/csv_files/Federated States of Micronesia.csv'.\n"
     ]
    }
   ],
   "source": [
    "# Tokenize the 'Text' column into sentences\n",
    "sentences = []\n",
    "for index, row in i_data.iterrows():\n",
    "    text = row['Text']\n",
    "    sentences.extend(nltk.sent_tokenize(text))\n",
    "\n",
    "# Create a new DataFrame with sentences and corresponding language and country\n",
    "sentences_df = pd.DataFrame({\n",
    "    'Sentence': sentences,\n",
    "    'Language': i_data['Language'].repeat([len(nltk.sent_tokenize(text)) for text in i_data['Text']]),\n",
    "    'Country': i_data['Country'].repeat([len(nltk.sent_tokenize(text)) for text in i_data['Text']])\n",
    "})\n",
    "\n",
    "# Display the resulting DataFrame with sentences\n",
    "sentences_df\n",
    "\n",
    "# Save the DataFrame to a CSV file\n",
    "csv_output_path = '/home/pratimathapa/code/PratimaThapa/DisLex_Project/csv_files/Federated States of Micronesia.csv'  # Replace with your desired CSV output path\n",
    "sentences_df.to_csv(csv_output_path, index=False)\n",
    "\n",
    "print(f\"Sentences extracted from the paragraphs and saved to '{csv_output_path}'.\")\n"
   ]
  },
  {
   "cell_type": "code",
   "execution_count": 353,
   "metadata": {},
   "outputs": [
    {
     "data": {
      "text/html": [
       "<div>\n",
       "<style scoped>\n",
       "    .dataframe tbody tr th:only-of-type {\n",
       "        vertical-align: middle;\n",
       "    }\n",
       "\n",
       "    .dataframe tbody tr th {\n",
       "        vertical-align: top;\n",
       "    }\n",
       "\n",
       "    .dataframe thead th {\n",
       "        text-align: right;\n",
       "    }\n",
       "</style>\n",
       "<table border=\"1\" class=\"dataframe\">\n",
       "  <thead>\n",
       "    <tr style=\"text-align: right;\">\n",
       "      <th></th>\n",
       "      <th>Sentence</th>\n",
       "      <th>Language</th>\n",
       "      <th>Country</th>\n",
       "    </tr>\n",
       "  </thead>\n",
       "  <tbody>\n",
       "    <tr>\n",
       "      <th>0</th>\n",
       "      <td>THE DISASTER MANAGEMENT ACT, 2005   __________...</td>\n",
       "      <td>English</td>\n",
       "      <td>India</td>\n",
       "    </tr>\n",
       "    <tr>\n",
       "      <th>1</th>\n",
       "      <td>Short title, extent and commencement.</td>\n",
       "      <td>English</td>\n",
       "      <td>India</td>\n",
       "    </tr>\n",
       "    <tr>\n",
       "      <th>2</th>\n",
       "      <td>Definitions.</td>\n",
       "      <td>English</td>\n",
       "      <td>India</td>\n",
       "    </tr>\n",
       "    <tr>\n",
       "      <th>3</th>\n",
       "      <td>CHAPTER II   THE NATIONAL  DISASTER  MANAGEMEN...</td>\n",
       "      <td>English</td>\n",
       "      <td>India</td>\n",
       "    </tr>\n",
       "    <tr>\n",
       "      <th>4</th>\n",
       "      <td>Establishment of National Disaster Management ...</td>\n",
       "      <td>English</td>\n",
       "      <td>India</td>\n",
       "    </tr>\n",
       "    <tr>\n",
       "      <th>...</th>\n",
       "      <td>...</td>\n",
       "      <td>...</td>\n",
       "      <td>...</td>\n",
       "    </tr>\n",
       "    <tr>\n",
       "      <th>326</th>\n",
       "      <td>In particular, and without prejudice to the ge...</td>\n",
       "      <td>English</td>\n",
       "      <td>India</td>\n",
       "    </tr>\n",
       "    <tr>\n",
       "      <th>327</th>\n",
       "      <td>Every rule made by the State Government under ...</td>\n",
       "      <td>English</td>\n",
       "      <td>India</td>\n",
       "    </tr>\n",
       "    <tr>\n",
       "      <th>328</th>\n",
       "      <td>Power to remove difficulties.</td>\n",
       "      <td>English</td>\n",
       "      <td>India</td>\n",
       "    </tr>\n",
       "    <tr>\n",
       "      <th>329</th>\n",
       "      <td>If any difficulty arises in gi ving effect to ...</td>\n",
       "      <td>English</td>\n",
       "      <td>India</td>\n",
       "    </tr>\n",
       "    <tr>\n",
       "      <th>330</th>\n",
       "      <td>Every order made under this section shall be l...</td>\n",
       "      <td>English</td>\n",
       "      <td>India</td>\n",
       "    </tr>\n",
       "  </tbody>\n",
       "</table>\n",
       "<p>331 rows × 3 columns</p>\n",
       "</div>"
      ],
      "text/plain": [
       "                                              Sentence Language Country\n",
       "0    THE DISASTER MANAGEMENT ACT, 2005   __________...  English   India\n",
       "1                Short title, extent and commencement.  English   India\n",
       "2                                         Definitions.  English   India\n",
       "3    CHAPTER II   THE NATIONAL  DISASTER  MANAGEMEN...  English   India\n",
       "4    Establishment of National Disaster Management ...  English   India\n",
       "..                                                 ...      ...     ...\n",
       "326  In particular, and without prejudice to the ge...  English   India\n",
       "327  Every rule made by the State Government under ...  English   India\n",
       "328                      Power to remove difficulties.  English   India\n",
       "329  If any difficulty arises in gi ving effect to ...  English   India\n",
       "330  Every order made under this section shall be l...  English   India\n",
       "\n",
       "[331 rows x 3 columns]"
      ]
     },
     "execution_count": 353,
     "metadata": {},
     "output_type": "execute_result"
    }
   ],
   "source": [
    "#Cleaning the Sentence column in the dataframe\n",
    "\n",
    "# Remove rows with only individual numbers\n",
    "pattern = r'^\\d+(\\.)?$'\n",
    "sentences_df = sentences_df[~sentences_df['Sentence'].str.match(pattern)]\n",
    "\n",
    "# Remove numbers or symbols at the beginning of sentences\n",
    "pattern = r'^[\\d\\s—()-]+'\n",
    "sentences_df['Sentence'] = sentences_df['Sentence'].str.replace(pattern, '', regex=True)\n",
    "\n",
    "# Reset index after dropping rows\n",
    "sentences_df.reset_index(drop=True, inplace=True)\n",
    "\n",
    "# Display the updated DataFrame\n",
    "sentences_df\n"
   ]
  },
  {
   "cell_type": "code",
   "execution_count": 354,
   "metadata": {},
   "outputs": [
    {
     "name": "stdout",
     "output_type": "stream",
     "text": [
      "{'name': 'disaster_origin', 'words': ['natural', 'earthquake', 'floods', 'weather', 'drought', 'landslides', 'cyclones', 'tsunami', 'climate', 'volcanoes', 'technological disaster', 'pollution', 'pandemic', 'epidemic', 'disease', 'conflict', 'war', 'civil conflict', 'multi hazards', 'cross sectoral']}\n",
      "{'name': 'actors', 'words': ['national', 'national authorities', 'president', 'prime minister', 'centralized', 'federal', 'regional government', 'local government', 'provincial government', 'decentralized', 'chief ministers', 'cabinet ministers', 'district', 'director general', 'parliament', 'parliamentary', 'members of parliament', 'executive', 'legal actors', 'supreme court', 'high court', 'tribunal', 'administrative', 'administration', 'bureaucratic capacity', 'private actors', 'companies', 'multinational', 'United Nations', 'European Union', 'international', 'African Union', 'International development agencies', 'financial institutions', 'military', 'army', 'soldiers', 'military asset']}\n",
      "{'name': 'disaster_cycle', 'words': ['disaster risk reduction', 'disaster risk', 'DRR', 'mitigation', 'disaster preparedness', 'preparedness', 'planning', 'response', 'disaster response', 'emergency', 'relief', 'early warning', 'recovery', 'reconstruction', 'rehabilitation', 'capacity development']}\n",
      "{'name': 'governance_modalities', 'words': ['state of emergency declaration', 'state of exception', 'state of alarm', 'courts', 'judges', 'legal review', 'participatory', 'participation', 'decision', 'decision making', 'responsibility', 'implementation', 'implementing', 'accountability', 'liability', 'reporting', 'coordination', 'cooperation', 'network', 'collaboration', 'partnership', 'multiorganizational', 'disaster management agency', 'disaster management platform', 'personnel', 'migrants', 'gender', 'minority', 'women', 'young people', 'elderly', 'old people', 'disabled people', 'vulnerable communities', 'vulnerable people', 'children', 'financially unstable', 'no housing', 'lgbtqi+', 'fund', 'funding', 'financing', 'resource management']}\n",
      "{'name': 'overarching_principles', 'words': ['humanitarian principles', 'neutrality', 'independence', 'impartiality', 'humanity', 'Sustainable development goals', 'Sendai Framework', 'international humanitarian law', 'IHL', 'Geneva Convention', 'International Community of the Red Cross', 'international guidelines', 'international frameworks', 'human rights', 'right-based approach', 'democratic resilience', 'democratic continuity', 'democratic decision making', 'quality standards', 'anti corruption', 'corruption', 'financial transparency', 'sovereignty', 'sovereign', 'access to information', 'compensation', 'compensatory measures', 'legal protection', 'civil protection']}\n"
     ]
    }
   ],
   "source": [
    "# Creating a list of dictionary of the keywords\n",
    "\n",
    "name = ['disaster_origin', 'actors', 'disaster_cycle', 'governance_modalities', 'overarching_principles']\n",
    "\n",
    "words = [\n",
    "    ['natural', 'earthquake', 'floods', 'weather', 'drought', 'landslides', 'cyclones', 'tsunami', 'climate', 'volcanoes', 'technological disaster',\n",
    "     'pollution', 'pandemic', 'epidemic', 'disease', 'conflict', 'war', 'civil conflict', 'multi hazards', 'cross sectoral'],\n",
    "    ['national', 'national authorities', 'president', 'prime minister', 'centralized', 'federal', 'regional government', 'local government',\n",
    "     'provincial government', 'decentralized', 'chief ministers', 'cabinet ministers', 'district', 'director general', 'parliament', 'parliamentary',\n",
    "     'members of parliament', 'executive', 'legal actors', 'supreme court', 'high court', 'tribunal', 'administrative', 'administration',\n",
    "     'bureaucratic capacity', 'private actors', 'companies', 'multinational', 'United Nations', 'European Union', 'international', 'African Union',\n",
    "     'International development agencies', 'financial institutions', 'military', 'army', 'soldiers', 'military asset'],\n",
    "    ['disaster risk reduction', 'disaster risk', 'DRR', 'mitigation', 'disaster preparedness', 'preparedness', 'planning', 'response',\n",
    "     'disaster response', 'emergency', 'relief', 'early warning', 'recovery', 'reconstruction', 'rehabilitation', 'capacity development'],\n",
    "    ['state of emergency declaration', 'state of exception', 'state of alarm', 'courts', 'judges', 'legal review', 'participatory', 'participation',\n",
    "     'decision', 'decision making', 'responsibility', 'implementation', 'implementing', 'accountability', 'liability', 'reporting', 'coordination',\n",
    "     'cooperation', 'network', 'collaboration', 'partnership', 'multiorganizational', 'disaster management agency', 'disaster management platform',\n",
    "     'personnel', 'migrants', 'gender', 'minority', 'women', 'young people', 'elderly', 'old people', 'disabled people', 'vulnerable communities',\n",
    "     'vulnerable people', 'children', 'financially unstable', 'no housing', 'lgbtqi+', 'fund', 'funding', 'financing', 'resource management'],\n",
    "    ['humanitarian principles', 'neutrality', 'independence', 'impartiality', 'humanity', 'Sustainable development goals', 'Sendai Framework',\n",
    "     'international humanitarian law', 'IHL', 'Geneva Convention', 'International Community of the Red Cross', 'international guidelines',\n",
    "     'international frameworks', 'human rights', 'right-based approach', 'democratic resilience', 'democratic continuity', 'democratic decision making',\n",
    "     'quality standards', 'anti corruption', 'corruption', 'financial transparency', 'sovereignty', 'sovereign', 'access to information', 'compensation',\n",
    "     'compensatory measures', 'legal protection', 'civil protection']\n",
    "]\n",
    "\n",
    "# Create a list of dictionaries using a list comprehension\n",
    "result_list = [\n",
    "    {\"name\": n, \"words\": w} for n, w in zip(name, words)\n",
    "]\n",
    "\n",
    "# Display the resulting list of dictionaries\n",
    "for item in result_list:\n",
    "    print(item)\n",
    "\n",
    "# Saving the dictionary as a json file\n",
    "\n",
    "# Define the file path where you want to save the JSON file\n",
    "#file_path = '/home/pratimathapa/code/PratimaThapa/DisLex_Project/notebooks/keywords.json'\n",
    "\n",
    "# Save the list of dictionaries as a JSON file\n",
    "#with open(file_path, 'w') as json_file:\n",
    "    #json.dump(result_list, json_file, indent=4)\n",
    "\n",
    "#print(f\"JSON file saved to '{file_path}'\")\n"
   ]
  },
  {
   "cell_type": "markdown",
   "metadata": {},
   "source": [
    "# Using BERTopic for topic modelling"
   ]
  },
  {
   "cell_type": "code",
   "execution_count": 355,
   "metadata": {},
   "outputs": [],
   "source": [
    "# Define a function to create seed list from a dictionary\n",
    "def get_seed_lists(dictionary, ngram_size):\n",
    "    # create list of topics wit max ngram_size\n",
    "    seeds = []\n",
    "    for topic in dictionary:\n",
    "        seed = [w for w in topic[\"words\"] if len(w.split()) <= ngram_size]\n",
    "        seeds.append(seed)\n",
    "    return seeds\n"
   ]
  },
  {
   "cell_type": "code",
   "execution_count": 356,
   "metadata": {},
   "outputs": [
    {
     "name": "stdout",
     "output_type": "stream",
     "text": [
      "[['natural', 'earthquake', 'floods', 'weather', 'drought', 'landslides', 'cyclones', 'tsunami', 'climate', 'volcanoes', 'pollution', 'pandemic', 'epidemic', 'disease', 'conflict', 'war'], ['national', 'president', 'centralized', 'federal', 'decentralized', 'district', 'parliament', 'parliamentary', 'executive', 'tribunal', 'administrative', 'administration', 'companies', 'multinational', 'international', 'military', 'army', 'soldiers'], ['DRR', 'mitigation', 'preparedness', 'planning', 'response', 'emergency', 'relief', 'recovery', 'reconstruction', 'rehabilitation'], ['courts', 'judges', 'participatory', 'participation', 'decision', 'responsibility', 'implementation', 'implementing', 'accountability', 'liability', 'reporting', 'coordination', 'cooperation', 'network', 'collaboration', 'partnership', 'multiorganizational', 'personnel', 'migrants', 'gender', 'minority', 'women', 'elderly', 'children', 'lgbtqi+', 'fund', 'funding', 'financing'], ['neutrality', 'independence', 'impartiality', 'humanity', 'IHL', 'corruption', 'sovereignty', 'sovereign', 'compensation']]\n"
     ]
    }
   ],
   "source": [
    "# Create seed list from dictionary\n",
    "seeds = get_seed_lists(result_list, 1)\n",
    "print(seeds)\n"
   ]
  },
  {
   "cell_type": "code",
   "execution_count": 357,
   "metadata": {},
   "outputs": [
    {
     "data": {
      "application/vnd.jupyter.widget-view+json": {
       "model_id": "1d8059e6aab04f1dab6d7c37910dcc5c",
       "version_major": 2,
       "version_minor": 0
      },
      "text/plain": [
       "Batches:   0%|          | 0/11 [00:00<?, ?it/s]"
      ]
     },
     "metadata": {},
     "output_type": "display_data"
    }
   ],
   "source": [
    "# Prepare embeddings\n",
    "from sentence_transformers import SentenceTransformer\n",
    "docs = sentences_df.Sentence\n",
    "sentence_model = SentenceTransformer(\"all-MiniLM-L6-v2\")\n",
    "\n",
    "# Use KeyBERTInspired representation model.\n",
    "# This gives better names to the topics.\n",
    "representation_model = KeyBERTInspired()\n",
    "embeddings = sentence_model.encode(docs, show_progress_bar=True)\n"
   ]
  },
  {
   "cell_type": "code",
   "execution_count": 358,
   "metadata": {},
   "outputs": [
    {
     "data": {
      "text/plain": [
       "(331,)"
      ]
     },
     "metadata": {},
     "output_type": "display_data"
    },
    {
     "data": {
      "text/plain": [
       "(331, 384)"
      ]
     },
     "execution_count": 358,
     "metadata": {},
     "output_type": "execute_result"
    }
   ],
   "source": [
    "display(docs.shape)\n",
    "embeddings.shape\n"
   ]
  },
  {
   "cell_type": "code",
   "execution_count": 363,
   "metadata": {},
   "outputs": [
    {
     "data": {
      "application/vnd.jupyter.widget-view+json": {
       "model_id": "1ff8ecff35cd4ea2a06338b43c9ec0f4",
       "version_major": 2,
       "version_minor": 0
      },
      "text/plain": [
       "Batches:   0%|          | 0/1 [00:00<?, ?it/s]"
      ]
     },
     "metadata": {},
     "output_type": "display_data"
    },
    {
     "name": "stderr",
     "output_type": "stream",
     "text": [
      "2023-12-04 09:10:04,470 - BERTopic - Reduced dimensionality\n",
      "2023-12-04 09:10:04,497 - BERTopic - Clustered reduced embeddings\n"
     ]
    }
   ],
   "source": [
    "# load BERT model paraphrase-MiniLM-L3-v2 (multilingual) or all-MiniLM-L6-v2 (english)\n",
    "# setting min_topic_size to 7 and n_grams from 1 to 3\n",
    "# we need to explore these parameters. Other parameters:\n",
    "# https://maartengr.github.io/BERTopic/getting_started/parameter%20tuning/parametertuning.html\n",
    "# guided topic modeling: https://maartengr.github.io/BERTopic/getting_started/guided/guided.html\n",
    "# seed_topic_list = [[\"corruption\"],\n",
    "#                   [\"elections\", \"election\", \"assembly\"],\n",
    "#                  [\"freedom\", \"liberty\"]]\n",
    "\n",
    "seed_topic_list = get_seed_lists(result_list, 3)\n",
    "topic_model = BERTopic(representation_model=representation_model,\n",
    "                       seed_topic_list=seed_topic_list,\n",
    "                       verbose=True,\n",
    "                       embedding_model='all-MiniLM-L6-v2',\n",
    "                       min_topic_size = 50,\n",
    "                       n_gram_range=(1, 3)\n",
    "                      ).fit(docs, embeddings)\n"
   ]
  },
  {
   "cell_type": "code",
   "execution_count": 364,
   "metadata": {},
   "outputs": [
    {
     "data": {
      "application/vnd.plotly.v1+json": {
       "config": {
        "plotlyServerURL": "https://plot.ly"
       },
       "data": [
        {
         "hoverinfo": "text",
         "hovertext": [
          "In particular, and without prejudice to the generality of the foregoing power, such rules may  provide for all or any of the following matters, namely: —  (a) the composition and number of the members of the State Authority under s ub-section ( 2), and  the term of office and conditions of service of the members of the State Authority under sub -section  (5), of section 14;   (b) the allowances to be paid to the members of the advisory committee under sub -section ( 2) of  section 17;   (c) the powers and functions of the Chairperson of the State Executive Committee under                   sub-section ( 3), and the procedure to be followed by the State Executive Committee in exercise of its  powers and discharge of its functions under sub -section  (4) of section 20;   (d) allowances to be paid to the persons associated with the sub -committee constituted by the  State Executive Committee under sub -section ( 3) of section 21;   (e) the composition and the number of members of the District Authority under  sub-section ( 2),  and the powers and functions to be exercised and discharged by the Chief Executive Officer of the  District Authority under s ub-section ( 3) of section 25;   (f) allowances payable to the persons associated with any committee constituted by the District  Authority as experts under sub -section ( 3) of section 28;   (g) any other matter which is to be, or may be, prescribed, or in respect of which provision is to  be made by rules.",
          "P unishment for obstruction, etc.",
          "Payment of compensation.",
          "Constitution of advisory committees and other committees.",
          "Constitution of advisory committee by the State Authority.",
          "Cent ral Government to take measures.",
          "Immunity from legal process.",
          "CHAPTER VII   NATIONAL  INSTITUTEOF  DISASTER  MANAGEMENT   42.",
          ".",
          "Whenever any Committee, Authority or officer referred to in  sub-section ( 1) of section 65,  in pursuance of that section requisitions any premises, there shall be paid to  the persons interested compensation the amount of which shall be determined by taking into consid eration  the following, namely: —  (i) the rent payable in respect of the premises , or if no rent is so payable, the rent payable for  similar premises in the locality;   (ii) if as consequence of the requisition of the premises the person interested is compelled to  change his residence or place of business, the reasonable expenses (if an y) incidental to such change:   Provided that where any person interested being aggrieved by the amount of compensation so  determined makes an application within the thirty days to the Central Government or the State  Government, as the case may be, for refe rring the matter to an arbitrator, the amount of compensation to  be paid shall be such as the arbitrator appointed in this behalf by the Central Government or the State  Government, as the case may be, may determine:   Provided further that where there is an y dispute as to the title to receive the compensation or as to the  apportionment of the amount of compensation, it shall be referred by the Central Government or the State  Government, as the case may be, to an arbitrator appointed in this behalf by the Cen tral Government or  the State Government, as the case may be, for determination, and shall be determined in accordance with  the decision of such arbitrator.",
          "Plans by different authorities at district level and their implement ation.",
          "Offences by Departments of the Government.",
          "Any person associated as an expert with any committee or sub -committee constituted under               sub-section ( 1) may be paid such allowances as may  be prescribed by the State Government.",
          "Offence by companies.",
          "Annual report.",
          ".",
          "Annual report.",
          "The District Plan shall be reviewed and updated annually.",
          "Cognizance of offences.",
          "It shall come into force on such date1 as the Central Government may, by notification in the  Official Gazette appoint; and different dates * may be appointed for different provisions of this Act and  for different States, and any reference to commencement in any provision of this Act in relation  to any  State shall be construed as a reference to the commencement of that provision in that State.",
          "Power of requisition of resources, provisions, vehicles, etc., for rescue operations, etc.",
          "Any person associated as an expert with any sub -committee may be paid such allowances as may  be prescribed by the State Government.",
          "National plan.",
          "CHAPTER X   OFFENCES AND PENALTIES   SECTIONS   51.",
          ".",
          "The State Plan shall be reviewed and updated annually.",
          "Whoever, without reasonable cause —  (a) obstructs any officer or employee of the Central Government or the State Government, or a  person authorised  by the National Authority or State Authority or District Authority in the discharge  of his functions under this Act; or   (b) refuses to comply with any direction given by or on behalf of the Central Government or the  State Government or the National Execu tive Committee or the State Executive Committee or the  District Authority under this Act,   shall on conviction be punishable with imprisonment for a term which may extend to one year or with  fine, or with both, and if such obstruction or refusal to comply with directions results in loss of lives or  imminent danger thereof, shall on conviction be  punishable with imprisonment for a term which may  extend to two years.",
          "Where an offence under this Act has been committed by a co mpany  or body corporate, every person who at the time the offence was committed, was in charge of, and was  responsible to, the company, for the conduct of the business of the company, as well as the company, 25   shall be deemed to be guilty of the contraventio n and shall be liable to be proceeded against and punished  accordingly:   Provided that nothing in this sub -section shall render any such person liable to any punishment  provided in this Act, if he proves that the offence was committed without his knowledge  or that he  exercised due diligence to prevent the commission of such offence.",
          "CHAPTER XI   MISCELLANEOUS   61.",
          "State Plan.",
          "Punishment for false warning .—Whoever makes or circulates a false alarm or warning as to  disaster or its severity or magnitude, leading to panic, shall on conviction, be punishable with  imprison ment which may extend to one year or with fine.",
          "Action taken in good faith.",
          "Constitution of advisory committee by National Authority.",
          "Failure of officer in duty or his connivance at the contravention of the pro visions of this  Act.—Any officer, on whom any duty has been imposed by or under this Act and who ceases or refuses  to perform or withdraws himself from the duties of his office shall, unless he has obtained the express  written permission of his official su perior or has other lawful excuse for so doing, be punishable with  imprisonment for a term which may extend to one year or with fine.",
          "Previous sanction for prosecution .—No prosecution for offences punishable under sections 55  and 56 shall be instituted except with the previous sanction of the Central Government or the State  Government, as the case may be, or of any officer authorised  in this behalf, by general or special order, by  such Government.",
          "Punishment for false claim .—Whoever knowingly makes a claim which he knows or has reason  to believe to be false for obtaining any relief, assistance, repair, reconstruction or oth er benefits  consequent to disaster from any officer of the Central Government, the State Government, the National  Authority, the State Authority or the District Authority, shall, on conviction be punishable with  imprisonment for a term which may extend to two years, and also with fine.",
          "CHAPTER IX   FINANCE, ACCOUNTS AND AUDIT   46.",
          "Whenever any Committee, Authority or officer, referred to in sub -section ( 1) of section 65 in  pursuance of that section requisitions any vehicle, there shall be paid to  the owner thereof compensation  the mount of which shall be determined by the Central Government or the State Government, as the case  may be, on the basis of the fares or rates prevailing in the locality for the hire of such vehicle:  27   Provided that where the owner of such vehicle being aggrieved by the amount of compensation so  determined makes an application within the prescribed time to the Central Government or the State  Government, as the case may be, for referring the matter to an arbitrator, the amount of compensation to  be paid shall be such as the arbitrator appointed in this behalf by the Central Government or the State  Government, as the case may be, may d etermine:   Provided further that where immediately before the requisitioning the vehicle or vessel was by virtue  of a hire purchase agreement in the possession of a person other than the owner, the amount determined  under this sub -section as the total comp ensation payable in respect of the requisition shall be apportioned  between that person and the owner in such manner as they may agree upon, and in default of agreement,  in such manner as an arbitrator appointed by the Central Government or the State Gover nment, as the case  may be, in this behalf may decide.",
          "CHAPTER V   MEASURES BY THE GOVERNMENT FOR DISASTER MANAGEMENT   35.",
          "Bar of jurisdiction of court .—No court (except the Supreme Court or a High Court) shall have  jurisdiction to entertain any suit or proceeding in respect of anything done, action taken, orders made,  direction, instruction or guidelines issued by the Central Government, National Authority, State  Government, State Authority or District Authority  in pursuance of any power conferred by, or in relation  to its functions, by this Act.",
          "There shall be a plan for disaster management for ev ery State to be called the  State Disaster Management Plan.",
          "Copies of the State Plan referred to in sub -sections ( 2) and ( 5) shall be made available to the  Departments of the Government of the State and such Departments shall draw up their own plans in  accordance with the State Plan.",
          "National Plan.",
          "Offences by Departments of the Government.",
          ".",
          "Constitution of advisory c ommittee by the State Authority.",
          "Act to have overriding effect .—The provisions of this Act, shall have effect, notwithstanding  anything inconsistent therewith contained in any other law for the tim e being in force or in any instrument  having effect by virtue of any law other than this Act.",
          "of s. 70, 71, 72,  73, 74, 78, 79], vide  notification N o. S.O.",
          ", 15, 16, 17, 18, 19, 20, 21, 22, 23, 24, 25, 26, 27, 28, 29, 30, 31, 32, 33, 34,  38,  39, 40, 41, 48,   51, 52, 53, 54, 55, 56, 57, 58, 59, 60, 61, 62, 63, 64, 65, 66, 67, 68,  69, sub -sec.",
          "The District Plan shall be prepared by the District Authority, after consultation with the local  authorities and having regard to the National Plan and the State Plan, to be approved by the State  Authority.",
          "Constitution of advisory committees and other committees.",
          "District Plan.",
          "Control, direction, etc.",
          "th July, 2006 (ss.",
          "Every order made under this section shall be laid, as soon as may be after it is made, before each  House of Parliament or the Legislature, as the case may be.",
          "Immunity from legal process .—Officers and employees of the C entral Government, National  Authority, National Executive Committee, State Government, State Authority, State Executive  Committee or District Authority shall be immune from legal process in regard to any warning in respect  of any impending disaster communi cated or disseminated by them in their official capacity or any action  taken or direction issued by them in pursuance of such communication or dissemination.",
          "Short title, extent and commencement.",
          "The members of the advisory committee shall be paid such allowances as may be prescribed by  the Central Government in consultation with the National Authority.",
          "Making or amending rules, etc.,  in certain circumstances.",
          "Where an offence under this Act has been  committed by any Department of the Government, the head of the Department shall be deemed to be  guilty of the offen ce and shall be liable to be proceeded against and punished accordingly unless he  proves that the offence was committed without his knowledge or that he exercised all due diligence to  prevent the commission of such offence.",
          "Punishment for false claim.",
          "Cognizance of offences .—No court shall take cognizance of an offence under this Act ex cept on  a complaint made by —  (a) the National Authority, the State Authority, the Central Government, the State Government,  the District Authority or any other authority or officer authorised  in this behalf by that Authority or  Government, as the case may be; or   (b) any person who has giv en notice of not less than thirty days in the manner prescribed, of the  alleged offence and his intention to make a complaint to the National Authority, the State Authority,  the Central Government, the State Government, the District Authority or any other authority or  officer authorised  as aforesaid.",
          "The members of the advisory committee shall be paid such allowances as may be prescribed by  the State Government.",
          "CHAPTER VI   LOCAL AUTHORITIES   41.",
          "ii).",
          "In particular, and without prejudice to the generality of the foregoing power, such rules may  provide for all or any of t he following matters, namely :—  (a) the composition an d number of the members of the National Authority under sub -section ( 2),  and the term of office and conditions of service of members of the National Authority under                   sub-section ( 4), of section 3;   (b) the allowances to be paid to the membe rs of the advisory committee under sub -section ( 2) of  section 7;   (c) the powers and functions of the Chairperson of the National Executive Committee under                sub-section ( 3) of section 8 and the procedure to be followed by the National Executiv e Committee in  exercise of its powers and discharge of its functions under sub -section ( 4) of section 8;   (d) allowances to be paid to the persons associated with the sub -committee constituted by the  National Executive Committee under sub -section ( 3) of section 9;   (e) the number of members of the National Institute of Disaster Management under sub -section  (2), the term of the office and vacancies among members and the manner of filling such vacancies  under sub -section ( 3) and the manner of constitut ing the Governing Body of the National Institute of  Disaster Management under sub -section ( 4) of section 42;   (f) the manner of constitution of the Force, the conditions of service of the members of the Force,  including disciplinary provisions under sub -section ( 2) of section 44;   (g) the manner in which notice of the offence and of the intention to make a complaint to the  National Authority, the State Authority, the Central Government, the State Government or the other  authority or officer under clause ( b) of section 60;   (h) the form in which and the time within which annual report is to be prepared under section 70;   (i) any other matter which is to be, or may be, prescribed, or in respect of which provision is to be  made by rules.",
          "Any person associated as an expert with any sub -committee may be paid such allowances as may  be prescribed by the Central Government.",
          "CHAPTER V   MEASURES BY THE GOV ERNMENT FOR DISASTER MANAGEMENT   35.",
          "Punishment for obstruction , etc.",
          "E), dated 7th May , 2007;   *17th March, 2008 (ss.",
          "Prohibition against discrimination.",
          "Punishment for misappropriation of money or materials, etc.",
          "Offence by companies.",
          "Prohibition against discrimination .—While providing compensation and relief to the victims of  disaster, there shall be no discrimination on the ground of sex, caste, community, descent or religion.",
          "Making or amending rules, etc., in certain circumstances.",
          "Explanatio n.—In this sub -section, the expression “person interested ” means the person who was in  actual possession of the premises requisitioned under section 65 immediately before the requisition, or  where no person was in such actual possession, the owner of such premises.",
          "S.O.",
          "Punishment for misappropriation of money or materials, etc .—Whoever, being entrusted with  any money or materials, or otherwise being, in custody of, or dominion over, any money or goods, meant  for providing relief in any  threatening disaster situation or disaster, misappropriates or appropriates for his  own use or disposes of such money or mater ials or any part thereof or wil fully compels any other person  so to do, shall on conviction be punishable with imprisonment for a  term which may extend to two years,  and also with fine.",
          "Constitution of advisory committee by National Authority.",
          "Penalty for contravention of any order regarding requisitioning.",
          "It extends to the whole of Indi a.",
          "In this section ,—  (a) “resources” includes men and material resources;   (b) “services” includes facilities;   (c) “premises” means any land, building or part of a building and includes a hut, shed or other  structure or any part thereof;   (d) “vehicle” means any vehicle used or capable of being used for the purpose of transport,  whether propelled by mechanical power or otherwise.",
          "National Disaster Response Fund.",
          "S.O.",
          "No suit or prosecution or other proceeding shall lie in any court  against the Central Government or the National Authority or the State Government or the State Authority  or the District Authority or local authority or any officer or employee of the Central  Government or the  National Authority or the State Government or the State Authority or the District Authority or local  authority or any person working for on behalf of such Government or authority in respect of any work  done or purported to have been done  or intended to be done in good faith by such authority or  Government or such officer or employee or such person under the provisions of this Act or the rules or  regulations made thereunder.",
          "Previous sanction fo r prosecution.",
          "If any difficulty arises in gi ving effect to the provisions of  this Act, the Central Government or the State Government, as the case may be, by notification in the  Official Gazette, make order not inconsistent with the provisions of this Act as may appear to it to be  necessary or exped ient for the removal of the difficulty:   Provided that no such order shall be made after the expiration of two years from the commencement  of this Act.",
          "The copies of the District Plan referred to in sub -sections ( 2) and ( 4) shall be made available to the  Departments of the Government in the district.",
          "The State Authority shall prepare on ce in every year, in such form and at such time as may be  prescribed, an annual report giving a true and full account of its activities during the previous year and  copies thereof shall be forwarded to the State Government and that Government shall cause t he same to  be laid before each House of the State Legislature where it consists of two Houses, or where such  Legislature consists of one House, before that House.",
          "Failure of officer in duty or his connivance at the contravention of the provisions of this Act.",
          "Power to remove difficulties.",
          "Direction to media for communication of warnings, etc.",
          "The National Authority shall prepare once every year, in such form and at  such time as may be prescribed, an annual report giving a true and full account of its act ivities during the  previous year and copies thereof shall be forwarded to the Central Government and that Government shall  cause the same to be laid before both Houses of Parliament within one month of its receipt.",
          "Definitions.",
          "CHAPTER VI  LOCAL AUTHORITIES   41.",
          "CHAPTER X   OFFENCES AND PENALTIES   51.",
          "SECTIONS   27.",
          "Explanation.",
          "Punishment for false warning.",
          ".",
          "E), dated 18th October, 2011, see Gazette of India,  Extraordinary, Part II, sec.",
          "E), dated 17th March, 2008;   *18th October, 2011 (s. 46), vide notification No.",
          "Notwithstanding anything co ntained in sub -section ( 1), where an offence under this Act has been  committed by a Department of the Government and it is proved that the offence has been committed with  the consent or connivance of, or is attributable to any neglect on the part of, any o fficer, other than the  head of the Depar tment, such officer shall be deemed to be guilty of that offence and shall be liable to be  proceeded against and punished accordingly.",
          ", 3, 4, 5, 6, 8, 10, 75, 77, 79), vide notification No.",
          "National Disaster Mitigation Fund.",
          "Disaster management plan of departm ents of State.",
          "CHAPTER IX   FINANCE, ACCOUNTS AND AUDIT   46.",
          "Act to have overriding effect.",
          "OF 2005   [23rd December , 2005 .]",
          "Action taken in good faith.",
          "Power of requisition of resources, provisions, vehicles, etc., for rescue operations, etc.",
          "The National Plan shall be reviewed and updated annually.",
          "Penalty for contravention of any order regarding requisitioning .—If any person contravenes  any order made under section 65, he shall be punishable with imprisonment for a term which may extend  to one year or with fine or with both.",
          "E), dated 28th July, 2006;   *1st August, 2007 [ss.",
          "CHAPTER VII   NATIONAL  INSTITUTEOF  DISASTER  MANAGEMENT   42.",
          "State Plan.",
          "Bar of j urisdiction of court.",
          "Powers to be made available for rescue operations .—Any officer or authority of the Union or a  State, when requested by the National Executive Committee, any State Executive Committee or Distric t  Authority or any person authorised  by such Committee or Authority in this behalf, shall make available to  that Committee or authority or person, such officers and employees as requested for, to perform any of  the functions in connection with the preventi on of disaster or mitigation or rescue or relief work.",
          "The District Authority shall, review from time to time, the implementation of the Plan and issue  such instructions to different departments of the Governm ent in the district as it may deem necessary for  the implementation thereof.",
          "Notwithstanding anything contained in sub -section ( 1), where an offence under this Act has been  committed by a company, and it is proved that the offence was committed with  the consent or connivance  of or is attributable to any neglect on the part of any director, manager, secretary or other officer of the  company, such director, manager, secretary or other officer shall also, be deemed to be guilty of that  offence and shall  be liable to be proceeded against and punished accordingly.",
          "Power to remove difficulties.",
          "Payment of compensation.",
          "CHAPTER XI   MISCELLANEOUS   61.",
          "Plans by different authorities at district level and their implementation.",
          "The District Authority shall send a copy of the District Plan to the State Authority which shall  forward it to the State Government.",
          "The National Authority, the State  Authority, or a District Authority may recommend to the Government to give direction to any authority or  person in control of any audio or audio -visual media or such other means of communication as may be  available to carry any warning or advisories regarding any threatening disaster situation or disaster, and  the said means of communication and media as designa ted shall comply with such direction.",
          "Powers to be made available for rescue operations.",
          ", 45), vide notification No.",
          "The State Plan prepared by the State Executive Committee under sub -section ( 2) shall be  approved by the State Authority.",
          null
         ],
         "marker": {
          "color": "#CFD8DC",
          "opacity": 0.5,
          "size": 5
         },
         "mode": "markers+text",
         "name": "other",
         "showlegend": false,
         "type": "scattergl",
         "x": [
          2.208953380584717,
          6.448052883148193,
          2.7021138668060303,
          0.3504674732685089,
          0.3130490779876709,
          4.592680931091309,
          6.831932067871094,
          7.438107967376709,
          14.843568801879883,
          2.6896965503692627,
          3.2043845653533936,
          6.673253059387207,
          2.1021409034729004,
          6.7052321434021,
          2.6252620220184326,
          14.820731163024902,
          2.5781660079956055,
          2.8717408180236816,
          6.650854587554932,
          4.722186088562012,
          4.106518745422363,
          2.06127667427063,
          2.8869845867156982,
          6.636752128601074,
          14.817323684692383,
          2.720776081085205,
          6.53872537612915,
          6.6440019607543945,
          12.386109352111816,
          2.8973026275634766,
          6.561077117919922,
          5.515314102172852,
          0.32841676473617554,
          6.546319961547852,
          6.7630534172058105,
          6.515336990356445,
          12.363718032836914,
          2.685673236846924,
          7.467926502227783,
          7.011237621307373,
          7.446342945098877,
          2.9409728050231934,
          2.9208080768585205,
          6.668736934661865,
          14.815704345703125,
          0.3534461259841919,
          5.2994303703308105,
          13.893417358398438,
          13.837557792663574,
          3.0922000408172607,
          0.32107385993003845,
          3.0048210620880127,
          5.319872856140137,
          13.752941131591797,
          4.372842788696289,
          4.701022148132324,
          7.5212082862854,
          2.066882371902466,
          5.579660892486572,
          6.5753350257873535,
          6.484353065490723,
          6.673381328582764,
          2.092702627182007,
          12.37257194519043,
          14.817151069641113,
          2.185692310333252,
          2.054474115371704,
          7.4088826179504395,
          6.458897590637207,
          13.732531547546387,
          6.31533670425415,
          6.526140213012695,
          6.710824012756348,
          6.385087490081787,
          5.589216709136963,
          2.838796377182007,
          14.45051097869873,
          6.5299153327941895,
          0.3252103328704834,
          6.652044296264648,
          7.543229579925537,
          3.718078851699829,
          7.349235534667969,
          14.452263832092285,
          6.672428607940674,
          6.783793926239014,
          6.671112060546875,
          3.075711488723755,
          4.1161627769470215,
          6.5734333992004395,
          4.460833549499512,
          5.158533573150635,
          4.089825630187988,
          3.716787099838257,
          12.42252254486084,
          6.624232292175293,
          12.340137481689453,
          14.836512565612793,
          6.542795658111572,
          14.836688995361328,
          13.731903076171875,
          13.768325805664062,
          6.549153804779053,
          13.794193267822266,
          7.367311477661133,
          7.486435890197754,
          12.360936164855957,
          5.439816951751709,
          13.730328559875488,
          5.511167526245117,
          4.108371734619141,
          2.685945510864258,
          6.616871356964111,
          13.738872528076172,
          7.4136223793029785,
          2.936574697494507,
          6.9656572341918945,
          4.077841758728027,
          3.14103627204895,
          6.601590633392334,
          4.46460485458374,
          2.715562343597412,
          12.372143745422363,
          3.195725679397583,
          3.1157565116882324,
          5.190300464630127,
          4.208785057067871,
          13.76511001586914,
          2.9079275131225586,
          6.5725626945495605
         ],
         "y": [
          6.626526355743408,
          0.5956233739852905,
          6.696887969970703,
          4.4812164306640625,
          4.484880447387695,
          4.2404680252075195,
          0.19915135204792023,
          9.651453018188477,
          7.4044084548950195,
          6.682275295257568,
          9.240981101989746,
          -0.3775351345539093,
          6.736940383911133,
          -0.438759446144104,
          9.37155532836914,
          7.384957313537598,
          9.376001358032227,
          9.319502830505371,
          -0.4294813573360443,
          3.3778438568115234,
          5.337353706359863,
          6.788100719451904,
          9.630017280578613,
          -0.35479068756103516,
          7.382431507110596,
          9.379694938659668,
          0.460896760225296,
          -0.10335323959589005,
          7.328930854797363,
          9.614439964294434,
          0.6082214713096619,
          2.521454095840454,
          4.486062526702881,
          0.22676244378089905,
          -0.1546226590871811,
          0.6435067057609558,
          7.308690071105957,
          6.676926612854004,
          9.668437004089355,
          0.09370000660419464,
          9.666772842407227,
          8.966117858886719,
          9.67466926574707,
          -0.3649994730949402,
          7.38140869140625,
          4.527122497558594,
          2.7135672569274902,
          6.992038726806641,
          6.9175872802734375,
          9.21783447265625,
          4.502007007598877,
          9.48438835144043,
          6.409139633178711,
          6.692617416381836,
          3.240104913711548,
          6.238296985626221,
          7.551615238189697,
          6.772171974182129,
          2.339663028717041,
          -0.13620562851428986,
          0.7085016965866089,
          -0.003379751229658723,
          6.747307777404785,
          7.276136875152588,
          7.382589817047119,
          6.540227890014648,
          6.776642322540283,
          9.627694129943848,
          0.7721635103225708,
          6.664587020874023,
          0.9976077079772949,
          0.7166856527328491,
          -0.4504777193069458,
          0.9037191867828369,
          2.3230788707733154,
          6.607396602630615,
          7.206430912017822,
          0.7571272253990173,
          4.498359203338623,
          0.43001240491867065,
          7.482465744018555,
          6.617566108703613,
          9.589242935180664,
          7.215807914733887,
          0.03262649103999138,
          -0.14060130715370178,
          0.5581442713737488,
          9.115038871765137,
          3.2728376388549805,
          0.24961227178573608,
          4.680541515350342,
          6.5475921630859375,
          3.3154571056365967,
          6.581298351287842,
          7.35399055480957,
          -0.3026699423789978,
          7.338324546813965,
          7.399855136871338,
          0.693056583404541,
          7.398001670837402,
          6.677126407623291,
          6.767933368682861,
          -0.0931674912571907,
          6.927184104919434,
          9.59580135345459,
          9.708318710327148,
          7.3074049949646,
          2.5943655967712402,
          6.671350955963135,
          2.5154409408569336,
          5.335941791534424,
          9.386087417602539,
          0.392788827419281,
          6.688014984130859,
          9.62352180480957,
          9.665362358093262,
          0.050679463893175125,
          5.6339802742004395,
          9.173089027404785,
          -0.07557760179042816,
          4.688241004943848,
          6.70426607131958,
          7.311717510223389,
          9.272249221801758,
          9.19748592376709,
          6.497095108032227,
          5.223137378692627,
          6.964968204498291,
          8.953709602355957,
          5.130177021026611
         ]
        },
        {
         "hoverinfo": "text",
         "hovertext": [
          "The District Authority shall act as the district  planning, coordinating and implementing body for disaster management and take all measures for the  purposes of disaster management in the district in accordance with the guidelines laid down by the  National Aut hority and the State Authority.",
          "Disas ter management plans of Ministries  or Departments of Government of India.",
          "The State Plan shall include, —  (a) the vulnerability of different parts of the State to different forms of disasters;   (b) the measures to be adopted for prevention and mitigation of disasters;   (c) the manner in which the mitigation measures shall be integrated with the development plans  and projects;   (d) the capacity -building and preparedness measures to be taken;   (e) the roles and responsibilities of each Department of the Government of the State in relation to  the measures specified in clauses ( b), (c) and ( d) above;   (f) the roles and responsibilities of different Departments of the Government of the State in  responding to any threatening disaster situation or disaster.",
          "Every department of the State Government shall furnish an implementation status report to the  State Executive Committee regarding the implementation of the disaster management plan referred to in  sub-section ( 1).",
          "Establishm ent of funds by State Government .",
          "CHAPTER III   STATE  DISASTER MANAGEMENT  AUTHORITY   14.",
          "Copies of the National Plan referred to in sub -sections ( 2) and ( 4) shall be made available to the  Ministries or Dep artments of the Government of India and such Ministries or Departments shall draw up  their own plans in accordance with the National Plan.",
          "Guidelines for minimum standards of relief.",
          "Where by reason of any threatening disaster  situation or disaster, the National Authority or the State Authority or the District Authority is satisfied that  immediate procurement of provisions or materials or the immediate application of resources are n ecessary  for rescue or relief ,—  (a) it may authoris e the concerned department or authority to make the emergency procurement  and in such case, the standard procedure requiring inviting of tenders shall be deemed to be waived;   (b) a certificate about utilis ation of pr ovisions or materials by the controlling officer authorised  by  the National Authority, State Authority or District Authority, as the case may be, shall be deemed to  be a valid document or voucher for the purpose of accounting of emergency, procurement of s uch  provisions or materials.",
          "Control, direction, etc .—The general superintendence, direction and control of the Force shall  be vested and exercised by the National Authority and the command and supervision of the Force sh all  vest in an officer to be appointed by the Central Government as the Director General of the National  Disaster Response Force.",
          "Establishment of Nationa l Disaster Management Authority.",
          "CHAPTER II   THE NATIONAL  DISASTER  MANAGEMENT  AUTHORITY   3.",
          "CHAPTER III   STATE DISASTER  MANAGEMENT  AUTHORITIES   14.",
          "Subject to the directions of the District Auth ority, a local  authority shall —  (a) ensure that its officers and employees are trained for disaster management;   (b) ensure that resources relating  to disaster management are so maintained as to be readily  available for use in the event of any threatening dis aster situation or disaster;   (c) ensure all construction projects under it or within its jurisdiction conform to the standards and  specifications laid down for prevention of disasters and mitigation by the National Authority, State  Authority and the District Authority;   (d) carry out relie f, rehabilitation and reconstruction activities in the affected area in accordance  with the State Plan and the District Plan.",
          "Powers and functions of State Executive Committee in the event of threatening disas ter  situation.—For the purpose of, assisting and protecting the community affected by disaster or providing  relief to such community or, preventing or combating disruption or dealing with the effects of any  threatening disaster situation, the  State Executi ve Committee may —  (a) control and restrict, vehicular traffic to, from or within, the vulnerable or affected area;   (b) control and restrict the entry of any person into, his movement within and departure from, a  vulnerable or affected area;   (c) remove de bris, conduct search and carry out rescue operations;   (d) provide shelter, food, drinking water, essential provisions, healthcare and services in  accordance with the standards laid down by the National Au thority and State Authority;   (e) give direction to the concerned Department of the Government of the State, any District  Authority or other authority, within the local limits of the State to take such measure or steps for  rescue, evacuation or providing immediate relief saving lives or property, as may be necessary in its  opinion;   (f) require any department of the Government of the State or any other body or authority or  person in charge of any relevant resources to make available the resources for the purposes of  emergency response, rescue and relief;   (g) require experts and consultants in the field of disasters to provide advice and assistance for  rescue and relief;   (h) procure exclusive or preferential use of amenities from any authority or person as and when  required;    13   (i) construct temporary bridges  or other necessary structures and demolish unsafe structures  which may be hazardous to public;   (j) ensure that non -governmental organisation s carry out their activities in an equitable  and non - discriminatory manner;   (k) disseminate information to public to deal with any threatening disaster situation or disaster;   (l) take such steps as the Central Government or the State Government may direct in this regard  or take such other steps as are required or warranted by the form of any threatening disaster situation  or disaster.",
          "Responsibilities of departments of the State Government.",
          "Every Ministry or Department of  the Government of India shall —  (a) prepare a disaster management plan specifying the following particulars, n amely:—  (i) the measures to be taken by it for prevention and mitigation of disasters in accordance  with the National Plan;   (ii) the specifications regarding integration of mitigation measures in its development plans in  accordance with the guidelines of the National Authority and the National Executive Committee;   (iii) its roles and responsibilities in relation to preparedness and capacity -building to deal with  any threatening disaster situation or disaster;   (iv) its roles and responsibilities in regard to promptly and effectively responding to any  threatening disaster situation or disaster;  19   (v) the present status of its preparedness to perform the roles and responsibilities specified in  sub-clauses ( iii) and ( iv);   (vi) the measures required to be taken in order to  enable it to perform its responsibilities  specified in sub -clauses ( iii) and ( iv);   (b) review and update annually the plan referred to in clause ( a);   (c) forward a copy of the plan referred to in clause ( a) or clause ( b), as the case may be, to the  Cent ral Government which Government shall forward a copy thereof to the National Authority for its  approval.",
          "Requisition by the District Authority .—The District Authority may by order require any officer  or any Department at the district level or any local authority to take such measures for the prevention or  mitigation of disaster, or to effectively respond to it, as may be necessary, and such office r or department  shall be bound to carry out such order.",
          "Without prejudice to the generality of provisions contained in sub -section (1), the State Authority  may—  (a) lay down the State disaster management policy;   (b) approve the State Plan in accordance with the guidelines laid down by the National Authority;   (c) approve the disaster management plans prepared by the departments of the Government of the  State;   (d) lay down guidelines to be followed by the departments o f the Government of the State for the  purposes of integration of measures for prevention of disasters and mitigation in their development  plans and projects and provide necessary technical assistance therefor;   (e) coordinate the implementation of the State Plan;   (f) recommend provision of funds for mitigation and preparedness measures;   (g) review the development plans of the different departments of the State and ensure that  prevention and mitigation measures are i ntegrated therein;   (h) review the measures being taken for mitigation, capacity building and preparedness by the  departments of the Government of the State and issue such guidelines as may be necessary.",
          "Constitution of D istrict Disaster Management Authority.",
          "Short title, extent and commencement .—(1) This Act may be called the  Disaster Management  Act, 2005.",
          "CHAPTER IV   DISTRICT  DISASTER  MANAGEMENT  AUTHORI TY  25.",
          "CHAPTER I V  DISTRICT  DISASTER MANAGEMEN T A UTHORITY     25.",
          "Establishment of State Disaster Management Authority.",
          "Responsibilities of Ministries  or Departments of Government of India.",
          "Constitution of District Disaster Management Authority .—(1) Every State Government shall,  as soon as may be after issue of notification under sub -section ( 1) of section 14, by notification in the  Official Gazette, establish a District Disaster Management Authority for every district in the State with  such name as may be specified in that notification.",
          "Notwithstanding anything contained in any   other law for the time being in force, it shall be lawful for the Central Government to issue direction in  writing to the Ministries or Departments of the Government of India, or the National Executive  Committee or the State Government, State Authority, S tate Executive Committee, statutory bodies or any  of its officers or employees, as the case may be, to facilitate or assist in the disaster management and such  Ministry or Department or Government or Authority, Executive Committee, statutory body, officer or  employee shall be bound to comply with such direction.",
          "Subject to the provisions of this Act, the  National Authority shall have the responsibility for laying down the policies, plans and guidelines for  disaster management for ensuring tim ely and effective response to disaster.",
          "Every office of the  Government of India and of the State Government at the district level and the l ocal authorities shall,  subject to the supervisi on of the District Authority, —  (a) prepare a disaster management plan set ting out the following, namely: —  (i) provisions for prevention and mitigation measures as provided for in the District Plan and  as is a ssigned to the department or agency concerned;   (ii) provisions for taking measures relating to capacity -building and preparedness as laid  down in the District Plan;   (iii) the response plans and procedures, in the event of, any threatening disaster situat ion or  disaster;   (b) coordinate the preparation and the implementation of its plan with those of the other  organisation s at the district level including local authority, communities and other stakeholders;   (c) regularly review and update the plan; and   (d) submit a copy of its disaster management plan, and of any amendment theret o, to the District  Authority.",
          "With effect from such date as the Central  Government may, by notification in the Official Gazette appoint in this behalf, there shall be constituted  an institute to be called  the National Institute of Disaster Management.",
          "Responsibilities of departments of the State Government .—It shall be the responsibility of  every department o f the Government of a State to—  (a) take measures necessary for prevention of disasters, mitigation, preparedness and capacity - building in accordance with the guidelines laid down by the National Autho rity and the State  Authority;   (b) integrate into its development plans and projects, the measures for prevention of disaster and  mitigation;   (c) allocate funds for prevention of disaster, mitigation, capacity -building and preparedness;   (d) respond effectively and promptly to any threatening disaster situation or disaster in  accordance with the State Plan, and in accordance with the guidelines or directions of the National  Executive Committee and the State Executive Committee;   (e) review the enactments administered by it, its policies, rules and regulations with a view to  incorp orate therein the provisions necessary for prevention of disasters, mitigation or preparedness;   (f) provide assistance, as required, by the National Executive Committee, the State Executive  Committe e and District Authorities, for —  (i) drawing up mitigation, preparedness and response plans, capacity -building, data collection  and identification and training of personnel in relation to disaster management;   (ii) assessing the damage from any disaster;   (iii) carrying out rehabilitation and reconstruction;   (g) make provision for resources in consultation with the State Authority for the implementation  of the District Plan by its authorities at the district level;   (h) make available its resources to the Nationa l Executive Committee or the State Executive  Committee or the District Authorities for the purposes of responding promptly and effectively to any  disaster in the  State, including measures for —  (i) providing emergency communication with a vulnerable or affe cted area;   (ii) transporting personnel and relief goods to and from the affected area;   (iii) providing evacuation, rescue, temporary shelter or other immediate relief;   (iv)  carrying out evacuation of persons or live -stock from an area of any threatenin g disaster  situation or disaster;   (v) setting up temporary bridges, jetties and landing places;   (vi)providing drinking water, essential provisions, healthcare and services in an affected area;   (i) such other actions as may be necessary for disaster mana gement.",
          "The District Plan shall include —  (a) the areas in the district vulnerable to different forms of disasters;   (b) the measures to be taken, for prevention and mitigation of disaster, by the Departments of the  Government at the district level and local authorities in the district;  16   (c) the capaci ty-building and preparedness measures required to be taken by the Departments of  the Government at the district level and the local authorities in the district to respond to any  threatening disaster situation or disaster;   (d) the response plans and proced ures, in the eve nt of a disaster, providing for —  (i) allocation of responsibilities to the Departments of the Government at the district level and  the local authorities in the district;   (ii) prompt response to disaster and relief thereof;   (iii) procuremen t of essential resources;   (iv) establishment of communication link s; and   (v) the dissemination of information to the public;   (e) such other matters as may be required by the State Authority.",
          "Guidelines for minimum standards of relief .—The National Authority shall recommend  guidelines for the minimum st andards of relief to be provided to persons affected by  disaster, which shall  include,—  (i) the minimum requirements to be provided in the relief camps in relation to shelter, food,  drinking water, medical cover and sanitation;   (ii) the special provisions  to be made for widows and orphans;  9   (iii) ex gratia  assistance on account of loss of life as also assistance on account of damage to  houses and for restoration of means of livelihood;   (iv) such other relief as may be necessary.",
          "State Government to take measures .—(1) Subject to the provisions of this Act, each State  Government shall take all measures specified in the guidelines laid down by the National Authority and  such further measures as it deems necessary or expedient, for the purpose of disaster management.",
          "The term of office of, and vacancies among, members of the Natio nal Institute of Disaster  Management and manner of filling such vacancies shall be such as may be prescribed.",
          "The  State Government shall ens ure that the funds established —  (i) under clause ( a) of sub -section (1) is available to the State Executive Committee;   (ii) under sub -clause ( c) of sub -section ( 1) is available to the State Authority;   (iii) under clauses ( b) and ( d) of sub -section ( 1) are available to the District Authority.",
          "Allocation of funds by Ministries and Departments.",
          "CHAPTER VIII   NATIONAL  DISASTER  RESPONSE  FORCE   44.",
          "THE DISASTER MANAGEMENT ACT, 2005   ACT NO.",
          "The measures which the State Government may take under sub -section ( 1) include measures with  respect to all or any of the following matters, namely: —  (a) coordination of actions of different departments of the Government of the State, the State  Authority, District Authorities, local authority and other non -governmental organisation s;   (b) cooperation and assistance in the disaster management to the National Authority and National  Executive Committee, the State Authority and the State Executive Committee, and the District  Authorities;   (c) cooperation with, and assistance to, the Ministries or Departments of the Government of India  in disaster management, as r equested by them or otherwise deemed appropriate by it;   (d) allocation of funds for measures for prevention of disaster, mitigation, capacity -building and  preparedness by the departments of the Government of the State in accordance with the provisions of  the State Plan and the District Plans;   (e) ensure that the integration of measures for prevention of disaster or mitigation by the  departments of the Government of the State in their development plans and projects;   (f) integrate in the State development plan, measures to reduce or mitigate the vulnerability of  different parts of the State to different disasters;   (g) ensure the preparation of disaster management plans by different departments of the State in  accordance with the guidelines laid down by the  National Authority and the State Authority;   (h) establishment of adequate warning systems up to the level of vulnerable communities;   (i) ensure that different departments of the Government of the State and the District Authorities  take appropriate prepa redness measures;   (j) ensure that in a threatening disaster situation or disaster, the resources of different departments  of the Government of the State are made available to the National Executive Committee or the State  Executive Committee or the Distric t Authorities, as the case may be, for the purposes of effective  response, rescue and relief in any threatening disaster situation or disaster;   (k) provide rehabilitation and reconstruction assistance to the victims of any disaster; and   (l) such other ma tters as it deems necessary or expedient for the purpose of securing effective  implementation of provisions of this Act.",
          "Every Ministry or Department of  the Government of India shall —  (a) make, while preparing disaster management plan under clause ( a) of sub -section (1),  provisions for financing the activities specified therein;   (b) furnish a status report regarding the implementation of the plan referred to in clause ( a) of  sub-section ( 1) to the National Authority, as and when required by it.",
          "The National Disaster Mitigation Fund shall be applie d by the National Authority.",
          "The National Institute of Disaster Management shall consist of such number of members as may  be prescribed by the Central Government.",
          "There shall be a governing body of the National Institute of Disaster Management which shall be  constituted by the Central Government from am ongst the members of the National Institute of Disaster  Management in such manner as may be prescribed.",
          "Establishment of State Disaster Management Authority.",
          "The provisions of sub -section ( 1) shall, mutatis mutandis , apply to departments of the Government  of the State.",
          "Guidelines for minimum standard of  relief by State Authority .—The State Authority shall lay  down detailed guidelines for providing standards of relief to persons affected by disaster in the State:   Provided that such standards shall in no case be less than the minimum standards in the guid elines  laid down by the National Authority in this regard.",
          "Emergency procurement and accounting.",
          "CHAPTER II   THE NATIONAL  DISASTER  MANAGEMENT  AUTHORITY   3.",
          "The National Plan shall include —  (a) measures to be taken for the prevention of disasters, or the mitigation of their effects;   (b) measures to be taken for the integration of mitigation measures in the develo pment plans;   (c) measures to be taken for preparedness and capacity building to effectively respond to any  threatening disaster situations or disaster;   (d) roles and responsibilities of different Ministries or Departments of the Government of India in  respect of measures specified in clauses ( a), (b) and ( c).",
          "Every rule made by the Central  Government and every regulation made by the National Institute of Disaster Management under this Act  shall be laid, as soon as may be after it is made, before each House of Parliament, while it is in session,  for a total peri od of thirty days which may be comprised of one session or in two or more successive  sessions, and if, before the expiry of the session immediately following the session or the successive  sessions aforesaid, both Houses agree in making any modification in the rule or regulation or both Houses  agree that the rule or regulation should not be made, the rule or regulation shall thereafter have effect only 29   in such modified form or be of no effect, as the case may be; so, however, that any such modification or  annulment shall be without prejudice to the validity of anything previously done under that rule or  regulation.",
          "Whenever any resource, prem ises or vehicle is requisitioned under sub -section ( 1), the period of  such requisition shall not extend beyond the period for which such resource, premises or vehicle is  required for any of the purposes mentioned in that sub-section.",
          "An Act to provide for the effective management of disasters and for matters connected therewith  or incidental thereto.",
          "National Disaster Response Fund .—(1) The Central Government may, by notification in the  Official Gazette, constitute a fund to be called the National Disaster Response Fund for meeting any  threatening disaster situation or disaster and there shall be credited thereto —  (a) an amount which th e Central Government may, after due appropriation made by Parliament  by law in this behalf provide;   (b) any grants that may be made by any person or institution for the purpose of disaster  management.",
          "The Central Government may extend such support to other countries affected by major disaster as  it may de em appropriate.",
          "Without prejudice to the generality of the provisions of sub -section ( 1), the District Authority  may—  (i) prepare a di saster management plan including district response plan for the district;   (ii) coordinate and monitor the implementation of the National Policy, State Policy, National  Plan, State Plan and District Plan;   (iii) ensure that the areas in the district vulner able to disasters are identified and measures for the  prevention of disasters and the mitigation of its effects are undertaken by the departments of the  Government at the district level as well as by the local authorities;   (iv) ensure that the guidelines for prevention of disasters, mitigation of its effects, preparedness  and response measures as laid down by the National Authority and the State Authority are followed  by all departments of the Government at the district level and the local authorities in t he district;   (v) give directions to different authorities at the district level and local authorities to take such  other measures for the prevention or mitigation of disasters as may be necessary;   (vi) lay down guidelines for prevention of disaster manag ement plans by the department of the  Government at the districts level and local authorities in the district;   (vii) monitor the implementation of disaster management plans prepared by the Departments of  the Government at the district level;   (viii) lay do wn guidelines to be followed by the Departments of the Government at the district  level for purposes of integration of measures for prevention of disasters and mitigation in their  development plans and projects and provide necessary te chnical assistance th erefor;   (ix) monitor the implementation of measures referred to in clause ( viii);   (x) review the state of capabilities for responding to any disaster or threatening disaster situation  in the district and give directions to the relevant departments or auth orities at the district level for  their up gradation as may be necessary;   (xi) review the preparedness measures and give directions to the concerned departments at the  district level or other concerned authorities where necessary for bringing the prepared ness measures  to the levels required for responding effectively to any disaster or threatening disaster situation;   (xii) organise  and coordinate specialis ed training programmes for different levels of officers,  employees and voluntary rescue workers in the district;   (xiii) facilitate community training and awareness programmes for prevention of disaster or  mitigation with the support of local authorities, governmental and non -governmental organisation s;    15   (xiv) set up, maintain, review and upgrade the mechanism for early warnings and dissemination of  proper information to public;   (xv) prepare, review and update district level response plan and guidelines;   (xvi) coordinate response to any threatening disaster situation or disaster;   (xvii) ensure that the Departments of the Government at the district level and the local authorities  prepare their response plans in accordance with the district response plan;   (xviii) lay down guidelines for, or give direction to, the concerned Department of the Government  at the district level or any other authorities within the local limits of the district to take measures to  respond effectively to any threatening disaster si tuation or disaster;   (xix) advise, assist and coordinate the activities of the Departments of the Government at the  district level, statutory bodies and other governmental and non -governmental organisation s in the  district engaged in the disaster management;   (xx) coordinate with, and give guidelines to, local authorities in the district to ensure that  measures for the prevention or mitigation of threatening disaster situation or disaster in the district ar e  carried out promptly and effectively;   (xxi) provide necessary technical assistance or give advise to the local authorities in the district  for carrying out their functions;   (xxii) review development plans prepared by the Departments of the Government a t the district  level, statutory authorities or local authorities with a view to make necessary provisions therein for  preventio n of disaster or mitigation;   (xxiii) examine the construction in any area in the district and, if it is of the opinion that the  standards for the prevention of disaster or mitigation laid down for such construction is not being or  has not been followed, may direct the concerned authority to take such action as may be necessary to  secure compliance of such standards;   (xxiv) identify  buildings and places which could, in the event of any threatening disaster situation  or disaster, be used as relief centers or camps and make arrangements for water supply and sanitation  in such buildings or places;   (xxv) establish stockpiles of relief a nd rescue materials or ensure preparedness to make such  materials available at a short notice;   (xxvi) provide information to the State Authority relating to different aspects of disaster  management;   (xxvii ) encourage the involvement  of non -governmental organisation s and voluntary social - welfare institutions working at the grassroots level in the district for disaster management;   (xxviii ) ensure communication systems are in order, and disaster management drills are carried  out periodically;   (xxix) perform such other functions as the State Government or State Authority may assign to it or  as it deems necessary for disaster management in the District.",
          "Emergency procurement and accounting.",
          "vii) evacuation, rescue and relief;   (viii) rehabilitation and reconstruction;   (f) “District Authority ” means the District Disaster Management Authority constituted under sub - section ( 1) of section 25;   (g) “District Plan ” means the plan for disaster management  for the district prepared under section  31;   (h) “local authority ” includes panchayati raj institutions, municipalities, a district board,  cantonment board, town planning authority or Zila Parishad or any other body or authority, by  whatever name called, for the time being invested by law, for rendering essential services or, with the  control and management of civic services, within a specified local area;   (i) “mitigation” means measures aimed at reducing the risk, impact or effects of a disaster or  threatening disaster situation;   (j) “National Authority ” means the National Disaster Management Authority established under  sub-section ( 1) of section 3;   (k) “National Executi ve Committee ” means the Executive Committee of the National Authority  constituted under sub -section ( 1) of section 8;   (l) “National Plan ” means the plan for disaster management for the whole of the country prepared  under section 11;   (m) “preparedness ” means the state of readiness to deal with a threatening disaster situation or  disaster and the effects thereof;   (n) “prescribed” means prescribed by rules made under this Act;   (o) “reconstruction ” means construction or restoration of any property after a d isaster;   (p) “resources” includes manpower, services, materials and provisions;   (q) “State Authority ” means the State Disaster Management Authority established under sub - section ( 1) of section 14 and includes the Disaster Management Authority for the Union territory  constituted under that section;   (r) “State Executive Committee ” means the Executive Committee of a State Authority constituted  under sub -section ( 1) of section 20;   (s) “State Government ” means the Department of Government of the State having administrative  control of disaster management and includes Administrator of the Union territory appointed by the  President under article 239 of the Constitution;   (t) “State Plan ” means the plan for disaster management for the whole of the State prepared under  section 23.",
          "Without prejudice to the generality of the provisions of sub -section ( 1), the State Executive  Committee may —  (a) coordinate and monitor the implementation of the National Policy, the National Plan and the  State Plan;   (b) examine the vulnerability of diffe rent parts of the State to different forms of disasters and  specify measures to be taken for their prevention or mitigation;   (c) lay down guidelines for preparation of disaster management plans by the departments of the  Government of the State and the Dis trict Authorities;   (d) monitor the implementation of disaster management plans prepared by the departments of the  Government of the State and District Authorities;   (e) monitor the implementation of the guidelines laid down by the State Authority for inte grating  of measures for prevention of disasters and mitigation by the departments in their dev elopment plans  and projects;   (f) evaluate preparedness at all governmental or non -governmental levels to respond to any  threatening disaster situation or disaster  and give directions, where necessary, for enhancing such  preparedness;   (g) coordinate response in the event of any threatening disaster situation or disaster;   (h) give directions to any Department of the Government of the State or any other authority or   body in the State regarding actions to be taken in response to any threatening disaster situation or  disaster;   (i) promote general education, awareness and community training in regard to the forms of  disasters to which different parts of the State are v ulnerable and the measures that may be taken by  such community to prevent the disaster, mitigate and respond to such disaster;   (j) advise, assist and coordinate the activities of the Departments of the Government of the State,  District Authorities, statut ory bodies and other governmental and non -governmental organisation s  engaged in disaster management;   (k) provide necessary technical assistance or give advice to District Authorities and local  authorities for carrying out their functions effectively;   (l) advise the State Government regarding all financial matters in relation to disaster  management;   (m) examine the construction, in any local area in the State and, if it is of the opinion that the  standards laid for such construction for the prevention of disaster is not being or has not been  followed, may direct the District Authority or the local authority, as the case may be, to take such  action as may be necessary to secure compliance of such standards;   (n) provide information to the National Authority  relating to different aspects of disaster  management;   (o) lay down, review and update State level response plans and guidelines and ensure that the  district level plans are prepared, reviewed and updated;   (p) ensure that communication systems are in ord er and the disaster management drills are carried  out periodically;   (q) perform such other functions as may be assigned to it by the State Authority or as it may  consider necessary.",
          "Without prejudice to generality of the provisions contained in sub -section ( 1), the National  Authority may —  (a) lay down policies on disaster management;   (b) approve the National Plan;   (c) approve plans prepared by the Ministries or Departments of the Government of India in  accordance with the National Plan;   (d) lay down guidelines to be followed by the State Authorities in drawing up the State Plan;   (e) lay down guidelines to be followed b y the different Ministries or Departments of the  Government of India for the purpose of integrating the measures for prevention of disaster or the  mitigation of its effects in their development plans and projects;   (f) coordinate the enforcement and implem entation of the policy and plan for disaster  management;   (g) recommend provision of funds for the purpose of mitigation;   (h) provide such support to other countries affected by major disasters as may be determined by  the Central  Government;   (i) take such other measures for the prevention of disaster, or the mitigation, or preparedness and  capacity building for dealing with the threatening disaster situation or disaster as it may consider  necessary;   (j) lay down broad policies and guidelines for t he functioning of the National Institute of Disaster  Management.",
          "CHAPTER VIII   NATIONAL  DISASTER  RESPONSE  FORCE   44.",
          "A State Authori ty may, as  and when it considers necessary, constitute an advisory committee, consisting of experts in the field of  disaster management and having practical experience of disaster management to make recommendations  on different aspects of disaster manageme nt.",
          "Subject to the provisions of this Act, a State  Authority shall have the responsibil ity for laying down policies and plans for disas ter management in the  State.",
          "The National Executive Com mittee shall consist of the following members, namely: —  (a) the Secretary to the Government of India in charge of the Ministry or Department of the  Central Government having administrative control of the disaster management, who shall be  Chairperson, ex of ficio;   (b) the Secretaries to the Government of India in the Ministries or Departments having  administrative control of the agriculture, atomic energy, defence, drinking water supply, environment  and forests, finance (expenditure), health, power, rural de velopment, science and technology, space,  telecommunication, urban development, water resources and the Chief of the Integrated Defence Staff  of the Chiefs of Staff Committee, ex officio .",
          "Relief in loan repayment, etc.",
          "Direction to media  for communication of warnings, etc.",
          "Until the regulations are made under this section, the Central Government may make such  regulations; and any regulation so made may be altered or rescinded by the National Institute of Disaster  Management in exercise of its powers.",
          "Officers and other employees of the National Institute .—The Central Government shall  provide the National Institute of Disaster Management with such officers, consultants and other  employees, as it considers necessary, for  carrying out its functions.",
          "Every Ministry or Department of the  Government of India shall make provisions, in its annual budget, for funds for the purposes of carrying  out the activities and programmes set out in its disaster management plan.",
          "There shall be drawn up a plan for disaster management for the whole of the  country to be ca lled the National Plan.",
          "The National Authority may  constitute an advisory committee consisting of experts in the field of disaster management and having  practical experience of disaster management at the national, State or district level to make  recommendations on different asp ects of disaster management.",
          "Guide lines for minimum standard of relief by State Authority.",
          "District Plan .—(1) There shall be a plan for disaster management for every district of the State.",
          "Without prejudice to the generality of the provisions contained in sub -section ( 1), the Nat ional  Executive Committee may —  (a) act as the coordinating and monitoring body for disast er management;   (b) prepare the National Plan to be approved by the National Authority;   (c) coordinate and monitor the implementation of the National Policy;   (d) lay down guidelines for preparing disaster management plans by different Ministries or  Departments of the Government of India and the State Authorities;   (e) provide necessary technical assistance to the State Governments and the State Authorities for  prepa ring their disaster management plans in accordance with the guidelines laid down by the  National Authority;   (f) monitor the implementation of the National Plan and the plans prepared by the Ministries or  Departments of the Government of India;   (g) monito r the implementation of the guidelines laid down by the National Authority for  integrating of measures for prevention of disasters and mitigation by the Ministries or Departments in  their development plans and projects;    8   (h) monitor, coordinate and give d irections regarding the mitigation and preparedness measures to  be taken by different Ministries or Departments and agencies of the Government;   (i) evaluate the preparedness at all governmental levels for the purpose of responding to any  threatening disas ter situation or disaster and give directions, where necessary, for  enhancing such  preparedness;   (j) plan and coordinate specialis ed training programme for disaster management for different  levels of officers, employees and voluntary rescue workers;   (k) coordinate response in the event of any threatening disaster situation or disaster;   (l) lay down guidelines for, or give directions to, the concerned Ministries or Departments of the  Government of India, the State Governments and the State Authorities rega rding measures to be taken  by them in response to any threatening disaster situation or disaster;   (m) require any department or agency of the Government to make available to the National  Authority or State Authorities such men or material resources as are  available with it for the purposes  of emergency response, rescue and relief;   (n) advise, assist and coordinate the activities of the Ministries or Departments of the Government  of India, State Authorities, statutory bodies, other governmental or non -gove rnmental organisation s  and others engaged in disaster management;   (o) provide necessary technical assistance or give advice to the State Authorities and District  Authorities for carrying out their functions under this Act;   (p) promote general education a nd awareness in relation to disaster management; and   (q) perform such other functions as the National Authority may require it to perform.",
          "Appropriate provisions shall be made by the Central Government for financing the measures to be  carried out under the National Plan.",
          "National Institute of Disaster Management.",
          "Allocation of funds by  Ministries  and Departments.",
          "THE DISASTER MANAGEMENT ACT, 2005   ____________   ARRAGEMENT OF SECTIONS   _________ ___  CHAPTER I   PRELIMINARY     SECTIONS   1.",
          "In particular and without prejudice to the generality of the provisions of sub -section (1), the  measures which the Central Government may take under that sub -section include measures with respect  to all or any of the following matters, namely :—  (a) coordination of actions of the Ministries or Departments of the Government of India, State  Governments, National Authority, State Authorities, governmental and non -governmental  organisation s in relation to disaster management;   (b) ensure the integration of measures for prevention of disasters and mitigation by Ministries or  Departments of the G overnment of India into their development plans and projects;   (c) ensure appropriate allocation of funds for prevention of disaster, mitigation, capacity -building  and preparedness by the Ministries or Departments of the Government of India;   (d) ensure th at the Ministries or Departments of the Government of India take necessary measures  for preparedness to promptly and effectively respond to any threatening disaster situation or disaster;   (e) cooperation and assistance to State Governments, as requested b y them or otherwise deemed  appropriate by it;   (f) deployment of naval, military and air forces, other armed forces of the Union or any other  civilian personnel as may be required for the purposes of this Act;   (g) coordination with the United Nations agencies, international organisation s and governments  of foreign countries for the purposes of this Act;   (h) establish institutions for research, training, and developmental programmes in the field of  disaster managemen t;   (i) such other matters as it deems necessary or expedient for the purpose of securing effective  implementation of the provisions of this Act.",
          "If  it appears to the National Executive Committee, State Executive Committee or District Authority or any  officer as may be authorised  by it in t his behalf that —  (a) any resources with any authority or person are needed for the purpose of prompt response;   (b) any premises are needed or likely to be needed for the purpose of rescue operations; or   (c) any vehicle is needed or is likely to be needed for the purposes of transport of' resources from  disaster affected areas or transport of resources to the affected area or transport in connection with  rescue, rehabilitation or reconstruction,   such authority  may, by order in writing, requisition such resources or premises or such vehicle, as the case  may be, and may make such further orders as may appear to it to be necessary or expedient in connection  with the requisitioning.",
          "Definitions .—In this Act, unless t he context otherwise requires, —  (a) “affected area ” means an area or part of the country affected by a disaster;   (b) “capacity -building” includes—  (i) identification of existing resources and resources to be acquired or created;   (ii) acquiring or creating resources identified under sub -clause ( i);   (iii) organis ation and training of personnel and coordination of such training for effective  management of disasters;   (c) “Central Government ” means the Ministry or Department of the Government of India having  administrative control of disaster management;   (d) “disaster” means a catastrophe, mishap, calamity or grave occurrence in any area, arising from  natural or man made causes, or by accident or negligence which results in substantial loss of life or  human suffering or damage to, an d destruction of, property, or damage to, or degradation of,  environment, and is of such a nature or magnitude as to be beyond the coping capacity of the  community of the affected area;   (e) “disaster management ” means a continuous and integrated process of planning, organising,  coordinating and implementing measures which are necessary or expedient for —  (i) prevention of danger or threat of any disaster;   (ii) mitigation or reduction of risk of any disaster or it s severity or consequences;   (iii) capacity -building;   (iv) preparedness to deal with any disaster;   (v) prompt response to any threatening disaster situation or disaster;   (vi) assessing the severity or magnitude of effects of any disaster;                                                               1.",
          "Subject to the provisions of this  Act, if it appears to the National Executive Committee, State Executive Committee or the District  Author ity, as the case may be, that provisions of any rule, regulation, notification, guideline, instruction,  order, scheme or bye -laws, as the case may be, are required to be made or amended for the purposes of  prevention of disasters or the mitigation thereof,  it may require the amendment of such rules, regulation,  26   notification, guidelines, instruction, order, scheme or bye -laws, as the case may be, for that purpose, and  the appropriate department or authority shall take necessary action to comply with the req uirements.",
          "The governing body of the National Institute of Disaster Management shall exercise such powers  and discharge such functions as may be prescribed by  regulations.",
          "With effect from such date as  the Central Government may, by notification in the Official Gazette appoint in this behalf, there shall be  established for the purposes of this Act, an authority to be known as the National Disaster Management  Authority.",
          "National Disaster Response Force.",
          "The National Authority may, in cases of disasters of severe  magnitude, recommend relief in repayment of loans or for grant of fresh loans to the persons affected by  disaster on such concessional terms as may be appropriate.",
          "Disaster management plan of departments of State .—(1) Every department of the State  Government, in conformity with the guidelines laid down  by the State Authority, shall —  (a) prepare a disaster management plan which shall lay down the following : —  (i) the types of disasters to which different parts of the State are vulnerable;   (ii) integration of strategies for the prevention of disaster or the mitigation of its effects or  both with the development plans and programmes by the department;   (iii) the roles and responsibilities of the department of the State in the event of any  threateni ng disaster situation or disaster and emergency support function it is required to perform;   (iv) present status of its preparedness to perform such roles or responsibilities or emergency  support function under sub -clause ( iii);  21   (v) the capacity -building and preparedness measures proposed to be put into effect in order to  enable the Ministries or Departments of the Government of India to discharge their  responsibilities under section 37;   (b) annually review and update the plan referred to in clause ( a); and   (c) furnish a copy of the plan referred to in clause ( a) or clause ( b), as the case may be, to the  State Authority.",
          "Disaster management plans of Ministries or Depar tments of Government of India.",
          "Relief in loan repayment, etc.",
          "Every State Government shall,  as soon as may be after the issue of the notification under sub -section ( 1) of section 3, by notification in  the Official Gazette, establish a State Disaster Management Authority for the State with such name as  may be specified in the notification of the State Government.",
          "Responsibilities of Ministries or Dep artments of Government of India.",
          "Subject to the provisions of this Act, the National Institute of Disaster Management shall function  within the broad policies and guidelines laid down by the National Authority and be responsible for  planning and promoting training and rese arch in the area of disaster management, documentation and  development of national level information base relating to disaster management policies, prevention  mechanisms and mitigation measures.",
          "The National Disaster Response Fund shall be made  available to the National Executive  Committee to be applied towards meeting the expenses for emergency response, relief and rehabilitation  in accordance with the guidelines laid down by the Central Government in consultation with the National  Authority.",
          "The local authority may take such other measures as may be necessary for the disaster  management.",
          "Without prejudice to the generality of the provisions contained in sub -section ( 8), the National  Institute, for the di scharge of its functions, may —  (a) develop training modules, undertake research and documentation in disaster management and  organise  training programmes;   (b) formulate and implement a compre hensive human resource development plan covering all  aspects of disaster management;   (c) provide assistance in national level policy formulation;   (d) provide required assistance to the training and research institutes for development of training  and rese arch programmes for stakeholders including Government functionaries and undertake  training of faculty members of the State level training institutes;   (e) provide assistance to the State Governments and State training institutes in the formulation of  State  level policies, strategies, disaster management framework and any other assistance as may be  required by the State Governments or State training institutes for capacity -building of stakeholders,  Government including its functionaries, civil society member s, corporate sector and people's elected  representatives;   (f) develop educational materials for disaster management including academic and professional  courses;   (g) promote awareness among stakeholders including college or school teachers and students,  technical personnel and others associated with multi -hazard mitigation, preparedness and response  measures;   (h) undertake, Organise  and facilitate study courses, conferences, lectures, seminars within and  outside the country to promote the aforesaid object s;   (i) undertake and provide for publication of journals, research papers and books and establish and  maintain libraries in furtherance of the aforesaid objects;   (j) do all such other lawful things as are conducive or incidental to the attainment of the above  objects; and   (k) undertake any other function as may be assigned to it by the Central Government.",
          "Subject to the provisions of this Act, the Central  Government shall take all such measures as it deems necessary or expedient for the purpose of disaster  management.",
          "For the purpose of assisting, protecting or providing relief to the community, in respon se to  any threatening disaster situation or disast er, the District Authority may —  (a) give directions for the release and use of resources available with any Department of the  Government and the local authority in the district;   (b) control and restrict vehicular traffic to, from and within, the vulnerable or affected area;  17   (c) control and restrict the entry of any person into, his movement within and departure from, a  vulnerable or affected area;   (d) remove debris, conduct search an d carry out rescue operations;   (e) provide shelter, food, drinking water and essential provisions, healthcare and services;   (f) establish emergency communication systems in the affected area;   (g) make arrangements for the disposal of the unclaimed dead bodies;   (h) recommend to any Department of the Government of the State or any authority or body under  that Government at the district level to take such measures as are necessary in its opinion;   (i) require experts and consultants in the relevant fields to advise and assist as it may deem  necessary;   (j) procure exclusive or preferential use of amenities from any authority or person;   (k) construct temporary bridges or other necessary structures and demolish structures which may  be hazardous to public or aggravate the effects of the disaster;   (l) ensure that the non -governmental organisation s carry out their activities in an equitable and  non-discriminatory manner;   (m) take such other steps  as may be required or warranted  to be taken in such a situation.",
          "Establishment of funds by S tate Government .—(1) The State Government shall, immediately  after notifications issued for constituting the State Authority and the District Authorities, establish for the  purposes of this Ac t the following funds, namely: —  (a) the fund to be called the State Disaster Response Fund;   (b) the fund to be called the District Disaster Response Fund;   (c) the fund to be called the State Disaster Mitigation Fund;   (d) the fund to be called the District Disaster Mitigation Fund.",
          "Every department of the State Government, while preparing the plan under sub -section ( 1), shall  make provisions for financing the a ctivities specified therein.",
          "The State Plan shall be prepared by the State Executive Committee having regard to the guidelines  laid down by the National Authority and after such consultation with local  authorities, distr ict authorities  and the people's representatives as the State Executive Committee may deem fit.",
          "National Disaster Response Force .—(1) There shall be constituted a National Disaster  Response Forc e for the purpose of specialist response to a threatening disaster situation or disaster.",
          "The National Plan shall be prepared by the National Executive Committee having regard to the  National Policy and in consultation with the State Governments and expert bodies or organisation s in the  field of disaster management to be approved by the National Authority.",
          "Appropriate provisions shall be made by the State Government for financing for the measures to  be carried out under the State Plan.",
          "Establishment of National Disaster Management Authority.",
          "National Institute of Disaster Management.",
          "National Disaster Mitigation Fund .—(1) The Central Government may, by notification in the  Official Gazette, constitute a Fund to be called the National Disaster Mitigation Fund for projects  exclusively for the purpose of mitigation and there shall be c redited thereto such amount which the  Central Government may, after due appropriation made by Parliament by law in this behalf, provide.",
          "It shall be the  responsibility of every Ministry or Department of  the Government of India  to—  (a) take measures necessary for prevention of disasters, mitigation, preparedness and capacity - building in accordance with the guidelines laid down by the National Authority;   (b) integrate into its development plans and projects, the measures for prevention or  mitigation of  disasters in accordance with the guidelines laid down by the National Authority;   (c) respond effectively and promptly to any threatening disaster situation or disaster in  accordance with the guidelines of the National Authority or the direc tions of the National Executive  Committee in this behalf;   (d) review the enactments administered by it, its policies, rules and regulations, with a view to  incorporate therein the provisions necessary for prevention of disasters, mitigation or preparednes s;   (e) allocate funds for measures for prevention of disaster, mitigation, capacity -building and  preparedness;   (f) provide assistance to the National Autho rity and State Governments for —  (i) drawing up mitigation, preparedness and response plans, capacit y-building, data collection  and identification and training of personnel in relation to disaster management;   (ii) carrying out rescue and relief operations in the affected area;   (iii) assessing the damage from any disaster;   (iv) carrying out rehabilitat ion and reconstruction;   (g) make available its resources to the National Executive Committee or a State Executive  Committee for the purposes of responding promptly and effectively to any threatening disaster  situation or di saster, including measures for —  (i) providing emergency communication in a vulnerable or affected area ;   (ii) transporting personnel and relief goods to and from the affected area;   (iii) providing evacuation, rescue, temporary shelter or other immediate relief;   (iv) setting up temporary bridges, jetties and landing places;   (v) providing, drinking water, essential provisions, healthcare, and services in an affected  area;   (h) take such other actions as it may consider necessary for disaster management.",
          null
         ],
         "marker": {
          "opacity": 0.5,
          "size": 5
         },
         "mode": "markers+text",
         "name": "0_of disaster management_disaster management_threatening disaster situation",
         "text": [
          "",
          "",
          "",
          "",
          "",
          "",
          "",
          "",
          "",
          "",
          "",
          "",
          "",
          "",
          "",
          "",
          "",
          "",
          "",
          "",
          "",
          "",
          "",
          "",
          "",
          "",
          "",
          "",
          "",
          "",
          "",
          "",
          "",
          "",
          "",
          "",
          "",
          "",
          "",
          "",
          "",
          "",
          "",
          "",
          "",
          "",
          "",
          "",
          "",
          "",
          "",
          "",
          "",
          "",
          "",
          "",
          "",
          "",
          "",
          "",
          "",
          "",
          "",
          "",
          "",
          "",
          "",
          "",
          "",
          "",
          "",
          "",
          "",
          "",
          "",
          "",
          "",
          "",
          "",
          "",
          "",
          "",
          "",
          "",
          "",
          "",
          "",
          "",
          "",
          "",
          "",
          "",
          "",
          "",
          "",
          "",
          "",
          "",
          "",
          "",
          "",
          "",
          "",
          "",
          "",
          "",
          "",
          "0_of disaster management_disaster management_threatening disaster situation"
         ],
         "textfont": {
          "size": 12
         },
         "type": "scattergl",
         "x": [
          4.519015312194824,
          4.086861610412598,
          4.665164470672607,
          4.734147071838379,
          3.510350227355957,
          7.42829704284668,
          3.10876727104187,
          5.452613830566406,
          7.771948337554932,
          6.33885383605957,
          6.894020080566406,
          7.167065143585205,
          7.344710350036621,
          4.484990119934082,
          4.236336708068848,
          3.9424688816070557,
          4.367315292358398,
          4.29735803604126,
          4.821316719055176,
          6.829887866973877,
          7.471336841583252,
          7.246405601501465,
          7.354343414306641,
          6.873357772827148,
          3.90376615524292,
          6.1328816413879395,
          4.325531482696533,
          5.2939772605896,
          4.310015678405762,
          6.343989372253418,
          4.786957263946533,
          4.434897422790527,
          5.466150283813477,
          5.100937843322754,
          6.583069324493408,
          3.038517475128174,
          3.615206480026245,
          7.244032859802246,
          7.430123805999756,
          4.32602596282959,
          3.875002861022949,
          6.733694076538086,
          6.5020952224731445,
          6.461493015289307,
          6.873249053955078,
          3.1358208656311035,
          5.447793960571289,
          7.780218601226807,
          7.190029621124268,
          4.509774208068848,
          5.764542579650879,
          3.5346670150756836,
          7.435288906097412,
          6.780776023864746,
          7.285242080688477,
          4.502929210662842,
          7.786172866821289,
          4.418956279754639,
          4.811997413635254,
          4.529902458190918,
          7.218597412109375,
          7.02935266494751,
          4.989925861358643,
          1.6180654764175415,
          7.400003433227539,
          5.1570892333984375,
          5.791719436645508,
          6.436952590942383,
          3.80993390083313,
          4.986769676208496,
          6.68898344039917,
          5.4820356369018555,
          4.487817764282227,
          4.476408004760742,
          3.123955249786377,
          6.679851055145264,
          3.6355185508728027,
          7.444557189941406,
          4.404341697692871,
          4.133222579956055,
          4.529845714569092,
          5.665096282958984,
          5.87012243270874,
          6.178520202636719,
          6.653207778930664,
          7.177643775939941,
          4.4226202964782715,
          4.197488307952881,
          7.410049915313721,
          6.169850826263428,
          3.934922456741333,
          5.75802755355835,
          6.820035934448242,
          5.1535515785217285,
          5.428836822509766,
          5.375258922576904,
          4.235435962677002,
          6.707027912139893,
          3.137282609939575,
          3.131298065185547,
          6.634721279144287,
          5.148301124572754,
          3.097438097000122,
          6.867343902587891,
          6.644331932067871,
          6.774580955505371,
          4.478425025939941,
          5.469523906707764
         ],
         "y": [
          7.281950950622559,
          8.038930892944336,
          7.776541233062744,
          7.80964469909668,
          8.32082748413086,
          8.641569137573242,
          8.987366676330566,
          8.662077903747559,
          8.5350923538208,
          7.499124050140381,
          8.342212677001953,
          8.504975318908691,
          8.638650894165039,
          7.069986820220947,
          6.321532249450684,
          7.895657539367676,
          8.150516510009766,
          6.560807704925537,
          7.866537094116211,
          8.417816162109375,
          7.923018455505371,
          8.446490287780762,
          8.266688346862793,
          8.354208946228027,
          7.962085723876953,
          7.75898551940918,
          8.129739761352539,
          7.526283264160156,
          7.893584251403809,
          7.576745986938477,
          7.874752044677734,
          7.500183582305908,
          8.66854190826416,
          7.367269039154053,
          7.779923439025879,
          7.858612060546875,
          8.373287200927734,
          8.519340515136719,
          8.037713050842285,
          7.935973167419434,
          8.280136108398438,
          9.184680938720703,
          7.678494930267334,
          7.651249885559082,
          8.361762046813965,
          8.014789581298828,
          8.642295837402344,
          8.53333854675293,
          8.472735404968262,
          8.290383338928223,
          7.232662200927734,
          7.150315761566162,
          7.9719390869140625,
          9.15905475616455,
          9.422089576721191,
          7.737168312072754,
          8.532328605651855,
          7.731550216674805,
          7.853848457336426,
          8.190390586853027,
          8.472945213317871,
          8.448258399963379,
          7.358465671539307,
          3.9506540298461914,
          8.744033813476562,
          6.539219856262207,
          7.271590709686279,
          7.583212852478027,
          8.295642852783203,
          7.669369220733643,
          8.413661003112793,
          8.678909301757812,
          7.429412841796875,
          8.191235542297363,
          8.263962745666504,
          7.960286617279053,
          8.342979431152344,
          8.047471046447754,
          8.12450885772705,
          6.459238529205322,
          8.231894493103027,
          7.191161632537842,
          7.344653129577637,
          7.513575077056885,
          8.17907428741455,
          8.934269905090332,
          8.028131484985352,
          8.06380558013916,
          8.758301734924316,
          7.7830681800842285,
          7.967828750610352,
          7.613180160522461,
          9.123034477233887,
          7.202889442443848,
          7.868858814239502,
          7.311999320983887,
          6.483365058898926,
          9.192216873168945,
          8.1296968460083,
          9.003826141357422,
          8.310270309448242,
          7.709839344024658,
          8.23241138458252,
          8.35040283203125,
          8.021211624145508,
          9.167566299438477,
          8.232586860656738,
          7.994024753570557
         ]
        },
        {
         "hoverinfo": "text",
         "hovertext": [
          "Meetings of the State Authority .—(1) The State Authority shall meet as and when necessary  and at such time and place as the Chairperson of the State Authority may think fit.",
          "The District Authority shall consist of the Chairpers on and such number of other members, not  exceeding seven, as may be prescribed by the State Government, and unless the rules otherwise provide,  it shall con sist of the following, namely: —  (a) the Collector or District Magistrate or Deputy Commissioner, as the case may be, of the  district who shal l be Chairperson, ex officio ;   (b) the elected representative of the local authority who shall be the co -Chairperson, ex officio :   Provided that in the Tribal Areas, as referred to in the Sixth Schedule to the Const itution, the  Chief Executive Member of the district council of autonomous district, shall be the co -Chairperson,  ex officio ;   (c) the Chief Executive Officer of the District Authority, ex officio ;   (d) the Superintendent of Police, ex officio ;   (e) the Chief Medical Officer of the district, ex officio ;   (f) not exceeding two other district level officers, to be appointed by the State Government.",
          "In any district where zila parishad exists, the Chairperson thereof shall be the co -Chairperson of  the District Authority.",
          "The Chairperson of the National Authority shall, in the case of emergency, have power to exercise  all or any of the powers of the National Authority but exercise of such powers shall be subject to ex post  facto  ratification by the National Authority.",
          "The District Authority or the Chairperson of the District Authority may, by general or special  order, in writing, delegate such of its or his powers and functions, under sub -section ( 1) or ( 2), as the case  may be, to the Chief Executive Officer of the  District Authority, subject to such conditions and  limitations, if any, as it or he deems fit.",
          "Powers and functions of National Authority.",
          "Powers and functions of District Authority in the event of any threatening disaster situation or  disaster.",
          "A State Authority shall consist of the Chairperson a nd such number of other members, not  exceeding nine, as may be prescribed by the State Government and, unless the rules otherwise provide,  the State Authority shall consist of the following members, namely: —  (a) the Chief Minister of the State, who shall be Chairperson, ex officio ;   (b) other members, not exceeding eight, to be nominated by the Chairp erson of the State  Authority;   (c) the Chairperson of the State Executive Committee, ex officio .",
          "Powers and functions of District Authority in the event of any threatening disaster situation  or disaster.",
          "Meetings of National Authority .—(1) The National Authority shall meet as and when necessary  and at such time and place as the Chairperson of the National Authority may think fit.",
          "Every rule made by the State Government under this Act shall b e laid, as soon as may be after it is  made, before each House of the State Legislature where it consists of two Houses, or where such  Legislature consists of one House before that House.",
          "The Chairperson of the State Executive Committee shall be the Chief Executive Officer of the  State Authority, ex officio :   Provided that in the case of a Union territory having Legislative Assembly, except the Union territory  of Delhi, the Chief Minister shall be the Chairperson of the Authority established under this section and in  case of other Uni on territories, the Lieutenant Governor or the Administrator shall be the Chairperson of  that Authority:   Provided further that the Lieutenant Governor of the Union territory of Delhi shall be the Chairperson  and the Chief Minister thereof shall be the Vic e-Chairperson of the State Authority.",
          "Constitution of sub -committees.",
          "Appointment of officers and other employees of District Authority.",
          "The Cent ral Government shall,  immediately after issue of notification under sub -section ( 1) of section 3, constitute a National Executive  Committee to assist the National Authority in the performance of its functions under this Act.",
          "The State Government may, by notification in  the Official Gazette, make rules to carry out the p rovisions of this Act.",
          "Officers and other employees of the National Institute.",
          "Rules and regulations to be laid before Parliament.",
          "State Government to take measures.",
          "The procedure to be followed in exercise of its powers and discharge of its functions by the  governing body, and the term of office of, and the manner of filling vacancies among the members of the  governing body, shall be such as may be prescribed by regulations.",
          "The Chairperso n of the State Authority may designate one of the members nominated under  clause ( b) of sub -section ( 2) to be the Vice -Chairperson of the State Authority.",
          "Functions of the local authority.",
          "The National Authority shall consist of the Chairperson and such number of other members, not  exceeding nine, as may be prescribed by the Central Government and, unless the rules otherwise provide,  the National Authority s hall consist of the following: —  (a) the Prime Minister of India, who shall be the Chairperson of the National Authority,                        ex officio ;    6   (b) other members, not exceeding nine, to be nominated by the Chairperson of the National  Authority.",
          "The State Executive  Committee may, as and when it considers necessary, constitute one or more sub -committees, for efficient  discharge of its functions.",
          "Power of State Government to make rules.",
          "The State G overnment  shall provide the State Authority with such officers, consultants and employees, as it considers necessary,  for carrying out the functions of the State Authority.",
          "Powers and functions of National Executive Committee.",
          "BE it enacted by Parliament in the Fifty -sixth Year of the  Republic of India as follows: —  CHAPTER I   PRELIMINARY   1.",
          "Power to make regulations.",
          "Delegation of powers.",
          "Rules and regulations to be laid before Parliament.",
          "Subject to the provisions of this Act, the Force shall be constituted in such manner and, the  conditions of service of the members of the Force, including discip linary provisions therefore, be such as  may be prescribed.",
          "Powers and functions of District Authority.",
          "Powers of Chairperson of District Authority.",
          "For the purpose of this section —  (a) “company” means any body corporate and includes a firm or other association of individuals;  and   (b) “director”, in relation to a firm, means a partner in the firm.",
          "Constitution of National Executive Committee.",
          "Powers and functions of State Executive  Committee in the event of threatening disaster situation.",
          "Constitution of State Executive Committee.",
          "The procedure to be followed by the National Executive Committee in exercise of its powers and  discharge of its functions shall be such as may be prescrib ed by the Central Government.",
          "The State Executive Committee shal l, from amongst its members, appoint the Chairperson of the  sub-committee referred to in sub -section ( 1).",
          "Meetings.",
          "Power of Central Government to make rules.",
          "Meetings .—The District Authority shall meet as and when necessary and at such time and place  as the Chairperson may think fit.",
          "The Chairperson of the District Authority shall, in the case of an emergency, have power to  exercise all or any of the powers of the District Authority but the exercise of such powers shall be subject  to ex post facto  ratification of the District Authority.",
          "The Chairperson of the National Executive Committee may invite any other officer of the Central  Government or a State Government for taking part in any meeting of the National Executive Committee  and shall exercise such powers and perform such functions as may be prescribed by the Central  Government in consultation wi th the National Authority.",
          "The State Government shall appoint an officer not below the rank of Additional Collector or  Additional District Magistrate or Additional Deputy Commissioner, as the case may be, of the district to  be the Chief Executive Officer of  the District Authority to exercise such powers and perform such  functions as may be prescribed by the State Government and such other powers and functions as may be  delegated to him by the District Authority.",
          "Powers and functions of National Authority.",
          "Meetings of National Authority.",
          "Constitution of State Executive Committee.",
          "Meetings of the State Authority.",
          "Requisition by the District Authority.",
          "The Chairperson of the Na tional Authority may designate one of the members nominated under  clause ( b) of sub -section ( 2) to be the Vice -Chairperson of the National Authority.",
          "The Chairperson of the National Autho rity shall preside over the meetings of the National  Authority.",
          "The Chairperson of the State Executive Committee shall exercise such powers and perform such  functions as may be prescribed by the State Government and such other power s and functions as may be  delegated to him by the State Authority.",
          "The term of office and conditions of service of members of the National Authority shall  be such as  may be prescribed.",
          "Authentication of orders or decisions .—Every order or decision of the National Authority or  the National Executive Committee, the State Authority, or the State Executive Committee or the District  Authority, shall be authenticated by such officers  of the National Authority or the National Executive  Committee or, the State Executive Committee, or the District Authority, as may be authorised  by it in this  behalf.",
          "Powers and functions of National Executive Committee .—(1) The National Executive  Committee shall assist the National Authority in the discharge of its functions and have the responsibility  for implementing the policies and plans of the National Authority and ensure the compliance of directions  issued by the Cen tral Government for the purpose of disaster management in the country.",
          "Powers and functions of State Authority.",
          "Power to issue di rection by Central Government .",
          "Constitution of sub -committees by State Executive Committee.",
          "The term of office and conditions of service of members of the State Authority shall be such as  may be prescribed.",
          "Powe r of Central Government to make  rules.",
          "Appointment of officers and other employees of the National Authority .—The Central  Government shall provide the National Authority with such officers, consultants and employees, as it  considers necessary for carrying out the functions of the  National Authority.",
          "If for any reason the Chairperson of the National Authority is unable to attend any meeting of the  National Authority, the Vice -Chairperson of the National Authority shall preside over th e meeting.",
          "Powers and functions of State Authority.",
          "Constitution of National Executive Committee.",
          "Power to make regu lations .—(1) The National Institute of Disaster Management, with the  previous approval of the Central Government may, by notification in the Official Gazette, make  regulations consistent with this Act and the rules made thereunder to carry o ut the purposes  of this Act.",
          "Delegation of powers .—The National Executive Commi ttee, State Executive Committee, as the  case may be, by general or special order in writing, may delegate to the Chairperson or any other member  or to any officer, subject to such conditions and limitations, if any, as may be specified in the order, such  of its powers and functions under this Act as it may deem necessary.",
          "The Central Government may, by  notification in  the Official Gazette, make rules for carrying out the purposes of this Act.",
          "Functions of the local authority.",
          "The District Authority may,  as and when it considers necessary, constitute one or more advisory committees and other committees for  the efficien t discharge of its functions.",
          "Power of St ate Government to make rules.",
          "Appointment of officers and oth er employees of State Authority.",
          "Appointment of officers and other employees of District Authority .—The State Government  shall provide the District Authority with such officers, consultants and other employees as it considers  necessary for carr ying out the functions of District Authority.",
          "Constitution of sub -committee s by State Executive Committee.",
          "The District Authority shall, from amongst its members, appoint the Chairperson of the  Committee referred to in sub -section ( 1).",
          "Appointment of officers and other employees of the National Authority.",
          "The State Executive Committee shall consist of the following memb ers, namely: —  (a) the Chief Secretary to the State Government, who shall  be Chairperson, ex officio ;  (b) four Secretaries to the Government o f the State of such departments as the State Government  may think fit, ex officio .",
          "Powers of Ch airperson of District Authori ty.—(1) The Chairperson of the District Authority  shall, in addition to presiding over the meetings of the District Authority, exercise and discharge such  powers and functions of the District Authority as the District Authority may delegate to him.",
          "Functions of the State Executive Committee.",
          "The State Government shall, immediately  after issue of notification under sub -section ( 1) of section 14, constitute a State Executive Committee to  assist the State Authority in the performance of its functions and to coordinate action in accordance with  the guidelines laid down by the State Authority and ensure the compliance of directions is sued by the  State Government under this Act.",
          "The National Executive Committee shall, from amongst its members, appoint the Chairperson of  the sub -committee referred to in sub -section ( 1).",
          "The National Executive Committee may, as and when it  considers necessary, constitute one or more sub -committees, for the efficient discharge of its functions.",
          "Appointment of officers and other employees of State Authority.",
          "Power to issue direction by Central Government.",
          "Constitution of sub -committee s.  10.",
          "The Chairperson of the State Authority shall, i n the case of emergency, have power to exercise all  or any of the powers of the State Authority but the exercise of such powers shall be subject to                    ex post facto  ratification of the State Authority.",
          "The Chairperson of the State Authority shall preside over the meetings of the State Authority.",
          "In particular, and without prejudice to the generality of the foregoing power, such regulations may  provide for all or any of the following matters, namely: —  (a) powers and functions to be exercised and discharged by the governing body;   (b) procedure to be followed by the governing body in exercise of the powers and discharge of its  functions;   (c) any other matter for which under this Act provision may be made by the regulations.",
          "The procedure to be followed by the State Executive Committee in exercise of its powers and  discharge of its functions shall be such as may be prescribed by the State Government.",
          "Functions of the State Executive Committee .—(1) The State Executive Committee shall have  the responsibility for implementing the National Plan and State Plan and act as the coordinating and  monitoring body for management of disaster in the State.",
          "If for any r eason, the Chairperson of the State Authority is unable to attend the meeting of the  State Authority, the Vice -Chairperson of the State Authority shall preside at the meeting.",
          "Authentication of orders of decisions.",
          "Powers and functions of District Authority.",
          "Central Government to take measure s.  36.",
          null
         ],
         "marker": {
          "opacity": 0.5,
          "size": 5
         },
         "mode": "markers+text",
         "name": "1_chairperson of the_the chairperson of_chairperson of",
         "text": [
          "",
          "",
          "",
          "",
          "",
          "",
          "",
          "",
          "",
          "",
          "",
          "",
          "",
          "",
          "",
          "",
          "",
          "",
          "",
          "",
          "",
          "",
          "",
          "",
          "",
          "",
          "",
          "",
          "",
          "",
          "",
          "",
          "",
          "",
          "",
          "",
          "",
          "",
          "",
          "",
          "",
          "",
          "",
          "",
          "",
          "",
          "",
          "",
          "",
          "",
          "",
          "",
          "",
          "",
          "",
          "",
          "",
          "",
          "",
          "",
          "",
          "",
          "",
          "",
          "",
          "",
          "",
          "",
          "",
          "",
          "",
          "",
          "",
          "",
          "",
          "",
          "",
          "",
          "",
          "",
          "",
          "",
          "",
          "",
          "",
          "",
          "",
          "",
          "",
          "",
          "",
          "",
          "",
          "",
          "",
          "1_chairperson of the_the chairperson of_chairperson of"
         ],
         "textfont": {
          "size": 12
         },
         "type": "scattergl",
         "x": [
          2.102996826171875,
          2.583726167678833,
          2.2796530723571777,
          3.493527889251709,
          2.7716896533966064,
          3.824781894683838,
          3.4203834533691406,
          1.8143491744995117,
          3.3938658237457275,
          2.149404764175415,
          4.384405136108398,
          1.7744581699371338,
          0.7746195197105408,
          2.7047884464263916,
          2.3911736011505127,
          4.7376627922058105,
          2.661285638809204,
          4.317294120788574,
          5.399265289306641,
          3.5750741958618164,
          1.8237324953079224,
          3.370708465576172,
          1.9264479875564575,
          2.064312219619751,
          4.59268045425415,
          2.7975425720214844,
          2.2341766357421875,
          4.466521263122559,
          4.562253475189209,
          3.7153267860412598,
          4.37847900390625,
          3.457636833190918,
          3.3293352127075195,
          2.9363605976104736,
          2.5625128746032715,
          0.7470237612724304,
          2.9291484355926514,
          0.7766103744506836,
          2.420287609100342,
          1.7060009241104126,
          2.172288417816162,
          4.606638431549072,
          2.1179733276367188,
          3.3442444801330566,
          2.3481037616729736,
          2.6936068534851074,
          3.8022842407226562,
          2.295775890350342,
          0.7538031339645386,
          2.3398380279541016,
          3.295567750930786,
          1.8421941995620728,
          1.9962424039840698,
          2.5516488552093506,
          3.4045228958129883,
          2.863699436187744,
          2.4672300815582275,
          3.74471378326416,
          4.537178993225098,
          0.8680163025856018,
          3.251526117324829,
          4.6195197105407715,
          2.7560582160949707,
          2.026448965072632,
          3.760867118835449,
          0.7806404829025269,
          4.774217128753662,
          2.8077521324157715,
          4.741237640380859,
          3.3979690074920654,
          2.1350209712982178,
          4.595691204071045,
          2.7128732204437256,
          2.8648717403411865,
          0.7956638932228088,
          2.1183900833129883,
          2.683433771133423,
          1.5878933668136597,
          2.9780235290527344,
          2.1891696453094482,
          2.3935916423797607,
          1.8370774984359741,
          2.0296385288238525,
          2.7678165435791016,
          4.537997245788574,
          0.7558534145355225,
          3.4267385005950928,
          1.990965485572815,
          4.01558780670166,
          2.4539167881011963,
          2.3810741901397705,
          1.9801111221313477,
          3.009580373764038,
          3.339407444000244,
          4.620935916900635,
          2.8475229740142822
         ],
         "y": [
          3.299302816390991,
          3.8122947216033936,
          3.9423468112945557,
          4.48756742477417,
          4.211446762084961,
          4.371626853942871,
          5.133035182952881,
          3.674751043319702,
          5.0897369384765625,
          3.3261072635650635,
          3.2752513885498047,
          3.688524007797241,
          4.370466709136963,
          3.343125581741333,
          5.0006489753723145,
          3.517303943634033,
          3.3915212154388428,
          3.295823812484741,
          2.879167318344116,
          3.5497307777404785,
          3.7802672386169434,
          5.024893283843994,
          3.5926730632781982,
          4.649823188781738,
          4.034049987792969,
          3.3532888889312744,
          4.8094868659973145,
          3.251068115234375,
          4.1437087059021,
          4.450483322143555,
          3.236034870147705,
          3.435126543045044,
          5.010272026062012,
          4.451305389404297,
          3.5858683586120605,
          4.48538875579834,
          5.177284240722656,
          4.510975360870361,
          4.45164155960083,
          4.091521263122559,
          3.2467381954193115,
          4.071693420410156,
          3.3542604446411133,
          4.5612359046936035,
          4.041008949279785,
          3.7745659351348877,
          4.368744373321533,
          3.1677968502044678,
          4.478122234344482,
          3.1334047317504883,
          5.602604866027832,
          3.756417751312256,
          3.329564332962036,
          4.353860378265381,
          3.454587459564209,
          4.204374313354492,
          4.893525123596191,
          4.448712348937988,
          4.26843786239624,
          4.367960453033447,
          3.4089174270629883,
          4.0984296798706055,
          3.3943259716033936,
          3.365312337875366,
          4.433899402618408,
          4.497653484344482,
          4.83170223236084,
          4.231631278991699,
          3.577596426010132,
          5.065124988555908,
          4.585512638092041,
          4.068151473999023,
          3.3035969734191895,
          3.4922077655792236,
          4.4117302894592285,
          3.9867119789123535,
          3.370636463165283,
          3.8924734592437744,
          4.464620113372803,
          4.89329195022583,
          5.005995750427246,
          4.235584735870361,
          4.609764575958252,
          3.2971975803375244,
          4.176748752593994,
          4.362389087677002,
          4.518398761749268,
          3.4067323207855225,
          3.4533424377441406,
          4.554205417633057,
          5.028262615203857,
          3.3847599029541016,
          4.1905622482299805,
          5.0037713050842285,
          4.205326557159424,
          4.0723066329956055
         ]
        }
       ],
       "layout": {
        "annotations": [
         {
          "showarrow": false,
          "text": "D1",
          "x": 0.2660917162895203,
          "y": 5.323258569836616,
          "yshift": 10
         },
         {
          "showarrow": false,
          "text": "D2",
          "x": 8.668097919225692,
          "xshift": 10,
          "y": 11.16456651687622
         }
        ],
        "height": 750,
        "shapes": [
         {
          "line": {
           "color": "#CFD8DC",
           "width": 2
          },
          "type": "line",
          "x0": 8.668097919225692,
          "x1": 8.668097919225692,
          "y0": -0.5180493772029877,
          "y1": 11.16456651687622
         },
         {
          "line": {
           "color": "#9E9E9E",
           "width": 2
          },
          "type": "line",
          "x0": 0.2660917162895203,
          "x1": 17.070104122161865,
          "y0": 5.323258569836616,
          "y1": 5.323258569836616
         }
        ],
        "template": {
         "data": {
          "bar": [
           {
            "error_x": {
             "color": "rgb(36,36,36)"
            },
            "error_y": {
             "color": "rgb(36,36,36)"
            },
            "marker": {
             "line": {
              "color": "white",
              "width": 0.5
             },
             "pattern": {
              "fillmode": "overlay",
              "size": 10,
              "solidity": 0.2
             }
            },
            "type": "bar"
           }
          ],
          "barpolar": [
           {
            "marker": {
             "line": {
              "color": "white",
              "width": 0.5
             },
             "pattern": {
              "fillmode": "overlay",
              "size": 10,
              "solidity": 0.2
             }
            },
            "type": "barpolar"
           }
          ],
          "carpet": [
           {
            "aaxis": {
             "endlinecolor": "rgb(36,36,36)",
             "gridcolor": "white",
             "linecolor": "white",
             "minorgridcolor": "white",
             "startlinecolor": "rgb(36,36,36)"
            },
            "baxis": {
             "endlinecolor": "rgb(36,36,36)",
             "gridcolor": "white",
             "linecolor": "white",
             "minorgridcolor": "white",
             "startlinecolor": "rgb(36,36,36)"
            },
            "type": "carpet"
           }
          ],
          "choropleth": [
           {
            "colorbar": {
             "outlinewidth": 1,
             "tickcolor": "rgb(36,36,36)",
             "ticks": "outside"
            },
            "type": "choropleth"
           }
          ],
          "contour": [
           {
            "colorbar": {
             "outlinewidth": 1,
             "tickcolor": "rgb(36,36,36)",
             "ticks": "outside"
            },
            "colorscale": [
             [
              0,
              "#440154"
             ],
             [
              0.1111111111111111,
              "#482878"
             ],
             [
              0.2222222222222222,
              "#3e4989"
             ],
             [
              0.3333333333333333,
              "#31688e"
             ],
             [
              0.4444444444444444,
              "#26828e"
             ],
             [
              0.5555555555555556,
              "#1f9e89"
             ],
             [
              0.6666666666666666,
              "#35b779"
             ],
             [
              0.7777777777777778,
              "#6ece58"
             ],
             [
              0.8888888888888888,
              "#b5de2b"
             ],
             [
              1,
              "#fde725"
             ]
            ],
            "type": "contour"
           }
          ],
          "contourcarpet": [
           {
            "colorbar": {
             "outlinewidth": 1,
             "tickcolor": "rgb(36,36,36)",
             "ticks": "outside"
            },
            "type": "contourcarpet"
           }
          ],
          "heatmap": [
           {
            "colorbar": {
             "outlinewidth": 1,
             "tickcolor": "rgb(36,36,36)",
             "ticks": "outside"
            },
            "colorscale": [
             [
              0,
              "#440154"
             ],
             [
              0.1111111111111111,
              "#482878"
             ],
             [
              0.2222222222222222,
              "#3e4989"
             ],
             [
              0.3333333333333333,
              "#31688e"
             ],
             [
              0.4444444444444444,
              "#26828e"
             ],
             [
              0.5555555555555556,
              "#1f9e89"
             ],
             [
              0.6666666666666666,
              "#35b779"
             ],
             [
              0.7777777777777778,
              "#6ece58"
             ],
             [
              0.8888888888888888,
              "#b5de2b"
             ],
             [
              1,
              "#fde725"
             ]
            ],
            "type": "heatmap"
           }
          ],
          "heatmapgl": [
           {
            "colorbar": {
             "outlinewidth": 1,
             "tickcolor": "rgb(36,36,36)",
             "ticks": "outside"
            },
            "colorscale": [
             [
              0,
              "#440154"
             ],
             [
              0.1111111111111111,
              "#482878"
             ],
             [
              0.2222222222222222,
              "#3e4989"
             ],
             [
              0.3333333333333333,
              "#31688e"
             ],
             [
              0.4444444444444444,
              "#26828e"
             ],
             [
              0.5555555555555556,
              "#1f9e89"
             ],
             [
              0.6666666666666666,
              "#35b779"
             ],
             [
              0.7777777777777778,
              "#6ece58"
             ],
             [
              0.8888888888888888,
              "#b5de2b"
             ],
             [
              1,
              "#fde725"
             ]
            ],
            "type": "heatmapgl"
           }
          ],
          "histogram": [
           {
            "marker": {
             "line": {
              "color": "white",
              "width": 0.6
             }
            },
            "type": "histogram"
           }
          ],
          "histogram2d": [
           {
            "colorbar": {
             "outlinewidth": 1,
             "tickcolor": "rgb(36,36,36)",
             "ticks": "outside"
            },
            "colorscale": [
             [
              0,
              "#440154"
             ],
             [
              0.1111111111111111,
              "#482878"
             ],
             [
              0.2222222222222222,
              "#3e4989"
             ],
             [
              0.3333333333333333,
              "#31688e"
             ],
             [
              0.4444444444444444,
              "#26828e"
             ],
             [
              0.5555555555555556,
              "#1f9e89"
             ],
             [
              0.6666666666666666,
              "#35b779"
             ],
             [
              0.7777777777777778,
              "#6ece58"
             ],
             [
              0.8888888888888888,
              "#b5de2b"
             ],
             [
              1,
              "#fde725"
             ]
            ],
            "type": "histogram2d"
           }
          ],
          "histogram2dcontour": [
           {
            "colorbar": {
             "outlinewidth": 1,
             "tickcolor": "rgb(36,36,36)",
             "ticks": "outside"
            },
            "colorscale": [
             [
              0,
              "#440154"
             ],
             [
              0.1111111111111111,
              "#482878"
             ],
             [
              0.2222222222222222,
              "#3e4989"
             ],
             [
              0.3333333333333333,
              "#31688e"
             ],
             [
              0.4444444444444444,
              "#26828e"
             ],
             [
              0.5555555555555556,
              "#1f9e89"
             ],
             [
              0.6666666666666666,
              "#35b779"
             ],
             [
              0.7777777777777778,
              "#6ece58"
             ],
             [
              0.8888888888888888,
              "#b5de2b"
             ],
             [
              1,
              "#fde725"
             ]
            ],
            "type": "histogram2dcontour"
           }
          ],
          "mesh3d": [
           {
            "colorbar": {
             "outlinewidth": 1,
             "tickcolor": "rgb(36,36,36)",
             "ticks": "outside"
            },
            "type": "mesh3d"
           }
          ],
          "parcoords": [
           {
            "line": {
             "colorbar": {
              "outlinewidth": 1,
              "tickcolor": "rgb(36,36,36)",
              "ticks": "outside"
             }
            },
            "type": "parcoords"
           }
          ],
          "pie": [
           {
            "automargin": true,
            "type": "pie"
           }
          ],
          "scatter": [
           {
            "fillpattern": {
             "fillmode": "overlay",
             "size": 10,
             "solidity": 0.2
            },
            "type": "scatter"
           }
          ],
          "scatter3d": [
           {
            "line": {
             "colorbar": {
              "outlinewidth": 1,
              "tickcolor": "rgb(36,36,36)",
              "ticks": "outside"
             }
            },
            "marker": {
             "colorbar": {
              "outlinewidth": 1,
              "tickcolor": "rgb(36,36,36)",
              "ticks": "outside"
             }
            },
            "type": "scatter3d"
           }
          ],
          "scattercarpet": [
           {
            "marker": {
             "colorbar": {
              "outlinewidth": 1,
              "tickcolor": "rgb(36,36,36)",
              "ticks": "outside"
             }
            },
            "type": "scattercarpet"
           }
          ],
          "scattergeo": [
           {
            "marker": {
             "colorbar": {
              "outlinewidth": 1,
              "tickcolor": "rgb(36,36,36)",
              "ticks": "outside"
             }
            },
            "type": "scattergeo"
           }
          ],
          "scattergl": [
           {
            "marker": {
             "colorbar": {
              "outlinewidth": 1,
              "tickcolor": "rgb(36,36,36)",
              "ticks": "outside"
             }
            },
            "type": "scattergl"
           }
          ],
          "scattermapbox": [
           {
            "marker": {
             "colorbar": {
              "outlinewidth": 1,
              "tickcolor": "rgb(36,36,36)",
              "ticks": "outside"
             }
            },
            "type": "scattermapbox"
           }
          ],
          "scatterpolar": [
           {
            "marker": {
             "colorbar": {
              "outlinewidth": 1,
              "tickcolor": "rgb(36,36,36)",
              "ticks": "outside"
             }
            },
            "type": "scatterpolar"
           }
          ],
          "scatterpolargl": [
           {
            "marker": {
             "colorbar": {
              "outlinewidth": 1,
              "tickcolor": "rgb(36,36,36)",
              "ticks": "outside"
             }
            },
            "type": "scatterpolargl"
           }
          ],
          "scatterternary": [
           {
            "marker": {
             "colorbar": {
              "outlinewidth": 1,
              "tickcolor": "rgb(36,36,36)",
              "ticks": "outside"
             }
            },
            "type": "scatterternary"
           }
          ],
          "surface": [
           {
            "colorbar": {
             "outlinewidth": 1,
             "tickcolor": "rgb(36,36,36)",
             "ticks": "outside"
            },
            "colorscale": [
             [
              0,
              "#440154"
             ],
             [
              0.1111111111111111,
              "#482878"
             ],
             [
              0.2222222222222222,
              "#3e4989"
             ],
             [
              0.3333333333333333,
              "#31688e"
             ],
             [
              0.4444444444444444,
              "#26828e"
             ],
             [
              0.5555555555555556,
              "#1f9e89"
             ],
             [
              0.6666666666666666,
              "#35b779"
             ],
             [
              0.7777777777777778,
              "#6ece58"
             ],
             [
              0.8888888888888888,
              "#b5de2b"
             ],
             [
              1,
              "#fde725"
             ]
            ],
            "type": "surface"
           }
          ],
          "table": [
           {
            "cells": {
             "fill": {
              "color": "rgb(237,237,237)"
             },
             "line": {
              "color": "white"
             }
            },
            "header": {
             "fill": {
              "color": "rgb(217,217,217)"
             },
             "line": {
              "color": "white"
             }
            },
            "type": "table"
           }
          ]
         },
         "layout": {
          "annotationdefaults": {
           "arrowhead": 0,
           "arrowwidth": 1
          },
          "autotypenumbers": "strict",
          "coloraxis": {
           "colorbar": {
            "outlinewidth": 1,
            "tickcolor": "rgb(36,36,36)",
            "ticks": "outside"
           }
          },
          "colorscale": {
           "diverging": [
            [
             0,
             "rgb(103,0,31)"
            ],
            [
             0.1,
             "rgb(178,24,43)"
            ],
            [
             0.2,
             "rgb(214,96,77)"
            ],
            [
             0.3,
             "rgb(244,165,130)"
            ],
            [
             0.4,
             "rgb(253,219,199)"
            ],
            [
             0.5,
             "rgb(247,247,247)"
            ],
            [
             0.6,
             "rgb(209,229,240)"
            ],
            [
             0.7,
             "rgb(146,197,222)"
            ],
            [
             0.8,
             "rgb(67,147,195)"
            ],
            [
             0.9,
             "rgb(33,102,172)"
            ],
            [
             1,
             "rgb(5,48,97)"
            ]
           ],
           "sequential": [
            [
             0,
             "#440154"
            ],
            [
             0.1111111111111111,
             "#482878"
            ],
            [
             0.2222222222222222,
             "#3e4989"
            ],
            [
             0.3333333333333333,
             "#31688e"
            ],
            [
             0.4444444444444444,
             "#26828e"
            ],
            [
             0.5555555555555556,
             "#1f9e89"
            ],
            [
             0.6666666666666666,
             "#35b779"
            ],
            [
             0.7777777777777778,
             "#6ece58"
            ],
            [
             0.8888888888888888,
             "#b5de2b"
            ],
            [
             1,
             "#fde725"
            ]
           ],
           "sequentialminus": [
            [
             0,
             "#440154"
            ],
            [
             0.1111111111111111,
             "#482878"
            ],
            [
             0.2222222222222222,
             "#3e4989"
            ],
            [
             0.3333333333333333,
             "#31688e"
            ],
            [
             0.4444444444444444,
             "#26828e"
            ],
            [
             0.5555555555555556,
             "#1f9e89"
            ],
            [
             0.6666666666666666,
             "#35b779"
            ],
            [
             0.7777777777777778,
             "#6ece58"
            ],
            [
             0.8888888888888888,
             "#b5de2b"
            ],
            [
             1,
             "#fde725"
            ]
           ]
          },
          "colorway": [
           "#1F77B4",
           "#FF7F0E",
           "#2CA02C",
           "#D62728",
           "#9467BD",
           "#8C564B",
           "#E377C2",
           "#7F7F7F",
           "#BCBD22",
           "#17BECF"
          ],
          "font": {
           "color": "rgb(36,36,36)"
          },
          "geo": {
           "bgcolor": "white",
           "lakecolor": "white",
           "landcolor": "white",
           "showlakes": true,
           "showland": true,
           "subunitcolor": "white"
          },
          "hoverlabel": {
           "align": "left"
          },
          "hovermode": "closest",
          "mapbox": {
           "style": "light"
          },
          "paper_bgcolor": "white",
          "plot_bgcolor": "white",
          "polar": {
           "angularaxis": {
            "gridcolor": "rgb(232,232,232)",
            "linecolor": "rgb(36,36,36)",
            "showgrid": false,
            "showline": true,
            "ticks": "outside"
           },
           "bgcolor": "white",
           "radialaxis": {
            "gridcolor": "rgb(232,232,232)",
            "linecolor": "rgb(36,36,36)",
            "showgrid": false,
            "showline": true,
            "ticks": "outside"
           }
          },
          "scene": {
           "xaxis": {
            "backgroundcolor": "white",
            "gridcolor": "rgb(232,232,232)",
            "gridwidth": 2,
            "linecolor": "rgb(36,36,36)",
            "showbackground": true,
            "showgrid": false,
            "showline": true,
            "ticks": "outside",
            "zeroline": false,
            "zerolinecolor": "rgb(36,36,36)"
           },
           "yaxis": {
            "backgroundcolor": "white",
            "gridcolor": "rgb(232,232,232)",
            "gridwidth": 2,
            "linecolor": "rgb(36,36,36)",
            "showbackground": true,
            "showgrid": false,
            "showline": true,
            "ticks": "outside",
            "zeroline": false,
            "zerolinecolor": "rgb(36,36,36)"
           },
           "zaxis": {
            "backgroundcolor": "white",
            "gridcolor": "rgb(232,232,232)",
            "gridwidth": 2,
            "linecolor": "rgb(36,36,36)",
            "showbackground": true,
            "showgrid": false,
            "showline": true,
            "ticks": "outside",
            "zeroline": false,
            "zerolinecolor": "rgb(36,36,36)"
           }
          },
          "shapedefaults": {
           "fillcolor": "black",
           "line": {
            "width": 0
           },
           "opacity": 0.3
          },
          "ternary": {
           "aaxis": {
            "gridcolor": "rgb(232,232,232)",
            "linecolor": "rgb(36,36,36)",
            "showgrid": false,
            "showline": true,
            "ticks": "outside"
           },
           "baxis": {
            "gridcolor": "rgb(232,232,232)",
            "linecolor": "rgb(36,36,36)",
            "showgrid": false,
            "showline": true,
            "ticks": "outside"
           },
           "bgcolor": "white",
           "caxis": {
            "gridcolor": "rgb(232,232,232)",
            "linecolor": "rgb(36,36,36)",
            "showgrid": false,
            "showline": true,
            "ticks": "outside"
           }
          },
          "title": {
           "x": 0.05
          },
          "xaxis": {
           "automargin": true,
           "gridcolor": "rgb(232,232,232)",
           "linecolor": "rgb(36,36,36)",
           "showgrid": false,
           "showline": true,
           "ticks": "outside",
           "title": {
            "standoff": 15
           },
           "zeroline": false,
           "zerolinecolor": "rgb(36,36,36)"
          },
          "yaxis": {
           "automargin": true,
           "gridcolor": "rgb(232,232,232)",
           "linecolor": "rgb(36,36,36)",
           "showgrid": false,
           "showline": true,
           "ticks": "outside",
           "title": {
            "standoff": 15
           },
           "zeroline": false,
           "zerolinecolor": "rgb(36,36,36)"
          }
         }
        },
        "title": {
         "font": {
          "color": "Black",
          "size": 22
         },
         "text": "<b>Documents and Topics</b>",
         "x": 0.5,
         "xanchor": "center",
         "yanchor": "top"
        },
        "width": 1200,
        "xaxis": {
         "visible": false
        },
        "yaxis": {
         "visible": false
        }
       }
      },
      "text/html": [
       "<div>                            <div id=\"dd2e05b2-7a0e-41a2-b4bc-5c373951a316\" class=\"plotly-graph-div\" style=\"height:750px; width:1200px;\"></div>            <script type=\"text/javascript\">                require([\"plotly\"], function(Plotly) {                    window.PLOTLYENV=window.PLOTLYENV || {};                                    if (document.getElementById(\"dd2e05b2-7a0e-41a2-b4bc-5c373951a316\")) {                    Plotly.newPlot(                        \"dd2e05b2-7a0e-41a2-b4bc-5c373951a316\",                        [{\"hoverinfo\":\"text\",\"hovertext\":[\"In particular, and without prejudice to the generality of the foregoing power, such rules may  provide for all or any of the following matters, namely: \\u2014  (a) the composition and number of the members of the State Authority under s ub-section ( 2), and  the term of office and conditions of service of the members of the State Authority under sub -section  (5), of section 14;   (b) the allowances to be paid to the members of the advisory committee under sub -section ( 2) of  section 17;   (c) the powers and functions of the Chairperson of the State Executive Committee under                   sub-section ( 3), and the procedure to be followed by the State Executive Committee in exercise of its  powers and discharge of its functions under sub -section  (4) of section 20;   (d) allowances to be paid to the persons associated with the sub -committee constituted by the  State Executive Committee under sub -section ( 3) of section 21;   (e) the composition and the number of members of the District Authority under  sub-section ( 2),  and the powers and functions to be exercised and discharged by the Chief Executive Officer of the  District Authority under s ub-section ( 3) of section 25;   (f) allowances payable to the persons associated with any committee constituted by the District  Authority as experts under sub -section ( 3) of section 28;   (g) any other matter which is to be, or may be, prescribed, or in respect of which provision is to  be made by rules.\",\"P unishment for obstruction, etc.\",\"Payment of compensation.\",\"Constitution of advisory committees and other committees.\",\"Constitution of advisory committee by the State Authority.\",\"Cent ral Government to take measures.\",\"Immunity from legal process.\",\"CHAPTER VII   NATIONAL  INSTITUTEOF  DISASTER  MANAGEMENT   42.\",\".\",\"Whenever any Committee, Authority or officer referred to in  sub-section ( 1) of section 65,  in pursuance of that section requisitions any premises, there shall be paid to  the persons interested compensation the amount of which shall be determined by taking into consid eration  the following, namely: \\u2014  (i) the rent payable in respect of the premises , or if no rent is so payable, the rent payable for  similar premises in the locality;   (ii) if as consequence of the requisition of the premises the person interested is compelled to  change his residence or place of business, the reasonable expenses (if an y) incidental to such change:   Provided that where any person interested being aggrieved by the amount of compensation so  determined makes an application within the thirty days to the Central Government or the State  Government, as the case may be, for refe rring the matter to an arbitrator, the amount of compensation to  be paid shall be such as the arbitrator appointed in this behalf by the Central Government or the State  Government, as the case may be, may determine:   Provided further that where there is an y dispute as to the title to receive the compensation or as to the  apportionment of the amount of compensation, it shall be referred by the Central Government or the State  Government, as the case may be, to an arbitrator appointed in this behalf by the Cen tral Government or  the State Government, as the case may be, for determination, and shall be determined in accordance with  the decision of such arbitrator.\",\"Plans by different authorities at district level and their implement ation.\",\"Offences by Departments of the Government.\",\"Any person associated as an expert with any committee or sub -committee constituted under               sub-section ( 1) may be paid such allowances as may  be prescribed by the State Government.\",\"Offence by companies.\",\"Annual report.\",\".\",\"Annual report.\",\"The District Plan shall be reviewed and updated annually.\",\"Cognizance of offences.\",\"It shall come into force on such date1 as the Central Government may, by notification in the  Official Gazette appoint; and different dates * may be appointed for different provisions of this Act and  for different States, and any reference to commencement in any provision of this Act in relation  to any  State shall be construed as a reference to the commencement of that provision in that State.\",\"Power of requisition of resources, provisions, vehicles, etc., for rescue operations, etc.\",\"Any person associated as an expert with any sub -committee may be paid such allowances as may  be prescribed by the State Government.\",\"National plan.\",\"CHAPTER X   OFFENCES AND PENALTIES   SECTIONS   51.\",\".\",\"The State Plan shall be reviewed and updated annually.\",\"Whoever, without reasonable cause \\u2014  (a) obstructs any officer or employee of the Central Government or the State Government, or a  person authorised  by the National Authority or State Authority or District Authority in the discharge  of his functions under this Act; or   (b) refuses to comply with any direction given by or on behalf of the Central Government or the  State Government or the National Execu tive Committee or the State Executive Committee or the  District Authority under this Act,   shall on conviction be punishable with imprisonment for a term which may extend to one year or with  fine, or with both, and if such obstruction or refusal to comply with directions results in loss of lives or  imminent danger thereof, shall on conviction be  punishable with imprisonment for a term which may  extend to two years.\",\"Where an offence under this Act has been committed by a co mpany  or body corporate, every person who at the time the offence was committed, was in charge of, and was  responsible to, the company, for the conduct of the business of the company, as well as the company, 25   shall be deemed to be guilty of the contraventio n and shall be liable to be proceeded against and punished  accordingly:   Provided that nothing in this sub -section shall render any such person liable to any punishment  provided in this Act, if he proves that the offence was committed without his knowledge  or that he  exercised due diligence to prevent the commission of such offence.\",\"CHAPTER XI   MISCELLANEOUS   61.\",\"State Plan.\",\"Punishment for false warning .\\u2014Whoever makes or circulates a false alarm or warning as to  disaster or its severity or magnitude, leading to panic, shall on conviction, be punishable with  imprison ment which may extend to one year or with fine.\",\"Action taken in good faith.\",\"Constitution of advisory committee by National Authority.\",\"Failure of officer in duty or his connivance at the contravention of the pro visions of this  Act.\\u2014Any officer, on whom any duty has been imposed by or under this Act and who ceases or refuses  to perform or withdraws himself from the duties of his office shall, unless he has obtained the express  written permission of his official su perior or has other lawful excuse for so doing, be punishable with  imprisonment for a term which may extend to one year or with fine.\",\"Previous sanction for prosecution .\\u2014No prosecution for offences punishable under sections 55  and 56 shall be instituted except with the previous sanction of the Central Government or the State  Government, as the case may be, or of any officer authorised  in this behalf, by general or special order, by  such Government.\",\"Punishment for false claim .\\u2014Whoever knowingly makes a claim which he knows or has reason  to believe to be false for obtaining any relief, assistance, repair, reconstruction or oth er benefits  consequent to disaster from any officer of the Central Government, the State Government, the National  Authority, the State Authority or the District Authority, shall, on conviction be punishable with  imprisonment for a term which may extend to two years, and also with fine.\",\"CHAPTER IX   FINANCE, ACCOUNTS AND AUDIT   46.\",\"Whenever any Committee, Authority or officer, referred to in sub -section ( 1) of section 65 in  pursuance of that section requisitions any vehicle, there shall be paid to  the owner thereof compensation  the mount of which shall be determined by the Central Government or the State Government, as the case  may be, on the basis of the fares or rates prevailing in the locality for the hire of such vehicle:  27   Provided that where the owner of such vehicle being aggrieved by the amount of compensation so  determined makes an application within the prescribed time to the Central Government or the State  Government, as the case may be, for referring the matter to an arbitrator, the amount of compensation to  be paid shall be such as the arbitrator appointed in this behalf by the Central Government or the State  Government, as the case may be, may d etermine:   Provided further that where immediately before the requisitioning the vehicle or vessel was by virtue  of a hire purchase agreement in the possession of a person other than the owner, the amount determined  under this sub -section as the total comp ensation payable in respect of the requisition shall be apportioned  between that person and the owner in such manner as they may agree upon, and in default of agreement,  in such manner as an arbitrator appointed by the Central Government or the State Gover nment, as the case  may be, in this behalf may decide.\",\"CHAPTER V   MEASURES BY THE GOVERNMENT FOR DISASTER MANAGEMENT   35.\",\"Bar of jurisdiction of court .\\u2014No court (except the Supreme Court or a High Court) shall have  jurisdiction to entertain any suit or proceeding in respect of anything done, action taken, orders made,  direction, instruction or guidelines issued by the Central Government, National Authority, State  Government, State Authority or District Authority  in pursuance of any power conferred by, or in relation  to its functions, by this Act.\",\"There shall be a plan for disaster management for ev ery State to be called the  State Disaster Management Plan.\",\"Copies of the State Plan referred to in sub -sections ( 2) and ( 5) shall be made available to the  Departments of the Government of the State and such Departments shall draw up their own plans in  accordance with the State Plan.\",\"National Plan.\",\"Offences by Departments of the Government.\",\".\",\"Constitution of advisory c ommittee by the State Authority.\",\"Act to have overriding effect .\\u2014The provisions of this Act, shall have effect, notwithstanding  anything inconsistent therewith contained in any other law for the tim e being in force or in any instrument  having effect by virtue of any law other than this Act.\",\"of s. 70, 71, 72,  73, 74, 78, 79], vide  notification N o. S.O.\",\", 15, 16, 17, 18, 19, 20, 21, 22, 23, 24, 25, 26, 27, 28, 29, 30, 31, 32, 33, 34,  38,  39, 40, 41, 48,   51, 52, 53, 54, 55, 56, 57, 58, 59, 60, 61, 62, 63, 64, 65, 66, 67, 68,  69, sub -sec.\",\"The District Plan shall be prepared by the District Authority, after consultation with the local  authorities and having regard to the National Plan and the State Plan, to be approved by the State  Authority.\",\"Constitution of advisory committees and other committees.\",\"District Plan.\",\"Control, direction, etc.\",\"th July, 2006 (ss.\",\"Every order made under this section shall be laid, as soon as may be after it is made, before each  House of Parliament or the Legislature, as the case may be.\",\"Immunity from legal process .\\u2014Officers and employees of the C entral Government, National  Authority, National Executive Committee, State Government, State Authority, State Executive  Committee or District Authority shall be immune from legal process in regard to any warning in respect  of any impending disaster communi cated or disseminated by them in their official capacity or any action  taken or direction issued by them in pursuance of such communication or dissemination.\",\"Short title, extent and commencement.\",\"The members of the advisory committee shall be paid such allowances as may be prescribed by  the Central Government in consultation with the National Authority.\",\"Making or amending rules, etc.,  in certain circumstances.\",\"Where an offence under this Act has been  committed by any Department of the Government, the head of the Department shall be deemed to be  guilty of the offen ce and shall be liable to be proceeded against and punished accordingly unless he  proves that the offence was committed without his knowledge or that he exercised all due diligence to  prevent the commission of such offence.\",\"Punishment for false claim.\",\"Cognizance of offences .\\u2014No court shall take cognizance of an offence under this Act ex cept on  a complaint made by \\u2014  (a) the National Authority, the State Authority, the Central Government, the State Government,  the District Authority or any other authority or officer authorised  in this behalf by that Authority or  Government, as the case may be; or   (b) any person who has giv en notice of not less than thirty days in the manner prescribed, of the  alleged offence and his intention to make a complaint to the National Authority, the State Authority,  the Central Government, the State Government, the District Authority or any other authority or  officer authorised  as aforesaid.\",\"The members of the advisory committee shall be paid such allowances as may be prescribed by  the State Government.\",\"CHAPTER VI   LOCAL AUTHORITIES   41.\",\"ii).\",\"In particular, and without prejudice to the generality of the foregoing power, such rules may  provide for all or any of t he following matters, namely :\\u2014  (a) the composition an d number of the members of the National Authority under sub -section ( 2),  and the term of office and conditions of service of members of the National Authority under                   sub-section ( 4), of section 3;   (b) the allowances to be paid to the membe rs of the advisory committee under sub -section ( 2) of  section 7;   (c) the powers and functions of the Chairperson of the National Executive Committee under                sub-section ( 3) of section 8 and the procedure to be followed by the National Executiv e Committee in  exercise of its powers and discharge of its functions under sub -section ( 4) of section 8;   (d) allowances to be paid to the persons associated with the sub -committee constituted by the  National Executive Committee under sub -section ( 3) of section 9;   (e) the number of members of the National Institute of Disaster Management under sub -section  (2), the term of the office and vacancies among members and the manner of filling such vacancies  under sub -section ( 3) and the manner of constitut ing the Governing Body of the National Institute of  Disaster Management under sub -section ( 4) of section 42;   (f) the manner of constitution of the Force, the conditions of service of the members of the Force,  including disciplinary provisions under sub -section ( 2) of section 44;   (g) the manner in which notice of the offence and of the intention to make a complaint to the  National Authority, the State Authority, the Central Government, the State Government or the other  authority or officer under clause ( b) of section 60;   (h) the form in which and the time within which annual report is to be prepared under section 70;   (i) any other matter which is to be, or may be, prescribed, or in respect of which provision is to be  made by rules.\",\"Any person associated as an expert with any sub -committee may be paid such allowances as may  be prescribed by the Central Government.\",\"CHAPTER V   MEASURES BY THE GOV ERNMENT FOR DISASTER MANAGEMENT   35.\",\"Punishment for obstruction , etc.\",\"E), dated 7th May , 2007;   *17th March, 2008 (ss.\",\"Prohibition against discrimination.\",\"Punishment for misappropriation of money or materials, etc.\",\"Offence by companies.\",\"Prohibition against discrimination .\\u2014While providing compensation and relief to the victims of  disaster, there shall be no discrimination on the ground of sex, caste, community, descent or religion.\",\"Making or amending rules, etc., in certain circumstances.\",\"Explanatio n.\\u2014In this sub -section, the expression \\u201cperson interested \\u201d means the person who was in  actual possession of the premises requisitioned under section 65 immediately before the requisition, or  where no person was in such actual possession, the owner of such premises.\",\"S.O.\",\"Punishment for misappropriation of money or materials, etc .\\u2014Whoever, being entrusted with  any money or materials, or otherwise being, in custody of, or dominion over, any money or goods, meant  for providing relief in any  threatening disaster situation or disaster, misappropriates or appropriates for his  own use or disposes of such money or mater ials or any part thereof or wil fully compels any other person  so to do, shall on conviction be punishable with imprisonment for a  term which may extend to two years,  and also with fine.\",\"Constitution of advisory committee by National Authority.\",\"Penalty for contravention of any order regarding requisitioning.\",\"It extends to the whole of Indi a.\",\"In this section ,\\u2014  (a) \\u201cresources\\u201d includes men and material resources;   (b) \\u201cservices\\u201d includes facilities;   (c) \\u201cpremises\\u201d means any land, building or part of a building and includes a hut, shed or other  structure or any part thereof;   (d) \\u201cvehicle\\u201d means any vehicle used or capable of being used for the purpose of transport,  whether propelled by mechanical power or otherwise.\",\"National Disaster Response Fund.\",\"S.O.\",\"No suit or prosecution or other proceeding shall lie in any court  against the Central Government or the National Authority or the State Government or the State Authority  or the District Authority or local authority or any officer or employee of the Central  Government or the  National Authority or the State Government or the State Authority or the District Authority or local  authority or any person working for on behalf of such Government or authority in respect of any work  done or purported to have been done  or intended to be done in good faith by such authority or  Government or such officer or employee or such person under the provisions of this Act or the rules or  regulations made thereunder.\",\"Previous sanction fo r prosecution.\",\"If any difficulty arises in gi ving effect to the provisions of  this Act, the Central Government or the State Government, as the case may be, by notification in the  Official Gazette, make order not inconsistent with the provisions of this Act as may appear to it to be  necessary or exped ient for the removal of the difficulty:   Provided that no such order shall be made after the expiration of two years from the commencement  of this Act.\",\"The copies of the District Plan referred to in sub -sections ( 2) and ( 4) shall be made available to the  Departments of the Government in the district.\",\"The State Authority shall prepare on ce in every year, in such form and at such time as may be  prescribed, an annual report giving a true and full account of its activities during the previous year and  copies thereof shall be forwarded to the State Government and that Government shall cause t he same to  be laid before each House of the State Legislature where it consists of two Houses, or where such  Legislature consists of one House, before that House.\",\"Failure of officer in duty or his connivance at the contravention of the provisions of this Act.\",\"Power to remove difficulties.\",\"Direction to media for communication of warnings, etc.\",\"The National Authority shall prepare once every year, in such form and at  such time as may be prescribed, an annual report giving a true and full account of its act ivities during the  previous year and copies thereof shall be forwarded to the Central Government and that Government shall  cause the same to be laid before both Houses of Parliament within one month of its receipt.\",\"Definitions.\",\"CHAPTER VI  LOCAL AUTHORITIES   41.\",\"CHAPTER X   OFFENCES AND PENALTIES   51.\",\"SECTIONS   27.\",\"Explanation.\",\"Punishment for false warning.\",\".\",\"E), dated 18th October, 2011, see Gazette of India,  Extraordinary, Part II, sec.\",\"E), dated 17th March, 2008;   *18th October, 2011 (s. 46), vide notification No.\",\"Notwithstanding anything co ntained in sub -section ( 1), where an offence under this Act has been  committed by a Department of the Government and it is proved that the offence has been committed with  the consent or connivance of, or is attributable to any neglect on the part of, any o fficer, other than the  head of the Depar tment, such officer shall be deemed to be guilty of that offence and shall be liable to be  proceeded against and punished accordingly.\",\", 3, 4, 5, 6, 8, 10, 75, 77, 79), vide notification No.\",\"National Disaster Mitigation Fund.\",\"Disaster management plan of departm ents of State.\",\"CHAPTER IX   FINANCE, ACCOUNTS AND AUDIT   46.\",\"Act to have overriding effect.\",\"OF 2005   [23rd December , 2005 .]\",\"Action taken in good faith.\",\"Power of requisition of resources, provisions, vehicles, etc., for rescue operations, etc.\",\"The National Plan shall be reviewed and updated annually.\",\"Penalty for contravention of any order regarding requisitioning .\\u2014If any person contravenes  any order made under section 65, he shall be punishable with imprisonment for a term which may extend  to one year or with fine or with both.\",\"E), dated 28th July, 2006;   *1st August, 2007 [ss.\",\"CHAPTER VII   NATIONAL  INSTITUTEOF  DISASTER  MANAGEMENT   42.\",\"State Plan.\",\"Bar of j urisdiction of court.\",\"Powers to be made available for rescue operations .\\u2014Any officer or authority of the Union or a  State, when requested by the National Executive Committee, any State Executive Committee or Distric t  Authority or any person authorised  by such Committee or Authority in this behalf, shall make available to  that Committee or authority or person, such officers and employees as requested for, to perform any of  the functions in connection with the preventi on of disaster or mitigation or rescue or relief work.\",\"The District Authority shall, review from time to time, the implementation of the Plan and issue  such instructions to different departments of the Governm ent in the district as it may deem necessary for  the implementation thereof.\",\"Notwithstanding anything contained in sub -section ( 1), where an offence under this Act has been  committed by a company, and it is proved that the offence was committed with  the consent or connivance  of or is attributable to any neglect on the part of any director, manager, secretary or other officer of the  company, such director, manager, secretary or other officer shall also, be deemed to be guilty of that  offence and shall  be liable to be proceeded against and punished accordingly.\",\"Power to remove difficulties.\",\"Payment of compensation.\",\"CHAPTER XI   MISCELLANEOUS   61.\",\"Plans by different authorities at district level and their implementation.\",\"The District Authority shall send a copy of the District Plan to the State Authority which shall  forward it to the State Government.\",\"The National Authority, the State  Authority, or a District Authority may recommend to the Government to give direction to any authority or  person in control of any audio or audio -visual media or such other means of communication as may be  available to carry any warning or advisories regarding any threatening disaster situation or disaster, and  the said means of communication and media as designa ted shall comply with such direction.\",\"Powers to be made available for rescue operations.\",\", 45), vide notification No.\",\"The State Plan prepared by the State Executive Committee under sub -section ( 2) shall be  approved by the State Authority.\",null],\"marker\":{\"color\":\"#CFD8DC\",\"opacity\":0.5,\"size\":5},\"mode\":\"markers+text\",\"name\":\"other\",\"showlegend\":false,\"x\":[2.208953380584717,6.448052883148193,2.7021138668060303,0.3504674732685089,0.3130490779876709,4.592680931091309,6.831932067871094,7.438107967376709,14.843568801879883,2.6896965503692627,3.2043845653533936,6.673253059387207,2.1021409034729004,6.7052321434021,2.6252620220184326,14.820731163024902,2.5781660079956055,2.8717408180236816,6.650854587554932,4.722186088562012,4.106518745422363,2.06127667427063,2.8869845867156982,6.636752128601074,14.817323684692383,2.720776081085205,6.53872537612915,6.6440019607543945,12.386109352111816,2.8973026275634766,6.561077117919922,5.515314102172852,0.32841676473617554,6.546319961547852,6.7630534172058105,6.515336990356445,12.363718032836914,2.685673236846924,7.467926502227783,7.011237621307373,7.446342945098877,2.9409728050231934,2.9208080768585205,6.668736934661865,14.815704345703125,0.3534461259841919,5.2994303703308105,13.893417358398438,13.837557792663574,3.0922000408172607,0.32107385993003845,3.0048210620880127,5.319872856140137,13.752941131591797,4.372842788696289,4.701022148132324,7.5212082862854,2.066882371902466,5.579660892486572,6.5753350257873535,6.484353065490723,6.673381328582764,2.092702627182007,12.37257194519043,14.817151069641113,2.185692310333252,2.054474115371704,7.4088826179504395,6.458897590637207,13.732531547546387,6.31533670425415,6.526140213012695,6.710824012756348,6.385087490081787,5.589216709136963,2.838796377182007,14.45051097869873,6.5299153327941895,0.3252103328704834,6.652044296264648,7.543229579925537,3.718078851699829,7.349235534667969,14.452263832092285,6.672428607940674,6.783793926239014,6.671112060546875,3.075711488723755,4.1161627769470215,6.5734333992004395,4.460833549499512,5.158533573150635,4.089825630187988,3.716787099838257,12.42252254486084,6.624232292175293,12.340137481689453,14.836512565612793,6.542795658111572,14.836688995361328,13.731903076171875,13.768325805664062,6.549153804779053,13.794193267822266,7.367311477661133,7.486435890197754,12.360936164855957,5.439816951751709,13.730328559875488,5.511167526245117,4.108371734619141,2.685945510864258,6.616871356964111,13.738872528076172,7.4136223793029785,2.936574697494507,6.9656572341918945,4.077841758728027,3.14103627204895,6.601590633392334,4.46460485458374,2.715562343597412,12.372143745422363,3.195725679397583,3.1157565116882324,5.190300464630127,4.208785057067871,13.76511001586914,2.9079275131225586,6.5725626945495605],\"y\":[6.626526355743408,0.5956233739852905,6.696887969970703,4.4812164306640625,4.484880447387695,4.2404680252075195,0.19915135204792023,9.651453018188477,7.4044084548950195,6.682275295257568,9.240981101989746,-0.3775351345539093,6.736940383911133,-0.438759446144104,9.37155532836914,7.384957313537598,9.376001358032227,9.319502830505371,-0.4294813573360443,3.3778438568115234,5.337353706359863,6.788100719451904,9.630017280578613,-0.35479068756103516,7.382431507110596,9.379694938659668,0.460896760225296,-0.10335323959589005,7.328930854797363,9.614439964294434,0.6082214713096619,2.521454095840454,4.486062526702881,0.22676244378089905,-0.1546226590871811,0.6435067057609558,7.308690071105957,6.676926612854004,9.668437004089355,0.09370000660419464,9.666772842407227,8.966117858886719,9.67466926574707,-0.3649994730949402,7.38140869140625,4.527122497558594,2.7135672569274902,6.992038726806641,6.9175872802734375,9.21783447265625,4.502007007598877,9.48438835144043,6.409139633178711,6.692617416381836,3.240104913711548,6.238296985626221,7.551615238189697,6.772171974182129,2.339663028717041,-0.13620562851428986,0.7085016965866089,-0.003379751229658723,6.747307777404785,7.276136875152588,7.382589817047119,6.540227890014648,6.776642322540283,9.627694129943848,0.7721635103225708,6.664587020874023,0.9976077079772949,0.7166856527328491,-0.4504777193069458,0.9037191867828369,2.3230788707733154,6.607396602630615,7.206430912017822,0.7571272253990173,4.498359203338623,0.43001240491867065,7.482465744018555,6.617566108703613,9.589242935180664,7.215807914733887,0.03262649103999138,-0.14060130715370178,0.5581442713737488,9.115038871765137,3.2728376388549805,0.24961227178573608,4.680541515350342,6.5475921630859375,3.3154571056365967,6.581298351287842,7.35399055480957,-0.3026699423789978,7.338324546813965,7.399855136871338,0.693056583404541,7.398001670837402,6.677126407623291,6.767933368682861,-0.0931674912571907,6.927184104919434,9.59580135345459,9.708318710327148,7.3074049949646,2.5943655967712402,6.671350955963135,2.5154409408569336,5.335941791534424,9.386087417602539,0.392788827419281,6.688014984130859,9.62352180480957,9.665362358093262,0.050679463893175125,5.6339802742004395,9.173089027404785,-0.07557760179042816,4.688241004943848,6.70426607131958,7.311717510223389,9.272249221801758,9.19748592376709,6.497095108032227,5.223137378692627,6.964968204498291,8.953709602355957,5.130177021026611],\"type\":\"scattergl\"},{\"hoverinfo\":\"text\",\"hovertext\":[\"The District Authority shall act as the district  planning, coordinating and implementing body for disaster management and take all measures for the  purposes of disaster management in the district in accordance with the guidelines laid down by the  National Aut hority and the State Authority.\",\"Disas ter management plans of Ministries  or Departments of Government of India.\",\"The State Plan shall include, \\u2014  (a) the vulnerability of different parts of the State to different forms of disasters;   (b) the measures to be adopted for prevention and mitigation of disasters;   (c) the manner in which the mitigation measures shall be integrated with the development plans  and projects;   (d) the capacity -building and preparedness measures to be taken;   (e) the roles and responsibilities of each Department of the Government of the State in relation to  the measures specified in clauses ( b), (c) and ( d) above;   (f) the roles and responsibilities of different Departments of the Government of the State in  responding to any threatening disaster situation or disaster.\",\"Every department of the State Government shall furnish an implementation status report to the  State Executive Committee regarding the implementation of the disaster management plan referred to in  sub-section ( 1).\",\"Establishm ent of funds by State Government .\",\"CHAPTER III   STATE  DISASTER MANAGEMENT  AUTHORITY   14.\",\"Copies of the National Plan referred to in sub -sections ( 2) and ( 4) shall be made available to the  Ministries or Dep artments of the Government of India and such Ministries or Departments shall draw up  their own plans in accordance with the National Plan.\",\"Guidelines for minimum standards of relief.\",\"Where by reason of any threatening disaster  situation or disaster, the National Authority or the State Authority or the District Authority is satisfied that  immediate procurement of provisions or materials or the immediate application of resources are n ecessary  for rescue or relief ,\\u2014  (a) it may authoris e the concerned department or authority to make the emergency procurement  and in such case, the standard procedure requiring inviting of tenders shall be deemed to be waived;   (b) a certificate about utilis ation of pr ovisions or materials by the controlling officer authorised  by  the National Authority, State Authority or District Authority, as the case may be, shall be deemed to  be a valid document or voucher for the purpose of accounting of emergency, procurement of s uch  provisions or materials.\",\"Control, direction, etc .\\u2014The general superintendence, direction and control of the Force shall  be vested and exercised by the National Authority and the command and supervision of the Force sh all  vest in an officer to be appointed by the Central Government as the Director General of the National  Disaster Response Force.\",\"Establishment of Nationa l Disaster Management Authority.\",\"CHAPTER II   THE NATIONAL  DISASTER  MANAGEMENT  AUTHORITY   3.\",\"CHAPTER III   STATE DISASTER  MANAGEMENT  AUTHORITIES   14.\",\"Subject to the directions of the District Auth ority, a local  authority shall \\u2014  (a) ensure that its officers and employees are trained for disaster management;   (b) ensure that resources relating  to disaster management are so maintained as to be readily  available for use in the event of any threatening dis aster situation or disaster;   (c) ensure all construction projects under it or within its jurisdiction conform to the standards and  specifications laid down for prevention of disasters and mitigation by the National Authority, State  Authority and the District Authority;   (d) carry out relie f, rehabilitation and reconstruction activities in the affected area in accordance  with the State Plan and the District Plan.\",\"Powers and functions of State Executive Committee in the event of threatening disas ter  situation.\\u2014For the purpose of, assisting and protecting the community affected by disaster or providing  relief to such community or, preventing or combating disruption or dealing with the effects of any  threatening disaster situation, the  State Executi ve Committee may \\u2014  (a) control and restrict, vehicular traffic to, from or within, the vulnerable or affected area;   (b) control and restrict the entry of any person into, his movement within and departure from, a  vulnerable or affected area;   (c) remove de bris, conduct search and carry out rescue operations;   (d) provide shelter, food, drinking water, essential provisions, healthcare and services in  accordance with the standards laid down by the National Au thority and State Authority;   (e) give direction to the concerned Department of the Government of the State, any District  Authority or other authority, within the local limits of the State to take such measure or steps for  rescue, evacuation or providing immediate relief saving lives or property, as may be necessary in its  opinion;   (f) require any department of the Government of the State or any other body or authority or  person in charge of any relevant resources to make available the resources for the purposes of  emergency response, rescue and relief;   (g) require experts and consultants in the field of disasters to provide advice and assistance for  rescue and relief;   (h) procure exclusive or preferential use of amenities from any authority or person as and when  required;    13   (i) construct temporary bridges  or other necessary structures and demolish unsafe structures  which may be hazardous to public;   (j) ensure that non -governmental organisation s carry out their activities in an equitable  and non - discriminatory manner;   (k) disseminate information to public to deal with any threatening disaster situation or disaster;   (l) take such steps as the Central Government or the State Government may direct in this regard  or take such other steps as are required or warranted by the form of any threatening disaster situation  or disaster.\",\"Responsibilities of departments of the State Government.\",\"Every Ministry or Department of  the Government of India shall \\u2014  (a) prepare a disaster management plan specifying the following particulars, n amely:\\u2014  (i) the measures to be taken by it for prevention and mitigation of disasters in accordance  with the National Plan;   (ii) the specifications regarding integration of mitigation measures in its development plans in  accordance with the guidelines of the National Authority and the National Executive Committee;   (iii) its roles and responsibilities in relation to preparedness and capacity -building to deal with  any threatening disaster situation or disaster;   (iv) its roles and responsibilities in regard to promptly and effectively responding to any  threatening disaster situation or disaster;  19   (v) the present status of its preparedness to perform the roles and responsibilities specified in  sub-clauses ( iii) and ( iv);   (vi) the measures required to be taken in order to  enable it to perform its responsibilities  specified in sub -clauses ( iii) and ( iv);   (b) review and update annually the plan referred to in clause ( a);   (c) forward a copy of the plan referred to in clause ( a) or clause ( b), as the case may be, to the  Cent ral Government which Government shall forward a copy thereof to the National Authority for its  approval.\",\"Requisition by the District Authority .\\u2014The District Authority may by order require any officer  or any Department at the district level or any local authority to take such measures for the prevention or  mitigation of disaster, or to effectively respond to it, as may be necessary, and such office r or department  shall be bound to carry out such order.\",\"Without prejudice to the generality of provisions contained in sub -section (1), the State Authority  may\\u2014  (a) lay down the State disaster management policy;   (b) approve the State Plan in accordance with the guidelines laid down by the National Authority;   (c) approve the disaster management plans prepared by the departments of the Government of the  State;   (d) lay down guidelines to be followed by the departments o f the Government of the State for the  purposes of integration of measures for prevention of disasters and mitigation in their development  plans and projects and provide necessary technical assistance therefor;   (e) coordinate the implementation of the State Plan;   (f) recommend provision of funds for mitigation and preparedness measures;   (g) review the development plans of the different departments of the State and ensure that  prevention and mitigation measures are i ntegrated therein;   (h) review the measures being taken for mitigation, capacity building and preparedness by the  departments of the Government of the State and issue such guidelines as may be necessary.\",\"Constitution of D istrict Disaster Management Authority.\",\"Short title, extent and commencement .\\u2014(1) This Act may be called the  Disaster Management  Act, 2005.\",\"CHAPTER IV   DISTRICT  DISASTER  MANAGEMENT  AUTHORI TY  25.\",\"CHAPTER I V  DISTRICT  DISASTER MANAGEMEN T A UTHORITY     25.\",\"Establishment of State Disaster Management Authority.\",\"Responsibilities of Ministries  or Departments of Government of India.\",\"Constitution of District Disaster Management Authority .\\u2014(1) Every State Government shall,  as soon as may be after issue of notification under sub -section ( 1) of section 14, by notification in the  Official Gazette, establish a District Disaster Management Authority for every district in the State with  such name as may be specified in that notification.\",\"Notwithstanding anything contained in any   other law for the time being in force, it shall be lawful for the Central Government to issue direction in  writing to the Ministries or Departments of the Government of India, or the National Executive  Committee or the State Government, State Authority, S tate Executive Committee, statutory bodies or any  of its officers or employees, as the case may be, to facilitate or assist in the disaster management and such  Ministry or Department or Government or Authority, Executive Committee, statutory body, officer or  employee shall be bound to comply with such direction.\",\"Subject to the provisions of this Act, the  National Authority shall have the responsibility for laying down the policies, plans and guidelines for  disaster management for ensuring tim ely and effective response to disaster.\",\"Every office of the  Government of India and of the State Government at the district level and the l ocal authorities shall,  subject to the supervisi on of the District Authority, \\u2014  (a) prepare a disaster management plan set ting out the following, namely: \\u2014  (i) provisions for prevention and mitigation measures as provided for in the District Plan and  as is a ssigned to the department or agency concerned;   (ii) provisions for taking measures relating to capacity -building and preparedness as laid  down in the District Plan;   (iii) the response plans and procedures, in the event of, any threatening disaster situat ion or  disaster;   (b) coordinate the preparation and the implementation of its plan with those of the other  organisation s at the district level including local authority, communities and other stakeholders;   (c) regularly review and update the plan; and   (d) submit a copy of its disaster management plan, and of any amendment theret o, to the District  Authority.\",\"With effect from such date as the Central  Government may, by notification in the Official Gazette appoint in this behalf, there shall be constituted  an institute to be called  the National Institute of Disaster Management.\",\"Responsibilities of departments of the State Government .\\u2014It shall be the responsibility of  every department o f the Government of a State to\\u2014  (a) take measures necessary for prevention of disasters, mitigation, preparedness and capacity - building in accordance with the guidelines laid down by the National Autho rity and the State  Authority;   (b) integrate into its development plans and projects, the measures for prevention of disaster and  mitigation;   (c) allocate funds for prevention of disaster, mitigation, capacity -building and preparedness;   (d) respond effectively and promptly to any threatening disaster situation or disaster in  accordance with the State Plan, and in accordance with the guidelines or directions of the National  Executive Committee and the State Executive Committee;   (e) review the enactments administered by it, its policies, rules and regulations with a view to  incorp orate therein the provisions necessary for prevention of disasters, mitigation or preparedness;   (f) provide assistance, as required, by the National Executive Committee, the State Executive  Committe e and District Authorities, for \\u2014  (i) drawing up mitigation, preparedness and response plans, capacity -building, data collection  and identification and training of personnel in relation to disaster management;   (ii) assessing the damage from any disaster;   (iii) carrying out rehabilitation and reconstruction;   (g) make provision for resources in consultation with the State Authority for the implementation  of the District Plan by its authorities at the district level;   (h) make available its resources to the Nationa l Executive Committee or the State Executive  Committee or the District Authorities for the purposes of responding promptly and effectively to any  disaster in the  State, including measures for \\u2014  (i) providing emergency communication with a vulnerable or affe cted area;   (ii) transporting personnel and relief goods to and from the affected area;   (iii) providing evacuation, rescue, temporary shelter or other immediate relief;   (iv)  carrying out evacuation of persons or live -stock from an area of any threatenin g disaster  situation or disaster;   (v) setting up temporary bridges, jetties and landing places;   (vi)providing drinking water, essential provisions, healthcare and services in an affected area;   (i) such other actions as may be necessary for disaster mana gement.\",\"The District Plan shall include \\u2014  (a) the areas in the district vulnerable to different forms of disasters;   (b) the measures to be taken, for prevention and mitigation of disaster, by the Departments of the  Government at the district level and local authorities in the district;  16   (c) the capaci ty-building and preparedness measures required to be taken by the Departments of  the Government at the district level and the local authorities in the district to respond to any  threatening disaster situation or disaster;   (d) the response plans and proced ures, in the eve nt of a disaster, providing for \\u2014  (i) allocation of responsibilities to the Departments of the Government at the district level and  the local authorities in the district;   (ii) prompt response to disaster and relief thereof;   (iii) procuremen t of essential resources;   (iv) establishment of communication link s; and   (v) the dissemination of information to the public;   (e) such other matters as may be required by the State Authority.\",\"Guidelines for minimum standards of relief .\\u2014The National Authority shall recommend  guidelines for the minimum st andards of relief to be provided to persons affected by  disaster, which shall  include,\\u2014  (i) the minimum requirements to be provided in the relief camps in relation to shelter, food,  drinking water, medical cover and sanitation;   (ii) the special provisions  to be made for widows and orphans;  9   (iii) ex gratia  assistance on account of loss of life as also assistance on account of damage to  houses and for restoration of means of livelihood;   (iv) such other relief as may be necessary.\",\"State Government to take measures .\\u2014(1) Subject to the provisions of this Act, each State  Government shall take all measures specified in the guidelines laid down by the National Authority and  such further measures as it deems necessary or expedient, for the purpose of disaster management.\",\"The term of office of, and vacancies among, members of the Natio nal Institute of Disaster  Management and manner of filling such vacancies shall be such as may be prescribed.\",\"The  State Government shall ens ure that the funds established \\u2014  (i) under clause ( a) of sub -section (1) is available to the State Executive Committee;   (ii) under sub -clause ( c) of sub -section ( 1) is available to the State Authority;   (iii) under clauses ( b) and ( d) of sub -section ( 1) are available to the District Authority.\",\"Allocation of funds by Ministries and Departments.\",\"CHAPTER VIII   NATIONAL  DISASTER  RESPONSE  FORCE   44.\",\"THE DISASTER MANAGEMENT ACT, 2005   ACT NO.\",\"The measures which the State Government may take under sub -section ( 1) include measures with  respect to all or any of the following matters, namely: \\u2014  (a) coordination of actions of different departments of the Government of the State, the State  Authority, District Authorities, local authority and other non -governmental organisation s;   (b) cooperation and assistance in the disaster management to the National Authority and National  Executive Committee, the State Authority and the State Executive Committee, and the District  Authorities;   (c) cooperation with, and assistance to, the Ministries or Departments of the Government of India  in disaster management, as r equested by them or otherwise deemed appropriate by it;   (d) allocation of funds for measures for prevention of disaster, mitigation, capacity -building and  preparedness by the departments of the Government of the State in accordance with the provisions of  the State Plan and the District Plans;   (e) ensure that the integration of measures for prevention of disaster or mitigation by the  departments of the Government of the State in their development plans and projects;   (f) integrate in the State development plan, measures to reduce or mitigate the vulnerability of  different parts of the State to different disasters;   (g) ensure the preparation of disaster management plans by different departments of the State in  accordance with the guidelines laid down by the  National Authority and the State Authority;   (h) establishment of adequate warning systems up to the level of vulnerable communities;   (i) ensure that different departments of the Government of the State and the District Authorities  take appropriate prepa redness measures;   (j) ensure that in a threatening disaster situation or disaster, the resources of different departments  of the Government of the State are made available to the National Executive Committee or the State  Executive Committee or the Distric t Authorities, as the case may be, for the purposes of effective  response, rescue and relief in any threatening disaster situation or disaster;   (k) provide rehabilitation and reconstruction assistance to the victims of any disaster; and   (l) such other ma tters as it deems necessary or expedient for the purpose of securing effective  implementation of provisions of this Act.\",\"Every Ministry or Department of  the Government of India shall \\u2014  (a) make, while preparing disaster management plan under clause ( a) of sub -section (1),  provisions for financing the activities specified therein;   (b) furnish a status report regarding the implementation of the plan referred to in clause ( a) of  sub-section ( 1) to the National Authority, as and when required by it.\",\"The National Disaster Mitigation Fund shall be applie d by the National Authority.\",\"The National Institute of Disaster Management shall consist of such number of members as may  be prescribed by the Central Government.\",\"There shall be a governing body of the National Institute of Disaster Management which shall be  constituted by the Central Government from am ongst the members of the National Institute of Disaster  Management in such manner as may be prescribed.\",\"Establishment of State Disaster Management Authority.\",\"The provisions of sub -section ( 1) shall, mutatis mutandis , apply to departments of the Government  of the State.\",\"Guidelines for minimum standard of  relief by State Authority .\\u2014The State Authority shall lay  down detailed guidelines for providing standards of relief to persons affected by disaster in the State:   Provided that such standards shall in no case be less than the minimum standards in the guid elines  laid down by the National Authority in this regard.\",\"Emergency procurement and accounting.\",\"CHAPTER II   THE NATIONAL  DISASTER  MANAGEMENT  AUTHORITY   3.\",\"The National Plan shall include \\u2014  (a) measures to be taken for the prevention of disasters, or the mitigation of their effects;   (b) measures to be taken for the integration of mitigation measures in the develo pment plans;   (c) measures to be taken for preparedness and capacity building to effectively respond to any  threatening disaster situations or disaster;   (d) roles and responsibilities of different Ministries or Departments of the Government of India in  respect of measures specified in clauses ( a), (b) and ( c).\",\"Every rule made by the Central  Government and every regulation made by the National Institute of Disaster Management under this Act  shall be laid, as soon as may be after it is made, before each House of Parliament, while it is in session,  for a total peri od of thirty days which may be comprised of one session or in two or more successive  sessions, and if, before the expiry of the session immediately following the session or the successive  sessions aforesaid, both Houses agree in making any modification in the rule or regulation or both Houses  agree that the rule or regulation should not be made, the rule or regulation shall thereafter have effect only 29   in such modified form or be of no effect, as the case may be; so, however, that any such modification or  annulment shall be without prejudice to the validity of anything previously done under that rule or  regulation.\",\"Whenever any resource, prem ises or vehicle is requisitioned under sub -section ( 1), the period of  such requisition shall not extend beyond the period for which such resource, premises or vehicle is  required for any of the purposes mentioned in that sub-section.\",\"An Act to provide for the effective management of disasters and for matters connected therewith  or incidental thereto.\",\"National Disaster Response Fund .\\u2014(1) The Central Government may, by notification in the  Official Gazette, constitute a fund to be called the National Disaster Response Fund for meeting any  threatening disaster situation or disaster and there shall be credited thereto \\u2014  (a) an amount which th e Central Government may, after due appropriation made by Parliament  by law in this behalf provide;   (b) any grants that may be made by any person or institution for the purpose of disaster  management.\",\"The Central Government may extend such support to other countries affected by major disaster as  it may de em appropriate.\",\"Without prejudice to the generality of the provisions of sub -section ( 1), the District Authority  may\\u2014  (i) prepare a di saster management plan including district response plan for the district;   (ii) coordinate and monitor the implementation of the National Policy, State Policy, National  Plan, State Plan and District Plan;   (iii) ensure that the areas in the district vulner able to disasters are identified and measures for the  prevention of disasters and the mitigation of its effects are undertaken by the departments of the  Government at the district level as well as by the local authorities;   (iv) ensure that the guidelines for prevention of disasters, mitigation of its effects, preparedness  and response measures as laid down by the National Authority and the State Authority are followed  by all departments of the Government at the district level and the local authorities in t he district;   (v) give directions to different authorities at the district level and local authorities to take such  other measures for the prevention or mitigation of disasters as may be necessary;   (vi) lay down guidelines for prevention of disaster manag ement plans by the department of the  Government at the districts level and local authorities in the district;   (vii) monitor the implementation of disaster management plans prepared by the Departments of  the Government at the district level;   (viii) lay do wn guidelines to be followed by the Departments of the Government at the district  level for purposes of integration of measures for prevention of disasters and mitigation in their  development plans and projects and provide necessary te chnical assistance th erefor;   (ix) monitor the implementation of measures referred to in clause ( viii);   (x) review the state of capabilities for responding to any disaster or threatening disaster situation  in the district and give directions to the relevant departments or auth orities at the district level for  their up gradation as may be necessary;   (xi) review the preparedness measures and give directions to the concerned departments at the  district level or other concerned authorities where necessary for bringing the prepared ness measures  to the levels required for responding effectively to any disaster or threatening disaster situation;   (xii) organise  and coordinate specialis ed training programmes for different levels of officers,  employees and voluntary rescue workers in the district;   (xiii) facilitate community training and awareness programmes for prevention of disaster or  mitigation with the support of local authorities, governmental and non -governmental organisation s;    15   (xiv) set up, maintain, review and upgrade the mechanism for early warnings and dissemination of  proper information to public;   (xv) prepare, review and update district level response plan and guidelines;   (xvi) coordinate response to any threatening disaster situation or disaster;   (xvii) ensure that the Departments of the Government at the district level and the local authorities  prepare their response plans in accordance with the district response plan;   (xviii) lay down guidelines for, or give direction to, the concerned Department of the Government  at the district level or any other authorities within the local limits of the district to take measures to  respond effectively to any threatening disaster si tuation or disaster;   (xix) advise, assist and coordinate the activities of the Departments of the Government at the  district level, statutory bodies and other governmental and non -governmental organisation s in the  district engaged in the disaster management;   (xx) coordinate with, and give guidelines to, local authorities in the district to ensure that  measures for the prevention or mitigation of threatening disaster situation or disaster in the district ar e  carried out promptly and effectively;   (xxi) provide necessary technical assistance or give advise to the local authorities in the district  for carrying out their functions;   (xxii) review development plans prepared by the Departments of the Government a t the district  level, statutory authorities or local authorities with a view to make necessary provisions therein for  preventio n of disaster or mitigation;   (xxiii) examine the construction in any area in the district and, if it is of the opinion that the  standards for the prevention of disaster or mitigation laid down for such construction is not being or  has not been followed, may direct the concerned authority to take such action as may be necessary to  secure compliance of such standards;   (xxiv) identify  buildings and places which could, in the event of any threatening disaster situation  or disaster, be used as relief centers or camps and make arrangements for water supply and sanitation  in such buildings or places;   (xxv) establish stockpiles of relief a nd rescue materials or ensure preparedness to make such  materials available at a short notice;   (xxvi) provide information to the State Authority relating to different aspects of disaster  management;   (xxvii ) encourage the involvement  of non -governmental organisation s and voluntary social - welfare institutions working at the grassroots level in the district for disaster management;   (xxviii ) ensure communication systems are in order, and disaster management drills are carried  out periodically;   (xxix) perform such other functions as the State Government or State Authority may assign to it or  as it deems necessary for disaster management in the District.\",\"Emergency procurement and accounting.\",\"vii) evacuation, rescue and relief;   (viii) rehabilitation and reconstruction;   (f) \\u201cDistrict Authority \\u201d means the District Disaster Management Authority constituted under sub - section ( 1) of section 25;   (g) \\u201cDistrict Plan \\u201d means the plan for disaster management  for the district prepared under section  31;   (h) \\u201clocal authority \\u201d includes panchayati raj institutions, municipalities, a district board,  cantonment board, town planning authority or Zila Parishad or any other body or authority, by  whatever name called, for the time being invested by law, for rendering essential services or, with the  control and management of civic services, within a specified local area;   (i) \\u201cmitigation\\u201d means measures aimed at reducing the risk, impact or effects of a disaster or  threatening disaster situation;   (j) \\u201cNational Authority \\u201d means the National Disaster Management Authority established under  sub-section ( 1) of section 3;   (k) \\u201cNational Executi ve Committee \\u201d means the Executive Committee of the National Authority  constituted under sub -section ( 1) of section 8;   (l) \\u201cNational Plan \\u201d means the plan for disaster management for the whole of the country prepared  under section 11;   (m) \\u201cpreparedness \\u201d means the state of readiness to deal with a threatening disaster situation or  disaster and the effects thereof;   (n) \\u201cprescribed\\u201d means prescribed by rules made under this Act;   (o) \\u201creconstruction \\u201d means construction or restoration of any property after a d isaster;   (p) \\u201cresources\\u201d includes manpower, services, materials and provisions;   (q) \\u201cState Authority \\u201d means the State Disaster Management Authority established under sub - section ( 1) of section 14 and includes the Disaster Management Authority for the Union territory  constituted under that section;   (r) \\u201cState Executive Committee \\u201d means the Executive Committee of a State Authority constituted  under sub -section ( 1) of section 20;   (s) \\u201cState Government \\u201d means the Department of Government of the State having administrative  control of disaster management and includes Administrator of the Union territory appointed by the  President under article 239 of the Constitution;   (t) \\u201cState Plan \\u201d means the plan for disaster management for the whole of the State prepared under  section 23.\",\"Without prejudice to the generality of the provisions of sub -section ( 1), the State Executive  Committee may \\u2014  (a) coordinate and monitor the implementation of the National Policy, the National Plan and the  State Plan;   (b) examine the vulnerability of diffe rent parts of the State to different forms of disasters and  specify measures to be taken for their prevention or mitigation;   (c) lay down guidelines for preparation of disaster management plans by the departments of the  Government of the State and the Dis trict Authorities;   (d) monitor the implementation of disaster management plans prepared by the departments of the  Government of the State and District Authorities;   (e) monitor the implementation of the guidelines laid down by the State Authority for inte grating  of measures for prevention of disasters and mitigation by the departments in their dev elopment plans  and projects;   (f) evaluate preparedness at all governmental or non -governmental levels to respond to any  threatening disaster situation or disaster  and give directions, where necessary, for enhancing such  preparedness;   (g) coordinate response in the event of any threatening disaster situation or disaster;   (h) give directions to any Department of the Government of the State or any other authority or   body in the State regarding actions to be taken in response to any threatening disaster situation or  disaster;   (i) promote general education, awareness and community training in regard to the forms of  disasters to which different parts of the State are v ulnerable and the measures that may be taken by  such community to prevent the disaster, mitigate and respond to such disaster;   (j) advise, assist and coordinate the activities of the Departments of the Government of the State,  District Authorities, statut ory bodies and other governmental and non -governmental organisation s  engaged in disaster management;   (k) provide necessary technical assistance or give advice to District Authorities and local  authorities for carrying out their functions effectively;   (l) advise the State Government regarding all financial matters in relation to disaster  management;   (m) examine the construction, in any local area in the State and, if it is of the opinion that the  standards laid for such construction for the prevention of disaster is not being or has not been  followed, may direct the District Authority or the local authority, as the case may be, to take such  action as may be necessary to secure compliance of such standards;   (n) provide information to the National Authority  relating to different aspects of disaster  management;   (o) lay down, review and update State level response plans and guidelines and ensure that the  district level plans are prepared, reviewed and updated;   (p) ensure that communication systems are in ord er and the disaster management drills are carried  out periodically;   (q) perform such other functions as may be assigned to it by the State Authority or as it may  consider necessary.\",\"Without prejudice to generality of the provisions contained in sub -section ( 1), the National  Authority may \\u2014  (a) lay down policies on disaster management;   (b) approve the National Plan;   (c) approve plans prepared by the Ministries or Departments of the Government of India in  accordance with the National Plan;   (d) lay down guidelines to be followed by the State Authorities in drawing up the State Plan;   (e) lay down guidelines to be followed b y the different Ministries or Departments of the  Government of India for the purpose of integrating the measures for prevention of disaster or the  mitigation of its effects in their development plans and projects;   (f) coordinate the enforcement and implem entation of the policy and plan for disaster  management;   (g) recommend provision of funds for the purpose of mitigation;   (h) provide such support to other countries affected by major disasters as may be determined by  the Central  Government;   (i) take such other measures for the prevention of disaster, or the mitigation, or preparedness and  capacity building for dealing with the threatening disaster situation or disaster as it may consider  necessary;   (j) lay down broad policies and guidelines for t he functioning of the National Institute of Disaster  Management.\",\"CHAPTER VIII   NATIONAL  DISASTER  RESPONSE  FORCE   44.\",\"A State Authori ty may, as  and when it considers necessary, constitute an advisory committee, consisting of experts in the field of  disaster management and having practical experience of disaster management to make recommendations  on different aspects of disaster manageme nt.\",\"Subject to the provisions of this Act, a State  Authority shall have the responsibil ity for laying down policies and plans for disas ter management in the  State.\",\"The National Executive Com mittee shall consist of the following members, namely: \\u2014  (a) the Secretary to the Government of India in charge of the Ministry or Department of the  Central Government having administrative control of the disaster management, who shall be  Chairperson, ex of ficio;   (b) the Secretaries to the Government of India in the Ministries or Departments having  administrative control of the agriculture, atomic energy, defence, drinking water supply, environment  and forests, finance (expenditure), health, power, rural de velopment, science and technology, space,  telecommunication, urban development, water resources and the Chief of the Integrated Defence Staff  of the Chiefs of Staff Committee, ex officio .\",\"Relief in loan repayment, etc.\",\"Direction to media  for communication of warnings, etc.\",\"Until the regulations are made under this section, the Central Government may make such  regulations; and any regulation so made may be altered or rescinded by the National Institute of Disaster  Management in exercise of its powers.\",\"Officers and other employees of the National Institute .\\u2014The Central Government shall  provide the National Institute of Disaster Management with such officers, consultants and other  employees, as it considers necessary, for  carrying out its functions.\",\"Every Ministry or Department of the  Government of India shall make provisions, in its annual budget, for funds for the purposes of carrying  out the activities and programmes set out in its disaster management plan.\",\"There shall be drawn up a plan for disaster management for the whole of the  country to be ca lled the National Plan.\",\"The National Authority may  constitute an advisory committee consisting of experts in the field of disaster management and having  practical experience of disaster management at the national, State or district level to make  recommendations on different asp ects of disaster management.\",\"Guide lines for minimum standard of relief by State Authority.\",\"District Plan .\\u2014(1) There shall be a plan for disaster management for every district of the State.\",\"Without prejudice to the generality of the provisions contained in sub -section ( 1), the Nat ional  Executive Committee may \\u2014  (a) act as the coordinating and monitoring body for disast er management;   (b) prepare the National Plan to be approved by the National Authority;   (c) coordinate and monitor the implementation of the National Policy;   (d) lay down guidelines for preparing disaster management plans by different Ministries or  Departments of the Government of India and the State Authorities;   (e) provide necessary technical assistance to the State Governments and the State Authorities for  prepa ring their disaster management plans in accordance with the guidelines laid down by the  National Authority;   (f) monitor the implementation of the National Plan and the plans prepared by the Ministries or  Departments of the Government of India;   (g) monito r the implementation of the guidelines laid down by the National Authority for  integrating of measures for prevention of disasters and mitigation by the Ministries or Departments in  their development plans and projects;    8   (h) monitor, coordinate and give d irections regarding the mitigation and preparedness measures to  be taken by different Ministries or Departments and agencies of the Government;   (i) evaluate the preparedness at all governmental levels for the purpose of responding to any  threatening disas ter situation or disaster and give directions, where necessary, for  enhancing such  preparedness;   (j) plan and coordinate specialis ed training programme for disaster management for different  levels of officers, employees and voluntary rescue workers;   (k) coordinate response in the event of any threatening disaster situation or disaster;   (l) lay down guidelines for, or give directions to, the concerned Ministries or Departments of the  Government of India, the State Governments and the State Authorities rega rding measures to be taken  by them in response to any threatening disaster situation or disaster;   (m) require any department or agency of the Government to make available to the National  Authority or State Authorities such men or material resources as are  available with it for the purposes  of emergency response, rescue and relief;   (n) advise, assist and coordinate the activities of the Ministries or Departments of the Government  of India, State Authorities, statutory bodies, other governmental or non -gove rnmental organisation s  and others engaged in disaster management;   (o) provide necessary technical assistance or give advice to the State Authorities and District  Authorities for carrying out their functions under this Act;   (p) promote general education a nd awareness in relation to disaster management; and   (q) perform such other functions as the National Authority may require it to perform.\",\"Appropriate provisions shall be made by the Central Government for financing the measures to be  carried out under the National Plan.\",\"National Institute of Disaster Management.\",\"Allocation of funds by  Ministries  and Departments.\",\"THE DISASTER MANAGEMENT ACT, 2005   ____________   ARRAGEMENT OF SECTIONS   _________ ___  CHAPTER I   PRELIMINARY     SECTIONS   1.\",\"In particular and without prejudice to the generality of the provisions of sub -section (1), the  measures which the Central Government may take under that sub -section include measures with respect  to all or any of the following matters, namely :\\u2014  (a) coordination of actions of the Ministries or Departments of the Government of India, State  Governments, National Authority, State Authorities, governmental and non -governmental  organisation s in relation to disaster management;   (b) ensure the integration of measures for prevention of disasters and mitigation by Ministries or  Departments of the G overnment of India into their development plans and projects;   (c) ensure appropriate allocation of funds for prevention of disaster, mitigation, capacity -building  and preparedness by the Ministries or Departments of the Government of India;   (d) ensure th at the Ministries or Departments of the Government of India take necessary measures  for preparedness to promptly and effectively respond to any threatening disaster situation or disaster;   (e) cooperation and assistance to State Governments, as requested b y them or otherwise deemed  appropriate by it;   (f) deployment of naval, military and air forces, other armed forces of the Union or any other  civilian personnel as may be required for the purposes of this Act;   (g) coordination with the United Nations agencies, international organisation s and governments  of foreign countries for the purposes of this Act;   (h) establish institutions for research, training, and developmental programmes in the field of  disaster managemen t;   (i) such other matters as it deems necessary or expedient for the purpose of securing effective  implementation of the provisions of this Act.\",\"If  it appears to the National Executive Committee, State Executive Committee or District Authority or any  officer as may be authorised  by it in t his behalf that \\u2014  (a) any resources with any authority or person are needed for the purpose of prompt response;   (b) any premises are needed or likely to be needed for the purpose of rescue operations; or   (c) any vehicle is needed or is likely to be needed for the purposes of transport of' resources from  disaster affected areas or transport of resources to the affected area or transport in connection with  rescue, rehabilitation or reconstruction,   such authority  may, by order in writing, requisition such resources or premises or such vehicle, as the case  may be, and may make such further orders as may appear to it to be necessary or expedient in connection  with the requisitioning.\",\"Definitions .\\u2014In this Act, unless t he context otherwise requires, \\u2014  (a) \\u201caffected area \\u201d means an area or part of the country affected by a disaster;   (b) \\u201ccapacity -building\\u201d includes\\u2014  (i) identification of existing resources and resources to be acquired or created;   (ii) acquiring or creating resources identified under sub -clause ( i);   (iii) organis ation and training of personnel and coordination of such training for effective  management of disasters;   (c) \\u201cCentral Government \\u201d means the Ministry or Department of the Government of India having  administrative control of disaster management;   (d) \\u201cdisaster\\u201d means a catastrophe, mishap, calamity or grave occurrence in any area, arising from  natural or man made causes, or by accident or negligence which results in substantial loss of life or  human suffering or damage to, an d destruction of, property, or damage to, or degradation of,  environment, and is of such a nature or magnitude as to be beyond the coping capacity of the  community of the affected area;   (e) \\u201cdisaster management \\u201d means a continuous and integrated process of planning, organising,  coordinating and implementing measures which are necessary or expedient for \\u2014  (i) prevention of danger or threat of any disaster;   (ii) mitigation or reduction of risk of any disaster or it s severity or consequences;   (iii) capacity -building;   (iv) preparedness to deal with any disaster;   (v) prompt response to any threatening disaster situation or disaster;   (vi) assessing the severity or magnitude of effects of any disaster;                                                               1.\",\"Subject to the provisions of this  Act, if it appears to the National Executive Committee, State Executive Committee or the District  Author ity, as the case may be, that provisions of any rule, regulation, notification, guideline, instruction,  order, scheme or bye -laws, as the case may be, are required to be made or amended for the purposes of  prevention of disasters or the mitigation thereof,  it may require the amendment of such rules, regulation,  26   notification, guidelines, instruction, order, scheme or bye -laws, as the case may be, for that purpose, and  the appropriate department or authority shall take necessary action to comply with the req uirements.\",\"The governing body of the National Institute of Disaster Management shall exercise such powers  and discharge such functions as may be prescribed by  regulations.\",\"With effect from such date as  the Central Government may, by notification in the Official Gazette appoint in this behalf, there shall be  established for the purposes of this Act, an authority to be known as the National Disaster Management  Authority.\",\"National Disaster Response Force.\",\"The National Authority may, in cases of disasters of severe  magnitude, recommend relief in repayment of loans or for grant of fresh loans to the persons affected by  disaster on such concessional terms as may be appropriate.\",\"Disaster management plan of departments of State .\\u2014(1) Every department of the State  Government, in conformity with the guidelines laid down  by the State Authority, shall \\u2014  (a) prepare a disaster management plan which shall lay down the following : \\u2014  (i) the types of disasters to which different parts of the State are vulnerable;   (ii) integration of strategies for the prevention of disaster or the mitigation of its effects or  both with the development plans and programmes by the department;   (iii) the roles and responsibilities of the department of the State in the event of any  threateni ng disaster situation or disaster and emergency support function it is required to perform;   (iv) present status of its preparedness to perform such roles or responsibilities or emergency  support function under sub -clause ( iii);  21   (v) the capacity -building and preparedness measures proposed to be put into effect in order to  enable the Ministries or Departments of the Government of India to discharge their  responsibilities under section 37;   (b) annually review and update the plan referred to in clause ( a); and   (c) furnish a copy of the plan referred to in clause ( a) or clause ( b), as the case may be, to the  State Authority.\",\"Disaster management plans of Ministries or Depar tments of Government of India.\",\"Relief in loan repayment, etc.\",\"Every State Government shall,  as soon as may be after the issue of the notification under sub -section ( 1) of section 3, by notification in  the Official Gazette, establish a State Disaster Management Authority for the State with such name as  may be specified in the notification of the State Government.\",\"Responsibilities of Ministries or Dep artments of Government of India.\",\"Subject to the provisions of this Act, the National Institute of Disaster Management shall function  within the broad policies and guidelines laid down by the National Authority and be responsible for  planning and promoting training and rese arch in the area of disaster management, documentation and  development of national level information base relating to disaster management policies, prevention  mechanisms and mitigation measures.\",\"The National Disaster Response Fund shall be made  available to the National Executive  Committee to be applied towards meeting the expenses for emergency response, relief and rehabilitation  in accordance with the guidelines laid down by the Central Government in consultation with the National  Authority.\",\"The local authority may take such other measures as may be necessary for the disaster  management.\",\"Without prejudice to the generality of the provisions contained in sub -section ( 8), the National  Institute, for the di scharge of its functions, may \\u2014  (a) develop training modules, undertake research and documentation in disaster management and  organise  training programmes;   (b) formulate and implement a compre hensive human resource development plan covering all  aspects of disaster management;   (c) provide assistance in national level policy formulation;   (d) provide required assistance to the training and research institutes for development of training  and rese arch programmes for stakeholders including Government functionaries and undertake  training of faculty members of the State level training institutes;   (e) provide assistance to the State Governments and State training institutes in the formulation of  State  level policies, strategies, disaster management framework and any other assistance as may be  required by the State Governments or State training institutes for capacity -building of stakeholders,  Government including its functionaries, civil society member s, corporate sector and people's elected  representatives;   (f) develop educational materials for disaster management including academic and professional  courses;   (g) promote awareness among stakeholders including college or school teachers and students,  technical personnel and others associated with multi -hazard mitigation, preparedness and response  measures;   (h) undertake, Organise  and facilitate study courses, conferences, lectures, seminars within and  outside the country to promote the aforesaid object s;   (i) undertake and provide for publication of journals, research papers and books and establish and  maintain libraries in furtherance of the aforesaid objects;   (j) do all such other lawful things as are conducive or incidental to the attainment of the above  objects; and   (k) undertake any other function as may be assigned to it by the Central Government.\",\"Subject to the provisions of this Act, the Central  Government shall take all such measures as it deems necessary or expedient for the purpose of disaster  management.\",\"For the purpose of assisting, protecting or providing relief to the community, in respon se to  any threatening disaster situation or disast er, the District Authority may \\u2014  (a) give directions for the release and use of resources available with any Department of the  Government and the local authority in the district;   (b) control and restrict vehicular traffic to, from and within, the vulnerable or affected area;  17   (c) control and restrict the entry of any person into, his movement within and departure from, a  vulnerable or affected area;   (d) remove debris, conduct search an d carry out rescue operations;   (e) provide shelter, food, drinking water and essential provisions, healthcare and services;   (f) establish emergency communication systems in the affected area;   (g) make arrangements for the disposal of the unclaimed dead bodies;   (h) recommend to any Department of the Government of the State or any authority or body under  that Government at the district level to take such measures as are necessary in its opinion;   (i) require experts and consultants in the relevant fields to advise and assist as it may deem  necessary;   (j) procure exclusive or preferential use of amenities from any authority or person;   (k) construct temporary bridges or other necessary structures and demolish structures which may  be hazardous to public or aggravate the effects of the disaster;   (l) ensure that the non -governmental organisation s carry out their activities in an equitable and  non-discriminatory manner;   (m) take such other steps  as may be required or warranted  to be taken in such a situation.\",\"Establishment of funds by S tate Government .\\u2014(1) The State Government shall, immediately  after notifications issued for constituting the State Authority and the District Authorities, establish for the  purposes of this Ac t the following funds, namely: \\u2014  (a) the fund to be called the State Disaster Response Fund;   (b) the fund to be called the District Disaster Response Fund;   (c) the fund to be called the State Disaster Mitigation Fund;   (d) the fund to be called the District Disaster Mitigation Fund.\",\"Every department of the State Government, while preparing the plan under sub -section ( 1), shall  make provisions for financing the a ctivities specified therein.\",\"The State Plan shall be prepared by the State Executive Committee having regard to the guidelines  laid down by the National Authority and after such consultation with local  authorities, distr ict authorities  and the people's representatives as the State Executive Committee may deem fit.\",\"National Disaster Response Force .\\u2014(1) There shall be constituted a National Disaster  Response Forc e for the purpose of specialist response to a threatening disaster situation or disaster.\",\"The National Plan shall be prepared by the National Executive Committee having regard to the  National Policy and in consultation with the State Governments and expert bodies or organisation s in the  field of disaster management to be approved by the National Authority.\",\"Appropriate provisions shall be made by the State Government for financing for the measures to  be carried out under the State Plan.\",\"Establishment of National Disaster Management Authority.\",\"National Institute of Disaster Management.\",\"National Disaster Mitigation Fund .\\u2014(1) The Central Government may, by notification in the  Official Gazette, constitute a Fund to be called the National Disaster Mitigation Fund for projects  exclusively for the purpose of mitigation and there shall be c redited thereto such amount which the  Central Government may, after due appropriation made by Parliament by law in this behalf, provide.\",\"It shall be the  responsibility of every Ministry or Department of  the Government of India  to\\u2014  (a) take measures necessary for prevention of disasters, mitigation, preparedness and capacity - building in accordance with the guidelines laid down by the National Authority;   (b) integrate into its development plans and projects, the measures for prevention or  mitigation of  disasters in accordance with the guidelines laid down by the National Authority;   (c) respond effectively and promptly to any threatening disaster situation or disaster in  accordance with the guidelines of the National Authority or the direc tions of the National Executive  Committee in this behalf;   (d) review the enactments administered by it, its policies, rules and regulations, with a view to  incorporate therein the provisions necessary for prevention of disasters, mitigation or preparednes s;   (e) allocate funds for measures for prevention of disaster, mitigation, capacity -building and  preparedness;   (f) provide assistance to the National Autho rity and State Governments for \\u2014  (i) drawing up mitigation, preparedness and response plans, capacit y-building, data collection  and identification and training of personnel in relation to disaster management;   (ii) carrying out rescue and relief operations in the affected area;   (iii) assessing the damage from any disaster;   (iv) carrying out rehabilitat ion and reconstruction;   (g) make available its resources to the National Executive Committee or a State Executive  Committee for the purposes of responding promptly and effectively to any threatening disaster  situation or di saster, including measures for \\u2014  (i) providing emergency communication in a vulnerable or affected area ;   (ii) transporting personnel and relief goods to and from the affected area;   (iii) providing evacuation, rescue, temporary shelter or other immediate relief;   (iv) setting up temporary bridges, jetties and landing places;   (v) providing, drinking water, essential provisions, healthcare, and services in an affected  area;   (h) take such other actions as it may consider necessary for disaster management.\",null],\"marker\":{\"opacity\":0.5,\"size\":5},\"mode\":\"markers+text\",\"name\":\"0_of disaster management_disaster management_threatening disaster situation\",\"text\":[\"\",\"\",\"\",\"\",\"\",\"\",\"\",\"\",\"\",\"\",\"\",\"\",\"\",\"\",\"\",\"\",\"\",\"\",\"\",\"\",\"\",\"\",\"\",\"\",\"\",\"\",\"\",\"\",\"\",\"\",\"\",\"\",\"\",\"\",\"\",\"\",\"\",\"\",\"\",\"\",\"\",\"\",\"\",\"\",\"\",\"\",\"\",\"\",\"\",\"\",\"\",\"\",\"\",\"\",\"\",\"\",\"\",\"\",\"\",\"\",\"\",\"\",\"\",\"\",\"\",\"\",\"\",\"\",\"\",\"\",\"\",\"\",\"\",\"\",\"\",\"\",\"\",\"\",\"\",\"\",\"\",\"\",\"\",\"\",\"\",\"\",\"\",\"\",\"\",\"\",\"\",\"\",\"\",\"\",\"\",\"\",\"\",\"\",\"\",\"\",\"\",\"\",\"\",\"\",\"\",\"\",\"\",\"0_of disaster management_disaster management_threatening disaster situation\"],\"textfont\":{\"size\":12},\"x\":[4.519015312194824,4.086861610412598,4.665164470672607,4.734147071838379,3.510350227355957,7.42829704284668,3.10876727104187,5.452613830566406,7.771948337554932,6.33885383605957,6.894020080566406,7.167065143585205,7.344710350036621,4.484990119934082,4.236336708068848,3.9424688816070557,4.367315292358398,4.29735803604126,4.821316719055176,6.829887866973877,7.471336841583252,7.246405601501465,7.354343414306641,6.873357772827148,3.90376615524292,6.1328816413879395,4.325531482696533,5.2939772605896,4.310015678405762,6.343989372253418,4.786957263946533,4.434897422790527,5.466150283813477,5.100937843322754,6.583069324493408,3.038517475128174,3.615206480026245,7.244032859802246,7.430123805999756,4.32602596282959,3.875002861022949,6.733694076538086,6.5020952224731445,6.461493015289307,6.873249053955078,3.1358208656311035,5.447793960571289,7.780218601226807,7.190029621124268,4.509774208068848,5.764542579650879,3.5346670150756836,7.435288906097412,6.780776023864746,7.285242080688477,4.502929210662842,7.786172866821289,4.418956279754639,4.811997413635254,4.529902458190918,7.218597412109375,7.02935266494751,4.989925861358643,1.6180654764175415,7.400003433227539,5.1570892333984375,5.791719436645508,6.436952590942383,3.80993390083313,4.986769676208496,6.68898344039917,5.4820356369018555,4.487817764282227,4.476408004760742,3.123955249786377,6.679851055145264,3.6355185508728027,7.444557189941406,4.404341697692871,4.133222579956055,4.529845714569092,5.665096282958984,5.87012243270874,6.178520202636719,6.653207778930664,7.177643775939941,4.4226202964782715,4.197488307952881,7.410049915313721,6.169850826263428,3.934922456741333,5.75802755355835,6.820035934448242,5.1535515785217285,5.428836822509766,5.375258922576904,4.235435962677002,6.707027912139893,3.137282609939575,3.131298065185547,6.634721279144287,5.148301124572754,3.097438097000122,6.867343902587891,6.644331932067871,6.774580955505371,4.478425025939941,5.469523906707764],\"y\":[7.281950950622559,8.038930892944336,7.776541233062744,7.80964469909668,8.32082748413086,8.641569137573242,8.987366676330566,8.662077903747559,8.5350923538208,7.499124050140381,8.342212677001953,8.504975318908691,8.638650894165039,7.069986820220947,6.321532249450684,7.895657539367676,8.150516510009766,6.560807704925537,7.866537094116211,8.417816162109375,7.923018455505371,8.446490287780762,8.266688346862793,8.354208946228027,7.962085723876953,7.75898551940918,8.129739761352539,7.526283264160156,7.893584251403809,7.576745986938477,7.874752044677734,7.500183582305908,8.66854190826416,7.367269039154053,7.779923439025879,7.858612060546875,8.373287200927734,8.519340515136719,8.037713050842285,7.935973167419434,8.280136108398438,9.184680938720703,7.678494930267334,7.651249885559082,8.361762046813965,8.014789581298828,8.642295837402344,8.53333854675293,8.472735404968262,8.290383338928223,7.232662200927734,7.150315761566162,7.9719390869140625,9.15905475616455,9.422089576721191,7.737168312072754,8.532328605651855,7.731550216674805,7.853848457336426,8.190390586853027,8.472945213317871,8.448258399963379,7.358465671539307,3.9506540298461914,8.744033813476562,6.539219856262207,7.271590709686279,7.583212852478027,8.295642852783203,7.669369220733643,8.413661003112793,8.678909301757812,7.429412841796875,8.191235542297363,8.263962745666504,7.960286617279053,8.342979431152344,8.047471046447754,8.12450885772705,6.459238529205322,8.231894493103027,7.191161632537842,7.344653129577637,7.513575077056885,8.17907428741455,8.934269905090332,8.028131484985352,8.06380558013916,8.758301734924316,7.7830681800842285,7.967828750610352,7.613180160522461,9.123034477233887,7.202889442443848,7.868858814239502,7.311999320983887,6.483365058898926,9.192216873168945,8.1296968460083,9.003826141357422,8.310270309448242,7.709839344024658,8.23241138458252,8.35040283203125,8.021211624145508,9.167566299438477,8.232586860656738,7.994024753570557],\"type\":\"scattergl\"},{\"hoverinfo\":\"text\",\"hovertext\":[\"Meetings of the State Authority .\\u2014(1) The State Authority shall meet as and when necessary  and at such time and place as the Chairperson of the State Authority may think fit.\",\"The District Authority shall consist of the Chairpers on and such number of other members, not  exceeding seven, as may be prescribed by the State Government, and unless the rules otherwise provide,  it shall con sist of the following, namely: \\u2014  (a) the Collector or District Magistrate or Deputy Commissioner, as the case may be, of the  district who shal l be Chairperson, ex officio ;   (b) the elected representative of the local authority who shall be the co -Chairperson, ex officio :   Provided that in the Tribal Areas, as referred to in the Sixth Schedule to the Const itution, the  Chief Executive Member of the district council of autonomous district, shall be the co -Chairperson,  ex officio ;   (c) the Chief Executive Officer of the District Authority, ex officio ;   (d) the Superintendent of Police, ex officio ;   (e) the Chief Medical Officer of the district, ex officio ;   (f) not exceeding two other district level officers, to be appointed by the State Government.\",\"In any district where zila parishad exists, the Chairperson thereof shall be the co -Chairperson of  the District Authority.\",\"The Chairperson of the National Authority shall, in the case of emergency, have power to exercise  all or any of the powers of the National Authority but exercise of such powers shall be subject to ex post  facto  ratification by the National Authority.\",\"The District Authority or the Chairperson of the District Authority may, by general or special  order, in writing, delegate such of its or his powers and functions, under sub -section ( 1) or ( 2), as the case  may be, to the Chief Executive Officer of the  District Authority, subject to such conditions and  limitations, if any, as it or he deems fit.\",\"Powers and functions of National Authority.\",\"Powers and functions of District Authority in the event of any threatening disaster situation or  disaster.\",\"A State Authority shall consist of the Chairperson a nd such number of other members, not  exceeding nine, as may be prescribed by the State Government and, unless the rules otherwise provide,  the State Authority shall consist of the following members, namely: \\u2014  (a) the Chief Minister of the State, who shall be Chairperson, ex officio ;   (b) other members, not exceeding eight, to be nominated by the Chairp erson of the State  Authority;   (c) the Chairperson of the State Executive Committee, ex officio .\",\"Powers and functions of District Authority in the event of any threatening disaster situation  or disaster.\",\"Meetings of National Authority .\\u2014(1) The National Authority shall meet as and when necessary  and at such time and place as the Chairperson of the National Authority may think fit.\",\"Every rule made by the State Government under this Act shall b e laid, as soon as may be after it is  made, before each House of the State Legislature where it consists of two Houses, or where such  Legislature consists of one House before that House.\",\"The Chairperson of the State Executive Committee shall be the Chief Executive Officer of the  State Authority, ex officio :   Provided that in the case of a Union territory having Legislative Assembly, except the Union territory  of Delhi, the Chief Minister shall be the Chairperson of the Authority established under this section and in  case of other Uni on territories, the Lieutenant Governor or the Administrator shall be the Chairperson of  that Authority:   Provided further that the Lieutenant Governor of the Union territory of Delhi shall be the Chairperson  and the Chief Minister thereof shall be the Vic e-Chairperson of the State Authority.\",\"Constitution of sub -committees.\",\"Appointment of officers and other employees of District Authority.\",\"The Cent ral Government shall,  immediately after issue of notification under sub -section ( 1) of section 3, constitute a National Executive  Committee to assist the National Authority in the performance of its functions under this Act.\",\"The State Government may, by notification in  the Official Gazette, make rules to carry out the p rovisions of this Act.\",\"Officers and other employees of the National Institute.\",\"Rules and regulations to be laid before Parliament.\",\"State Government to take measures.\",\"The procedure to be followed in exercise of its powers and discharge of its functions by the  governing body, and the term of office of, and the manner of filling vacancies among the members of the  governing body, shall be such as may be prescribed by regulations.\",\"The Chairperso n of the State Authority may designate one of the members nominated under  clause ( b) of sub -section ( 2) to be the Vice -Chairperson of the State Authority.\",\"Functions of the local authority.\",\"The National Authority shall consist of the Chairperson and such number of other members, not  exceeding nine, as may be prescribed by the Central Government and, unless the rules otherwise provide,  the National Authority s hall consist of the following: \\u2014  (a) the Prime Minister of India, who shall be the Chairperson of the National Authority,                        ex officio ;    6   (b) other members, not exceeding nine, to be nominated by the Chairperson of the National  Authority.\",\"The State Executive  Committee may, as and when it considers necessary, constitute one or more sub -committees, for efficient  discharge of its functions.\",\"Power of State Government to make rules.\",\"The State G overnment  shall provide the State Authority with such officers, consultants and employees, as it considers necessary,  for carrying out the functions of the State Authority.\",\"Powers and functions of National Executive Committee.\",\"BE it enacted by Parliament in the Fifty -sixth Year of the  Republic of India as follows: \\u2014  CHAPTER I   PRELIMINARY   1.\",\"Power to make regulations.\",\"Delegation of powers.\",\"Rules and regulations to be laid before Parliament.\",\"Subject to the provisions of this Act, the Force shall be constituted in such manner and, the  conditions of service of the members of the Force, including discip linary provisions therefore, be such as  may be prescribed.\",\"Powers and functions of District Authority.\",\"Powers of Chairperson of District Authority.\",\"For the purpose of this section \\u2014  (a) \\u201ccompany\\u201d means any body corporate and includes a firm or other association of individuals;  and   (b) \\u201cdirector\\u201d, in relation to a firm, means a partner in the firm.\",\"Constitution of National Executive Committee.\",\"Powers and functions of State Executive  Committee in the event of threatening disaster situation.\",\"Constitution of State Executive Committee.\",\"The procedure to be followed by the National Executive Committee in exercise of its powers and  discharge of its functions shall be such as may be prescrib ed by the Central Government.\",\"The State Executive Committee shal l, from amongst its members, appoint the Chairperson of the  sub-committee referred to in sub -section ( 1).\",\"Meetings.\",\"Power of Central Government to make rules.\",\"Meetings .\\u2014The District Authority shall meet as and when necessary and at such time and place  as the Chairperson may think fit.\",\"The Chairperson of the District Authority shall, in the case of an emergency, have power to  exercise all or any of the powers of the District Authority but the exercise of such powers shall be subject  to ex post facto  ratification of the District Authority.\",\"The Chairperson of the National Executive Committee may invite any other officer of the Central  Government or a State Government for taking part in any meeting of the National Executive Committee  and shall exercise such powers and perform such functions as may be prescribed by the Central  Government in consultation wi th the National Authority.\",\"The State Government shall appoint an officer not below the rank of Additional Collector or  Additional District Magistrate or Additional Deputy Commissioner, as the case may be, of the district to  be the Chief Executive Officer of  the District Authority to exercise such powers and perform such  functions as may be prescribed by the State Government and such other powers and functions as may be  delegated to him by the District Authority.\",\"Powers and functions of National Authority.\",\"Meetings of National Authority.\",\"Constitution of State Executive Committee.\",\"Meetings of the State Authority.\",\"Requisition by the District Authority.\",\"The Chairperson of the Na tional Authority may designate one of the members nominated under  clause ( b) of sub -section ( 2) to be the Vice -Chairperson of the National Authority.\",\"The Chairperson of the National Autho rity shall preside over the meetings of the National  Authority.\",\"The Chairperson of the State Executive Committee shall exercise such powers and perform such  functions as may be prescribed by the State Government and such other power s and functions as may be  delegated to him by the State Authority.\",\"The term of office and conditions of service of members of the National Authority shall  be such as  may be prescribed.\",\"Authentication of orders or decisions .\\u2014Every order or decision of the National Authority or  the National Executive Committee, the State Authority, or the State Executive Committee or the District  Authority, shall be authenticated by such officers  of the National Authority or the National Executive  Committee or, the State Executive Committee, or the District Authority, as may be authorised  by it in this  behalf.\",\"Powers and functions of National Executive Committee .\\u2014(1) The National Executive  Committee shall assist the National Authority in the discharge of its functions and have the responsibility  for implementing the policies and plans of the National Authority and ensure the compliance of directions  issued by the Cen tral Government for the purpose of disaster management in the country.\",\"Powers and functions of State Authority.\",\"Power to issue di rection by Central Government .\",\"Constitution of sub -committees by State Executive Committee.\",\"The term of office and conditions of service of members of the State Authority shall be such as  may be prescribed.\",\"Powe r of Central Government to make  rules.\",\"Appointment of officers and other employees of the National Authority .\\u2014The Central  Government shall provide the National Authority with such officers, consultants and employees, as it  considers necessary for carrying out the functions of the  National Authority.\",\"If for any reason the Chairperson of the National Authority is unable to attend any meeting of the  National Authority, the Vice -Chairperson of the National Authority shall preside over th e meeting.\",\"Powers and functions of State Authority.\",\"Constitution of National Executive Committee.\",\"Power to make regu lations .\\u2014(1) The National Institute of Disaster Management, with the  previous approval of the Central Government may, by notification in the Official Gazette, make  regulations consistent with this Act and the rules made thereunder to carry o ut the purposes  of this Act.\",\"Delegation of powers .\\u2014The National Executive Commi ttee, State Executive Committee, as the  case may be, by general or special order in writing, may delegate to the Chairperson or any other member  or to any officer, subject to such conditions and limitations, if any, as may be specified in the order, such  of its powers and functions under this Act as it may deem necessary.\",\"The Central Government may, by  notification in  the Official Gazette, make rules for carrying out the purposes of this Act.\",\"Functions of the local authority.\",\"The District Authority may,  as and when it considers necessary, constitute one or more advisory committees and other committees for  the efficien t discharge of its functions.\",\"Power of St ate Government to make rules.\",\"Appointment of officers and oth er employees of State Authority.\",\"Appointment of officers and other employees of District Authority .\\u2014The State Government  shall provide the District Authority with such officers, consultants and other employees as it considers  necessary for carr ying out the functions of District Authority.\",\"Constitution of sub -committee s by State Executive Committee.\",\"The District Authority shall, from amongst its members, appoint the Chairperson of the  Committee referred to in sub -section ( 1).\",\"Appointment of officers and other employees of the National Authority.\",\"The State Executive Committee shall consist of the following memb ers, namely: \\u2014  (a) the Chief Secretary to the State Government, who shall  be Chairperson, ex officio ;  (b) four Secretaries to the Government o f the State of such departments as the State Government  may think fit, ex officio .\",\"Powers of Ch airperson of District Authori ty.\\u2014(1) The Chairperson of the District Authority  shall, in addition to presiding over the meetings of the District Authority, exercise and discharge such  powers and functions of the District Authority as the District Authority may delegate to him.\",\"Functions of the State Executive Committee.\",\"The State Government shall, immediately  after issue of notification under sub -section ( 1) of section 14, constitute a State Executive Committee to  assist the State Authority in the performance of its functions and to coordinate action in accordance with  the guidelines laid down by the State Authority and ensure the compliance of directions is sued by the  State Government under this Act.\",\"The National Executive Committee shall, from amongst its members, appoint the Chairperson of  the sub -committee referred to in sub -section ( 1).\",\"The National Executive Committee may, as and when it  considers necessary, constitute one or more sub -committees, for the efficient discharge of its functions.\",\"Appointment of officers and other employees of State Authority.\",\"Power to issue direction by Central Government.\",\"Constitution of sub -committee s.  10.\",\"The Chairperson of the State Authority shall, i n the case of emergency, have power to exercise all  or any of the powers of the State Authority but the exercise of such powers shall be subject to                    ex post facto  ratification of the State Authority.\",\"The Chairperson of the State Authority shall preside over the meetings of the State Authority.\",\"In particular, and without prejudice to the generality of the foregoing power, such regulations may  provide for all or any of the following matters, namely: \\u2014  (a) powers and functions to be exercised and discharged by the governing body;   (b) procedure to be followed by the governing body in exercise of the powers and discharge of its  functions;   (c) any other matter for which under this Act provision may be made by the regulations.\",\"The procedure to be followed by the State Executive Committee in exercise of its powers and  discharge of its functions shall be such as may be prescribed by the State Government.\",\"Functions of the State Executive Committee .\\u2014(1) The State Executive Committee shall have  the responsibility for implementing the National Plan and State Plan and act as the coordinating and  monitoring body for management of disaster in the State.\",\"If for any r eason, the Chairperson of the State Authority is unable to attend the meeting of the  State Authority, the Vice -Chairperson of the State Authority shall preside at the meeting.\",\"Authentication of orders of decisions.\",\"Powers and functions of District Authority.\",\"Central Government to take measure s.  36.\",null],\"marker\":{\"opacity\":0.5,\"size\":5},\"mode\":\"markers+text\",\"name\":\"1_chairperson of the_the chairperson of_chairperson of\",\"text\":[\"\",\"\",\"\",\"\",\"\",\"\",\"\",\"\",\"\",\"\",\"\",\"\",\"\",\"\",\"\",\"\",\"\",\"\",\"\",\"\",\"\",\"\",\"\",\"\",\"\",\"\",\"\",\"\",\"\",\"\",\"\",\"\",\"\",\"\",\"\",\"\",\"\",\"\",\"\",\"\",\"\",\"\",\"\",\"\",\"\",\"\",\"\",\"\",\"\",\"\",\"\",\"\",\"\",\"\",\"\",\"\",\"\",\"\",\"\",\"\",\"\",\"\",\"\",\"\",\"\",\"\",\"\",\"\",\"\",\"\",\"\",\"\",\"\",\"\",\"\",\"\",\"\",\"\",\"\",\"\",\"\",\"\",\"\",\"\",\"\",\"\",\"\",\"\",\"\",\"\",\"\",\"\",\"\",\"\",\"\",\"1_chairperson of the_the chairperson of_chairperson of\"],\"textfont\":{\"size\":12},\"x\":[2.102996826171875,2.583726167678833,2.2796530723571777,3.493527889251709,2.7716896533966064,3.824781894683838,3.4203834533691406,1.8143491744995117,3.3938658237457275,2.149404764175415,4.384405136108398,1.7744581699371338,0.7746195197105408,2.7047884464263916,2.3911736011505127,4.7376627922058105,2.661285638809204,4.317294120788574,5.399265289306641,3.5750741958618164,1.8237324953079224,3.370708465576172,1.9264479875564575,2.064312219619751,4.59268045425415,2.7975425720214844,2.2341766357421875,4.466521263122559,4.562253475189209,3.7153267860412598,4.37847900390625,3.457636833190918,3.3293352127075195,2.9363605976104736,2.5625128746032715,0.7470237612724304,2.9291484355926514,0.7766103744506836,2.420287609100342,1.7060009241104126,2.172288417816162,4.606638431549072,2.1179733276367188,3.3442444801330566,2.3481037616729736,2.6936068534851074,3.8022842407226562,2.295775890350342,0.7538031339645386,2.3398380279541016,3.295567750930786,1.8421941995620728,1.9962424039840698,2.5516488552093506,3.4045228958129883,2.863699436187744,2.4672300815582275,3.74471378326416,4.537178993225098,0.8680163025856018,3.251526117324829,4.6195197105407715,2.7560582160949707,2.026448965072632,3.760867118835449,0.7806404829025269,4.774217128753662,2.8077521324157715,4.741237640380859,3.3979690074920654,2.1350209712982178,4.595691204071045,2.7128732204437256,2.8648717403411865,0.7956638932228088,2.1183900833129883,2.683433771133423,1.5878933668136597,2.9780235290527344,2.1891696453094482,2.3935916423797607,1.8370774984359741,2.0296385288238525,2.7678165435791016,4.537997245788574,0.7558534145355225,3.4267385005950928,1.990965485572815,4.01558780670166,2.4539167881011963,2.3810741901397705,1.9801111221313477,3.009580373764038,3.339407444000244,4.620935916900635,2.8475229740142822],\"y\":[3.299302816390991,3.8122947216033936,3.9423468112945557,4.48756742477417,4.211446762084961,4.371626853942871,5.133035182952881,3.674751043319702,5.0897369384765625,3.3261072635650635,3.2752513885498047,3.688524007797241,4.370466709136963,3.343125581741333,5.0006489753723145,3.517303943634033,3.3915212154388428,3.295823812484741,2.879167318344116,3.5497307777404785,3.7802672386169434,5.024893283843994,3.5926730632781982,4.649823188781738,4.034049987792969,3.3532888889312744,4.8094868659973145,3.251068115234375,4.1437087059021,4.450483322143555,3.236034870147705,3.435126543045044,5.010272026062012,4.451305389404297,3.5858683586120605,4.48538875579834,5.177284240722656,4.510975360870361,4.45164155960083,4.091521263122559,3.2467381954193115,4.071693420410156,3.3542604446411133,4.5612359046936035,4.041008949279785,3.7745659351348877,4.368744373321533,3.1677968502044678,4.478122234344482,3.1334047317504883,5.602604866027832,3.756417751312256,3.329564332962036,4.353860378265381,3.454587459564209,4.204374313354492,4.893525123596191,4.448712348937988,4.26843786239624,4.367960453033447,3.4089174270629883,4.0984296798706055,3.3943259716033936,3.365312337875366,4.433899402618408,4.497653484344482,4.83170223236084,4.231631278991699,3.577596426010132,5.065124988555908,4.585512638092041,4.068151473999023,3.3035969734191895,3.4922077655792236,4.4117302894592285,3.9867119789123535,3.370636463165283,3.8924734592437744,4.464620113372803,4.89329195022583,5.005995750427246,4.235584735870361,4.609764575958252,3.2971975803375244,4.176748752593994,4.362389087677002,4.518398761749268,3.4067323207855225,3.4533424377441406,4.554205417633057,5.028262615203857,3.3847599029541016,4.1905622482299805,5.0037713050842285,4.205326557159424,4.0723066329956055],\"type\":\"scattergl\"}],                        {\"template\":{\"data\":{\"barpolar\":[{\"marker\":{\"line\":{\"color\":\"white\",\"width\":0.5},\"pattern\":{\"fillmode\":\"overlay\",\"size\":10,\"solidity\":0.2}},\"type\":\"barpolar\"}],\"bar\":[{\"error_x\":{\"color\":\"rgb(36,36,36)\"},\"error_y\":{\"color\":\"rgb(36,36,36)\"},\"marker\":{\"line\":{\"color\":\"white\",\"width\":0.5},\"pattern\":{\"fillmode\":\"overlay\",\"size\":10,\"solidity\":0.2}},\"type\":\"bar\"}],\"carpet\":[{\"aaxis\":{\"endlinecolor\":\"rgb(36,36,36)\",\"gridcolor\":\"white\",\"linecolor\":\"white\",\"minorgridcolor\":\"white\",\"startlinecolor\":\"rgb(36,36,36)\"},\"baxis\":{\"endlinecolor\":\"rgb(36,36,36)\",\"gridcolor\":\"white\",\"linecolor\":\"white\",\"minorgridcolor\":\"white\",\"startlinecolor\":\"rgb(36,36,36)\"},\"type\":\"carpet\"}],\"choropleth\":[{\"colorbar\":{\"outlinewidth\":1,\"tickcolor\":\"rgb(36,36,36)\",\"ticks\":\"outside\"},\"type\":\"choropleth\"}],\"contourcarpet\":[{\"colorbar\":{\"outlinewidth\":1,\"tickcolor\":\"rgb(36,36,36)\",\"ticks\":\"outside\"},\"type\":\"contourcarpet\"}],\"contour\":[{\"colorbar\":{\"outlinewidth\":1,\"tickcolor\":\"rgb(36,36,36)\",\"ticks\":\"outside\"},\"colorscale\":[[0.0,\"#440154\"],[0.1111111111111111,\"#482878\"],[0.2222222222222222,\"#3e4989\"],[0.3333333333333333,\"#31688e\"],[0.4444444444444444,\"#26828e\"],[0.5555555555555556,\"#1f9e89\"],[0.6666666666666666,\"#35b779\"],[0.7777777777777778,\"#6ece58\"],[0.8888888888888888,\"#b5de2b\"],[1.0,\"#fde725\"]],\"type\":\"contour\"}],\"heatmapgl\":[{\"colorbar\":{\"outlinewidth\":1,\"tickcolor\":\"rgb(36,36,36)\",\"ticks\":\"outside\"},\"colorscale\":[[0.0,\"#440154\"],[0.1111111111111111,\"#482878\"],[0.2222222222222222,\"#3e4989\"],[0.3333333333333333,\"#31688e\"],[0.4444444444444444,\"#26828e\"],[0.5555555555555556,\"#1f9e89\"],[0.6666666666666666,\"#35b779\"],[0.7777777777777778,\"#6ece58\"],[0.8888888888888888,\"#b5de2b\"],[1.0,\"#fde725\"]],\"type\":\"heatmapgl\"}],\"heatmap\":[{\"colorbar\":{\"outlinewidth\":1,\"tickcolor\":\"rgb(36,36,36)\",\"ticks\":\"outside\"},\"colorscale\":[[0.0,\"#440154\"],[0.1111111111111111,\"#482878\"],[0.2222222222222222,\"#3e4989\"],[0.3333333333333333,\"#31688e\"],[0.4444444444444444,\"#26828e\"],[0.5555555555555556,\"#1f9e89\"],[0.6666666666666666,\"#35b779\"],[0.7777777777777778,\"#6ece58\"],[0.8888888888888888,\"#b5de2b\"],[1.0,\"#fde725\"]],\"type\":\"heatmap\"}],\"histogram2dcontour\":[{\"colorbar\":{\"outlinewidth\":1,\"tickcolor\":\"rgb(36,36,36)\",\"ticks\":\"outside\"},\"colorscale\":[[0.0,\"#440154\"],[0.1111111111111111,\"#482878\"],[0.2222222222222222,\"#3e4989\"],[0.3333333333333333,\"#31688e\"],[0.4444444444444444,\"#26828e\"],[0.5555555555555556,\"#1f9e89\"],[0.6666666666666666,\"#35b779\"],[0.7777777777777778,\"#6ece58\"],[0.8888888888888888,\"#b5de2b\"],[1.0,\"#fde725\"]],\"type\":\"histogram2dcontour\"}],\"histogram2d\":[{\"colorbar\":{\"outlinewidth\":1,\"tickcolor\":\"rgb(36,36,36)\",\"ticks\":\"outside\"},\"colorscale\":[[0.0,\"#440154\"],[0.1111111111111111,\"#482878\"],[0.2222222222222222,\"#3e4989\"],[0.3333333333333333,\"#31688e\"],[0.4444444444444444,\"#26828e\"],[0.5555555555555556,\"#1f9e89\"],[0.6666666666666666,\"#35b779\"],[0.7777777777777778,\"#6ece58\"],[0.8888888888888888,\"#b5de2b\"],[1.0,\"#fde725\"]],\"type\":\"histogram2d\"}],\"histogram\":[{\"marker\":{\"line\":{\"color\":\"white\",\"width\":0.6}},\"type\":\"histogram\"}],\"mesh3d\":[{\"colorbar\":{\"outlinewidth\":1,\"tickcolor\":\"rgb(36,36,36)\",\"ticks\":\"outside\"},\"type\":\"mesh3d\"}],\"parcoords\":[{\"line\":{\"colorbar\":{\"outlinewidth\":1,\"tickcolor\":\"rgb(36,36,36)\",\"ticks\":\"outside\"}},\"type\":\"parcoords\"}],\"pie\":[{\"automargin\":true,\"type\":\"pie\"}],\"scatter3d\":[{\"line\":{\"colorbar\":{\"outlinewidth\":1,\"tickcolor\":\"rgb(36,36,36)\",\"ticks\":\"outside\"}},\"marker\":{\"colorbar\":{\"outlinewidth\":1,\"tickcolor\":\"rgb(36,36,36)\",\"ticks\":\"outside\"}},\"type\":\"scatter3d\"}],\"scattercarpet\":[{\"marker\":{\"colorbar\":{\"outlinewidth\":1,\"tickcolor\":\"rgb(36,36,36)\",\"ticks\":\"outside\"}},\"type\":\"scattercarpet\"}],\"scattergeo\":[{\"marker\":{\"colorbar\":{\"outlinewidth\":1,\"tickcolor\":\"rgb(36,36,36)\",\"ticks\":\"outside\"}},\"type\":\"scattergeo\"}],\"scattergl\":[{\"marker\":{\"colorbar\":{\"outlinewidth\":1,\"tickcolor\":\"rgb(36,36,36)\",\"ticks\":\"outside\"}},\"type\":\"scattergl\"}],\"scattermapbox\":[{\"marker\":{\"colorbar\":{\"outlinewidth\":1,\"tickcolor\":\"rgb(36,36,36)\",\"ticks\":\"outside\"}},\"type\":\"scattermapbox\"}],\"scatterpolargl\":[{\"marker\":{\"colorbar\":{\"outlinewidth\":1,\"tickcolor\":\"rgb(36,36,36)\",\"ticks\":\"outside\"}},\"type\":\"scatterpolargl\"}],\"scatterpolar\":[{\"marker\":{\"colorbar\":{\"outlinewidth\":1,\"tickcolor\":\"rgb(36,36,36)\",\"ticks\":\"outside\"}},\"type\":\"scatterpolar\"}],\"scatter\":[{\"fillpattern\":{\"fillmode\":\"overlay\",\"size\":10,\"solidity\":0.2},\"type\":\"scatter\"}],\"scatterternary\":[{\"marker\":{\"colorbar\":{\"outlinewidth\":1,\"tickcolor\":\"rgb(36,36,36)\",\"ticks\":\"outside\"}},\"type\":\"scatterternary\"}],\"surface\":[{\"colorbar\":{\"outlinewidth\":1,\"tickcolor\":\"rgb(36,36,36)\",\"ticks\":\"outside\"},\"colorscale\":[[0.0,\"#440154\"],[0.1111111111111111,\"#482878\"],[0.2222222222222222,\"#3e4989\"],[0.3333333333333333,\"#31688e\"],[0.4444444444444444,\"#26828e\"],[0.5555555555555556,\"#1f9e89\"],[0.6666666666666666,\"#35b779\"],[0.7777777777777778,\"#6ece58\"],[0.8888888888888888,\"#b5de2b\"],[1.0,\"#fde725\"]],\"type\":\"surface\"}],\"table\":[{\"cells\":{\"fill\":{\"color\":\"rgb(237,237,237)\"},\"line\":{\"color\":\"white\"}},\"header\":{\"fill\":{\"color\":\"rgb(217,217,217)\"},\"line\":{\"color\":\"white\"}},\"type\":\"table\"}]},\"layout\":{\"annotationdefaults\":{\"arrowhead\":0,\"arrowwidth\":1},\"autotypenumbers\":\"strict\",\"coloraxis\":{\"colorbar\":{\"outlinewidth\":1,\"tickcolor\":\"rgb(36,36,36)\",\"ticks\":\"outside\"}},\"colorscale\":{\"diverging\":[[0.0,\"rgb(103,0,31)\"],[0.1,\"rgb(178,24,43)\"],[0.2,\"rgb(214,96,77)\"],[0.3,\"rgb(244,165,130)\"],[0.4,\"rgb(253,219,199)\"],[0.5,\"rgb(247,247,247)\"],[0.6,\"rgb(209,229,240)\"],[0.7,\"rgb(146,197,222)\"],[0.8,\"rgb(67,147,195)\"],[0.9,\"rgb(33,102,172)\"],[1.0,\"rgb(5,48,97)\"]],\"sequential\":[[0.0,\"#440154\"],[0.1111111111111111,\"#482878\"],[0.2222222222222222,\"#3e4989\"],[0.3333333333333333,\"#31688e\"],[0.4444444444444444,\"#26828e\"],[0.5555555555555556,\"#1f9e89\"],[0.6666666666666666,\"#35b779\"],[0.7777777777777778,\"#6ece58\"],[0.8888888888888888,\"#b5de2b\"],[1.0,\"#fde725\"]],\"sequentialminus\":[[0.0,\"#440154\"],[0.1111111111111111,\"#482878\"],[0.2222222222222222,\"#3e4989\"],[0.3333333333333333,\"#31688e\"],[0.4444444444444444,\"#26828e\"],[0.5555555555555556,\"#1f9e89\"],[0.6666666666666666,\"#35b779\"],[0.7777777777777778,\"#6ece58\"],[0.8888888888888888,\"#b5de2b\"],[1.0,\"#fde725\"]]},\"colorway\":[\"#1F77B4\",\"#FF7F0E\",\"#2CA02C\",\"#D62728\",\"#9467BD\",\"#8C564B\",\"#E377C2\",\"#7F7F7F\",\"#BCBD22\",\"#17BECF\"],\"font\":{\"color\":\"rgb(36,36,36)\"},\"geo\":{\"bgcolor\":\"white\",\"lakecolor\":\"white\",\"landcolor\":\"white\",\"showlakes\":true,\"showland\":true,\"subunitcolor\":\"white\"},\"hoverlabel\":{\"align\":\"left\"},\"hovermode\":\"closest\",\"mapbox\":{\"style\":\"light\"},\"paper_bgcolor\":\"white\",\"plot_bgcolor\":\"white\",\"polar\":{\"angularaxis\":{\"gridcolor\":\"rgb(232,232,232)\",\"linecolor\":\"rgb(36,36,36)\",\"showgrid\":false,\"showline\":true,\"ticks\":\"outside\"},\"bgcolor\":\"white\",\"radialaxis\":{\"gridcolor\":\"rgb(232,232,232)\",\"linecolor\":\"rgb(36,36,36)\",\"showgrid\":false,\"showline\":true,\"ticks\":\"outside\"}},\"scene\":{\"xaxis\":{\"backgroundcolor\":\"white\",\"gridcolor\":\"rgb(232,232,232)\",\"gridwidth\":2,\"linecolor\":\"rgb(36,36,36)\",\"showbackground\":true,\"showgrid\":false,\"showline\":true,\"ticks\":\"outside\",\"zeroline\":false,\"zerolinecolor\":\"rgb(36,36,36)\"},\"yaxis\":{\"backgroundcolor\":\"white\",\"gridcolor\":\"rgb(232,232,232)\",\"gridwidth\":2,\"linecolor\":\"rgb(36,36,36)\",\"showbackground\":true,\"showgrid\":false,\"showline\":true,\"ticks\":\"outside\",\"zeroline\":false,\"zerolinecolor\":\"rgb(36,36,36)\"},\"zaxis\":{\"backgroundcolor\":\"white\",\"gridcolor\":\"rgb(232,232,232)\",\"gridwidth\":2,\"linecolor\":\"rgb(36,36,36)\",\"showbackground\":true,\"showgrid\":false,\"showline\":true,\"ticks\":\"outside\",\"zeroline\":false,\"zerolinecolor\":\"rgb(36,36,36)\"}},\"shapedefaults\":{\"fillcolor\":\"black\",\"line\":{\"width\":0},\"opacity\":0.3},\"ternary\":{\"aaxis\":{\"gridcolor\":\"rgb(232,232,232)\",\"linecolor\":\"rgb(36,36,36)\",\"showgrid\":false,\"showline\":true,\"ticks\":\"outside\"},\"baxis\":{\"gridcolor\":\"rgb(232,232,232)\",\"linecolor\":\"rgb(36,36,36)\",\"showgrid\":false,\"showline\":true,\"ticks\":\"outside\"},\"bgcolor\":\"white\",\"caxis\":{\"gridcolor\":\"rgb(232,232,232)\",\"linecolor\":\"rgb(36,36,36)\",\"showgrid\":false,\"showline\":true,\"ticks\":\"outside\"}},\"title\":{\"x\":0.05},\"xaxis\":{\"automargin\":true,\"gridcolor\":\"rgb(232,232,232)\",\"linecolor\":\"rgb(36,36,36)\",\"showgrid\":false,\"showline\":true,\"ticks\":\"outside\",\"title\":{\"standoff\":15},\"zeroline\":false,\"zerolinecolor\":\"rgb(36,36,36)\"},\"yaxis\":{\"automargin\":true,\"gridcolor\":\"rgb(232,232,232)\",\"linecolor\":\"rgb(36,36,36)\",\"showgrid\":false,\"showline\":true,\"ticks\":\"outside\",\"title\":{\"standoff\":15},\"zeroline\":false,\"zerolinecolor\":\"rgb(36,36,36)\"}}},\"shapes\":[{\"line\":{\"color\":\"#CFD8DC\",\"width\":2},\"type\":\"line\",\"x0\":8.668097919225692,\"x1\":8.668097919225692,\"y0\":-0.5180493772029877,\"y1\":11.16456651687622},{\"line\":{\"color\":\"#9E9E9E\",\"width\":2},\"type\":\"line\",\"x0\":0.2660917162895203,\"x1\":17.070104122161865,\"y0\":5.323258569836616,\"y1\":5.323258569836616}],\"annotations\":[{\"showarrow\":false,\"text\":\"D1\",\"x\":0.2660917162895203,\"y\":5.323258569836616,\"yshift\":10},{\"showarrow\":false,\"text\":\"D2\",\"x\":8.668097919225692,\"xshift\":10,\"y\":11.16456651687622}],\"title\":{\"font\":{\"size\":22,\"color\":\"Black\"},\"text\":\"\\u003cb\\u003eDocuments and Topics\\u003c\\u002fb\\u003e\",\"x\":0.5,\"xanchor\":\"center\",\"yanchor\":\"top\"},\"width\":1200,\"height\":750,\"xaxis\":{\"visible\":false},\"yaxis\":{\"visible\":false}},                        {\"responsive\": true}                    ).then(function(){\n",
       "                            \n",
       "var gd = document.getElementById('dd2e05b2-7a0e-41a2-b4bc-5c373951a316');\n",
       "var x = new MutationObserver(function (mutations, observer) {{\n",
       "        var display = window.getComputedStyle(gd).display;\n",
       "        if (!display || display === 'none') {{\n",
       "            console.log([gd, 'removed!']);\n",
       "            Plotly.purge(gd);\n",
       "            observer.disconnect();\n",
       "        }}\n",
       "}});\n",
       "\n",
       "// Listen for the removal of the full notebook cells\n",
       "var notebookContainer = gd.closest('#notebook-container');\n",
       "if (notebookContainer) {{\n",
       "    x.observe(notebookContainer, {childList: true});\n",
       "}}\n",
       "\n",
       "// Listen for the clearing of the current output cell\n",
       "var outputEl = gd.closest('.output');\n",
       "if (outputEl) {{\n",
       "    x.observe(outputEl, {childList: true});\n",
       "}}\n",
       "\n",
       "                        })                };                });            </script>        </div>"
      ]
     },
     "metadata": {},
     "output_type": "display_data"
    }
   ],
   "source": [
    "topic_model.visualize_documents(docs, embeddings=embeddings)\n"
   ]
  },
  {
   "cell_type": "code",
   "execution_count": 365,
   "metadata": {},
   "outputs": [
    {
     "data": {
      "application/vnd.plotly.v1+json": {
       "config": {
        "plotlyServerURL": "https://plot.ly"
       },
       "data": [
        {
         "marker": {
          "color": "#D55E00"
         },
         "orientation": "h",
         "type": "bar",
         "x": [
          0.42929285764694214,
          0.4976290464401245,
          0.5463497042655945,
          0.5743478536605835,
          0.5964758396148682
         ],
         "xaxis": "x",
         "y": [
          "any threatening disaster  ",
          "threatening disaster  ",
          "threatening disaster situation  ",
          "disaster management  ",
          "of disaster management  "
         ],
         "yaxis": "y"
        },
        {
         "marker": {
          "color": "#0072B2"
         },
         "orientation": "h",
         "type": "bar",
         "x": [
          0.6108107566833496,
          0.618025541305542,
          0.6211215257644653,
          0.6232118606567383,
          0.6296696662902832
         ],
         "xaxis": "x2",
         "y": [
          "the chairperson  ",
          "of district authority  ",
          "chairperson of  ",
          "the chairperson of  ",
          "chairperson of the  "
         ],
         "yaxis": "y2"
        }
       ],
       "layout": {
        "annotations": [
         {
          "font": {
           "size": 16
          },
          "showarrow": false,
          "text": "Topic 0",
          "x": 0.0875,
          "xanchor": "center",
          "xref": "paper",
          "y": 1,
          "yanchor": "bottom",
          "yref": "paper"
         },
         {
          "font": {
           "size": 16
          },
          "showarrow": false,
          "text": "Topic 1",
          "x": 0.36250000000000004,
          "xanchor": "center",
          "xref": "paper",
          "y": 1,
          "yanchor": "bottom",
          "yref": "paper"
         }
        ],
        "height": 325,
        "hoverlabel": {
         "bgcolor": "white",
         "font": {
          "family": "Rockwell",
          "size": 16
         }
        },
        "showlegend": false,
        "template": {
         "data": {
          "bar": [
           {
            "error_x": {
             "color": "#2a3f5f"
            },
            "error_y": {
             "color": "#2a3f5f"
            },
            "marker": {
             "line": {
              "color": "white",
              "width": 0.5
             },
             "pattern": {
              "fillmode": "overlay",
              "size": 10,
              "solidity": 0.2
             }
            },
            "type": "bar"
           }
          ],
          "barpolar": [
           {
            "marker": {
             "line": {
              "color": "white",
              "width": 0.5
             },
             "pattern": {
              "fillmode": "overlay",
              "size": 10,
              "solidity": 0.2
             }
            },
            "type": "barpolar"
           }
          ],
          "carpet": [
           {
            "aaxis": {
             "endlinecolor": "#2a3f5f",
             "gridcolor": "#C8D4E3",
             "linecolor": "#C8D4E3",
             "minorgridcolor": "#C8D4E3",
             "startlinecolor": "#2a3f5f"
            },
            "baxis": {
             "endlinecolor": "#2a3f5f",
             "gridcolor": "#C8D4E3",
             "linecolor": "#C8D4E3",
             "minorgridcolor": "#C8D4E3",
             "startlinecolor": "#2a3f5f"
            },
            "type": "carpet"
           }
          ],
          "choropleth": [
           {
            "colorbar": {
             "outlinewidth": 0,
             "ticks": ""
            },
            "type": "choropleth"
           }
          ],
          "contour": [
           {
            "colorbar": {
             "outlinewidth": 0,
             "ticks": ""
            },
            "colorscale": [
             [
              0,
              "#0d0887"
             ],
             [
              0.1111111111111111,
              "#46039f"
             ],
             [
              0.2222222222222222,
              "#7201a8"
             ],
             [
              0.3333333333333333,
              "#9c179e"
             ],
             [
              0.4444444444444444,
              "#bd3786"
             ],
             [
              0.5555555555555556,
              "#d8576b"
             ],
             [
              0.6666666666666666,
              "#ed7953"
             ],
             [
              0.7777777777777778,
              "#fb9f3a"
             ],
             [
              0.8888888888888888,
              "#fdca26"
             ],
             [
              1,
              "#f0f921"
             ]
            ],
            "type": "contour"
           }
          ],
          "contourcarpet": [
           {
            "colorbar": {
             "outlinewidth": 0,
             "ticks": ""
            },
            "type": "contourcarpet"
           }
          ],
          "heatmap": [
           {
            "colorbar": {
             "outlinewidth": 0,
             "ticks": ""
            },
            "colorscale": [
             [
              0,
              "#0d0887"
             ],
             [
              0.1111111111111111,
              "#46039f"
             ],
             [
              0.2222222222222222,
              "#7201a8"
             ],
             [
              0.3333333333333333,
              "#9c179e"
             ],
             [
              0.4444444444444444,
              "#bd3786"
             ],
             [
              0.5555555555555556,
              "#d8576b"
             ],
             [
              0.6666666666666666,
              "#ed7953"
             ],
             [
              0.7777777777777778,
              "#fb9f3a"
             ],
             [
              0.8888888888888888,
              "#fdca26"
             ],
             [
              1,
              "#f0f921"
             ]
            ],
            "type": "heatmap"
           }
          ],
          "heatmapgl": [
           {
            "colorbar": {
             "outlinewidth": 0,
             "ticks": ""
            },
            "colorscale": [
             [
              0,
              "#0d0887"
             ],
             [
              0.1111111111111111,
              "#46039f"
             ],
             [
              0.2222222222222222,
              "#7201a8"
             ],
             [
              0.3333333333333333,
              "#9c179e"
             ],
             [
              0.4444444444444444,
              "#bd3786"
             ],
             [
              0.5555555555555556,
              "#d8576b"
             ],
             [
              0.6666666666666666,
              "#ed7953"
             ],
             [
              0.7777777777777778,
              "#fb9f3a"
             ],
             [
              0.8888888888888888,
              "#fdca26"
             ],
             [
              1,
              "#f0f921"
             ]
            ],
            "type": "heatmapgl"
           }
          ],
          "histogram": [
           {
            "marker": {
             "pattern": {
              "fillmode": "overlay",
              "size": 10,
              "solidity": 0.2
             }
            },
            "type": "histogram"
           }
          ],
          "histogram2d": [
           {
            "colorbar": {
             "outlinewidth": 0,
             "ticks": ""
            },
            "colorscale": [
             [
              0,
              "#0d0887"
             ],
             [
              0.1111111111111111,
              "#46039f"
             ],
             [
              0.2222222222222222,
              "#7201a8"
             ],
             [
              0.3333333333333333,
              "#9c179e"
             ],
             [
              0.4444444444444444,
              "#bd3786"
             ],
             [
              0.5555555555555556,
              "#d8576b"
             ],
             [
              0.6666666666666666,
              "#ed7953"
             ],
             [
              0.7777777777777778,
              "#fb9f3a"
             ],
             [
              0.8888888888888888,
              "#fdca26"
             ],
             [
              1,
              "#f0f921"
             ]
            ],
            "type": "histogram2d"
           }
          ],
          "histogram2dcontour": [
           {
            "colorbar": {
             "outlinewidth": 0,
             "ticks": ""
            },
            "colorscale": [
             [
              0,
              "#0d0887"
             ],
             [
              0.1111111111111111,
              "#46039f"
             ],
             [
              0.2222222222222222,
              "#7201a8"
             ],
             [
              0.3333333333333333,
              "#9c179e"
             ],
             [
              0.4444444444444444,
              "#bd3786"
             ],
             [
              0.5555555555555556,
              "#d8576b"
             ],
             [
              0.6666666666666666,
              "#ed7953"
             ],
             [
              0.7777777777777778,
              "#fb9f3a"
             ],
             [
              0.8888888888888888,
              "#fdca26"
             ],
             [
              1,
              "#f0f921"
             ]
            ],
            "type": "histogram2dcontour"
           }
          ],
          "mesh3d": [
           {
            "colorbar": {
             "outlinewidth": 0,
             "ticks": ""
            },
            "type": "mesh3d"
           }
          ],
          "parcoords": [
           {
            "line": {
             "colorbar": {
              "outlinewidth": 0,
              "ticks": ""
             }
            },
            "type": "parcoords"
           }
          ],
          "pie": [
           {
            "automargin": true,
            "type": "pie"
           }
          ],
          "scatter": [
           {
            "fillpattern": {
             "fillmode": "overlay",
             "size": 10,
             "solidity": 0.2
            },
            "type": "scatter"
           }
          ],
          "scatter3d": [
           {
            "line": {
             "colorbar": {
              "outlinewidth": 0,
              "ticks": ""
             }
            },
            "marker": {
             "colorbar": {
              "outlinewidth": 0,
              "ticks": ""
             }
            },
            "type": "scatter3d"
           }
          ],
          "scattercarpet": [
           {
            "marker": {
             "colorbar": {
              "outlinewidth": 0,
              "ticks": ""
             }
            },
            "type": "scattercarpet"
           }
          ],
          "scattergeo": [
           {
            "marker": {
             "colorbar": {
              "outlinewidth": 0,
              "ticks": ""
             }
            },
            "type": "scattergeo"
           }
          ],
          "scattergl": [
           {
            "marker": {
             "colorbar": {
              "outlinewidth": 0,
              "ticks": ""
             }
            },
            "type": "scattergl"
           }
          ],
          "scattermapbox": [
           {
            "marker": {
             "colorbar": {
              "outlinewidth": 0,
              "ticks": ""
             }
            },
            "type": "scattermapbox"
           }
          ],
          "scatterpolar": [
           {
            "marker": {
             "colorbar": {
              "outlinewidth": 0,
              "ticks": ""
             }
            },
            "type": "scatterpolar"
           }
          ],
          "scatterpolargl": [
           {
            "marker": {
             "colorbar": {
              "outlinewidth": 0,
              "ticks": ""
             }
            },
            "type": "scatterpolargl"
           }
          ],
          "scatterternary": [
           {
            "marker": {
             "colorbar": {
              "outlinewidth": 0,
              "ticks": ""
             }
            },
            "type": "scatterternary"
           }
          ],
          "surface": [
           {
            "colorbar": {
             "outlinewidth": 0,
             "ticks": ""
            },
            "colorscale": [
             [
              0,
              "#0d0887"
             ],
             [
              0.1111111111111111,
              "#46039f"
             ],
             [
              0.2222222222222222,
              "#7201a8"
             ],
             [
              0.3333333333333333,
              "#9c179e"
             ],
             [
              0.4444444444444444,
              "#bd3786"
             ],
             [
              0.5555555555555556,
              "#d8576b"
             ],
             [
              0.6666666666666666,
              "#ed7953"
             ],
             [
              0.7777777777777778,
              "#fb9f3a"
             ],
             [
              0.8888888888888888,
              "#fdca26"
             ],
             [
              1,
              "#f0f921"
             ]
            ],
            "type": "surface"
           }
          ],
          "table": [
           {
            "cells": {
             "fill": {
              "color": "#EBF0F8"
             },
             "line": {
              "color": "white"
             }
            },
            "header": {
             "fill": {
              "color": "#C8D4E3"
             },
             "line": {
              "color": "white"
             }
            },
            "type": "table"
           }
          ]
         },
         "layout": {
          "annotationdefaults": {
           "arrowcolor": "#2a3f5f",
           "arrowhead": 0,
           "arrowwidth": 1
          },
          "autotypenumbers": "strict",
          "coloraxis": {
           "colorbar": {
            "outlinewidth": 0,
            "ticks": ""
           }
          },
          "colorscale": {
           "diverging": [
            [
             0,
             "#8e0152"
            ],
            [
             0.1,
             "#c51b7d"
            ],
            [
             0.2,
             "#de77ae"
            ],
            [
             0.3,
             "#f1b6da"
            ],
            [
             0.4,
             "#fde0ef"
            ],
            [
             0.5,
             "#f7f7f7"
            ],
            [
             0.6,
             "#e6f5d0"
            ],
            [
             0.7,
             "#b8e186"
            ],
            [
             0.8,
             "#7fbc41"
            ],
            [
             0.9,
             "#4d9221"
            ],
            [
             1,
             "#276419"
            ]
           ],
           "sequential": [
            [
             0,
             "#0d0887"
            ],
            [
             0.1111111111111111,
             "#46039f"
            ],
            [
             0.2222222222222222,
             "#7201a8"
            ],
            [
             0.3333333333333333,
             "#9c179e"
            ],
            [
             0.4444444444444444,
             "#bd3786"
            ],
            [
             0.5555555555555556,
             "#d8576b"
            ],
            [
             0.6666666666666666,
             "#ed7953"
            ],
            [
             0.7777777777777778,
             "#fb9f3a"
            ],
            [
             0.8888888888888888,
             "#fdca26"
            ],
            [
             1,
             "#f0f921"
            ]
           ],
           "sequentialminus": [
            [
             0,
             "#0d0887"
            ],
            [
             0.1111111111111111,
             "#46039f"
            ],
            [
             0.2222222222222222,
             "#7201a8"
            ],
            [
             0.3333333333333333,
             "#9c179e"
            ],
            [
             0.4444444444444444,
             "#bd3786"
            ],
            [
             0.5555555555555556,
             "#d8576b"
            ],
            [
             0.6666666666666666,
             "#ed7953"
            ],
            [
             0.7777777777777778,
             "#fb9f3a"
            ],
            [
             0.8888888888888888,
             "#fdca26"
            ],
            [
             1,
             "#f0f921"
            ]
           ]
          },
          "colorway": [
           "#636efa",
           "#EF553B",
           "#00cc96",
           "#ab63fa",
           "#FFA15A",
           "#19d3f3",
           "#FF6692",
           "#B6E880",
           "#FF97FF",
           "#FECB52"
          ],
          "font": {
           "color": "#2a3f5f"
          },
          "geo": {
           "bgcolor": "white",
           "lakecolor": "white",
           "landcolor": "white",
           "showlakes": true,
           "showland": true,
           "subunitcolor": "#C8D4E3"
          },
          "hoverlabel": {
           "align": "left"
          },
          "hovermode": "closest",
          "mapbox": {
           "style": "light"
          },
          "paper_bgcolor": "white",
          "plot_bgcolor": "white",
          "polar": {
           "angularaxis": {
            "gridcolor": "#EBF0F8",
            "linecolor": "#EBF0F8",
            "ticks": ""
           },
           "bgcolor": "white",
           "radialaxis": {
            "gridcolor": "#EBF0F8",
            "linecolor": "#EBF0F8",
            "ticks": ""
           }
          },
          "scene": {
           "xaxis": {
            "backgroundcolor": "white",
            "gridcolor": "#DFE8F3",
            "gridwidth": 2,
            "linecolor": "#EBF0F8",
            "showbackground": true,
            "ticks": "",
            "zerolinecolor": "#EBF0F8"
           },
           "yaxis": {
            "backgroundcolor": "white",
            "gridcolor": "#DFE8F3",
            "gridwidth": 2,
            "linecolor": "#EBF0F8",
            "showbackground": true,
            "ticks": "",
            "zerolinecolor": "#EBF0F8"
           },
           "zaxis": {
            "backgroundcolor": "white",
            "gridcolor": "#DFE8F3",
            "gridwidth": 2,
            "linecolor": "#EBF0F8",
            "showbackground": true,
            "ticks": "",
            "zerolinecolor": "#EBF0F8"
           }
          },
          "shapedefaults": {
           "line": {
            "color": "#2a3f5f"
           }
          },
          "ternary": {
           "aaxis": {
            "gridcolor": "#DFE8F3",
            "linecolor": "#A2B1C6",
            "ticks": ""
           },
           "baxis": {
            "gridcolor": "#DFE8F3",
            "linecolor": "#A2B1C6",
            "ticks": ""
           },
           "bgcolor": "white",
           "caxis": {
            "gridcolor": "#DFE8F3",
            "linecolor": "#A2B1C6",
            "ticks": ""
           }
          },
          "title": {
           "x": 0.05
          },
          "xaxis": {
           "automargin": true,
           "gridcolor": "#EBF0F8",
           "linecolor": "#EBF0F8",
           "ticks": "",
           "title": {
            "standoff": 15
           },
           "zerolinecolor": "#EBF0F8",
           "zerolinewidth": 2
          },
          "yaxis": {
           "automargin": true,
           "gridcolor": "#EBF0F8",
           "linecolor": "#EBF0F8",
           "ticks": "",
           "title": {
            "standoff": 15
           },
           "zerolinecolor": "#EBF0F8",
           "zerolinewidth": 2
          }
         }
        },
        "title": {
         "font": {
          "color": "Black",
          "size": 22
         },
         "text": "Topic Word Scores",
         "x": 0.5,
         "xanchor": "center",
         "yanchor": "top"
        },
        "width": 1000,
        "xaxis": {
         "anchor": "y",
         "domain": [
          0,
          0.175
         ],
         "showgrid": true
        },
        "xaxis2": {
         "anchor": "y2",
         "domain": [
          0.275,
          0.45
         ],
         "showgrid": true
        },
        "xaxis3": {
         "anchor": "y3",
         "domain": [
          0.55,
          0.7250000000000001
         ],
         "showgrid": true
        },
        "xaxis4": {
         "anchor": "y4",
         "domain": [
          0.825,
          1
         ],
         "showgrid": true
        },
        "yaxis": {
         "anchor": "x",
         "domain": [
          0,
          1
         ],
         "showgrid": true
        },
        "yaxis2": {
         "anchor": "x2",
         "domain": [
          0,
          1
         ],
         "showgrid": true
        },
        "yaxis3": {
         "anchor": "x3",
         "domain": [
          0,
          1
         ],
         "showgrid": true
        },
        "yaxis4": {
         "anchor": "x4",
         "domain": [
          0,
          1
         ],
         "showgrid": true
        }
       }
      },
      "text/html": [
       "<div>                            <div id=\"fd292374-2de0-4b56-ba67-2daf0a18c25f\" class=\"plotly-graph-div\" style=\"height:325.0px; width:1000px;\"></div>            <script type=\"text/javascript\">                require([\"plotly\"], function(Plotly) {                    window.PLOTLYENV=window.PLOTLYENV || {};                                    if (document.getElementById(\"fd292374-2de0-4b56-ba67-2daf0a18c25f\")) {                    Plotly.newPlot(                        \"fd292374-2de0-4b56-ba67-2daf0a18c25f\",                        [{\"marker\":{\"color\":\"#D55E00\"},\"orientation\":\"h\",\"x\":[0.42929285764694214,0.4976290464401245,0.5463497042655945,0.5743478536605835,0.5964758396148682],\"y\":[\"any threatening disaster  \",\"threatening disaster  \",\"threatening disaster situation  \",\"disaster management  \",\"of disaster management  \"],\"type\":\"bar\",\"xaxis\":\"x\",\"yaxis\":\"y\"},{\"marker\":{\"color\":\"#0072B2\"},\"orientation\":\"h\",\"x\":[0.6108107566833496,0.618025541305542,0.6211215257644653,0.6232118606567383,0.6296696662902832],\"y\":[\"the chairperson  \",\"of district authority  \",\"chairperson of  \",\"the chairperson of  \",\"chairperson of the  \"],\"type\":\"bar\",\"xaxis\":\"x2\",\"yaxis\":\"y2\"}],                        {\"template\":{\"data\":{\"barpolar\":[{\"marker\":{\"line\":{\"color\":\"white\",\"width\":0.5},\"pattern\":{\"fillmode\":\"overlay\",\"size\":10,\"solidity\":0.2}},\"type\":\"barpolar\"}],\"bar\":[{\"error_x\":{\"color\":\"#2a3f5f\"},\"error_y\":{\"color\":\"#2a3f5f\"},\"marker\":{\"line\":{\"color\":\"white\",\"width\":0.5},\"pattern\":{\"fillmode\":\"overlay\",\"size\":10,\"solidity\":0.2}},\"type\":\"bar\"}],\"carpet\":[{\"aaxis\":{\"endlinecolor\":\"#2a3f5f\",\"gridcolor\":\"#C8D4E3\",\"linecolor\":\"#C8D4E3\",\"minorgridcolor\":\"#C8D4E3\",\"startlinecolor\":\"#2a3f5f\"},\"baxis\":{\"endlinecolor\":\"#2a3f5f\",\"gridcolor\":\"#C8D4E3\",\"linecolor\":\"#C8D4E3\",\"minorgridcolor\":\"#C8D4E3\",\"startlinecolor\":\"#2a3f5f\"},\"type\":\"carpet\"}],\"choropleth\":[{\"colorbar\":{\"outlinewidth\":0,\"ticks\":\"\"},\"type\":\"choropleth\"}],\"contourcarpet\":[{\"colorbar\":{\"outlinewidth\":0,\"ticks\":\"\"},\"type\":\"contourcarpet\"}],\"contour\":[{\"colorbar\":{\"outlinewidth\":0,\"ticks\":\"\"},\"colorscale\":[[0.0,\"#0d0887\"],[0.1111111111111111,\"#46039f\"],[0.2222222222222222,\"#7201a8\"],[0.3333333333333333,\"#9c179e\"],[0.4444444444444444,\"#bd3786\"],[0.5555555555555556,\"#d8576b\"],[0.6666666666666666,\"#ed7953\"],[0.7777777777777778,\"#fb9f3a\"],[0.8888888888888888,\"#fdca26\"],[1.0,\"#f0f921\"]],\"type\":\"contour\"}],\"heatmapgl\":[{\"colorbar\":{\"outlinewidth\":0,\"ticks\":\"\"},\"colorscale\":[[0.0,\"#0d0887\"],[0.1111111111111111,\"#46039f\"],[0.2222222222222222,\"#7201a8\"],[0.3333333333333333,\"#9c179e\"],[0.4444444444444444,\"#bd3786\"],[0.5555555555555556,\"#d8576b\"],[0.6666666666666666,\"#ed7953\"],[0.7777777777777778,\"#fb9f3a\"],[0.8888888888888888,\"#fdca26\"],[1.0,\"#f0f921\"]],\"type\":\"heatmapgl\"}],\"heatmap\":[{\"colorbar\":{\"outlinewidth\":0,\"ticks\":\"\"},\"colorscale\":[[0.0,\"#0d0887\"],[0.1111111111111111,\"#46039f\"],[0.2222222222222222,\"#7201a8\"],[0.3333333333333333,\"#9c179e\"],[0.4444444444444444,\"#bd3786\"],[0.5555555555555556,\"#d8576b\"],[0.6666666666666666,\"#ed7953\"],[0.7777777777777778,\"#fb9f3a\"],[0.8888888888888888,\"#fdca26\"],[1.0,\"#f0f921\"]],\"type\":\"heatmap\"}],\"histogram2dcontour\":[{\"colorbar\":{\"outlinewidth\":0,\"ticks\":\"\"},\"colorscale\":[[0.0,\"#0d0887\"],[0.1111111111111111,\"#46039f\"],[0.2222222222222222,\"#7201a8\"],[0.3333333333333333,\"#9c179e\"],[0.4444444444444444,\"#bd3786\"],[0.5555555555555556,\"#d8576b\"],[0.6666666666666666,\"#ed7953\"],[0.7777777777777778,\"#fb9f3a\"],[0.8888888888888888,\"#fdca26\"],[1.0,\"#f0f921\"]],\"type\":\"histogram2dcontour\"}],\"histogram2d\":[{\"colorbar\":{\"outlinewidth\":0,\"ticks\":\"\"},\"colorscale\":[[0.0,\"#0d0887\"],[0.1111111111111111,\"#46039f\"],[0.2222222222222222,\"#7201a8\"],[0.3333333333333333,\"#9c179e\"],[0.4444444444444444,\"#bd3786\"],[0.5555555555555556,\"#d8576b\"],[0.6666666666666666,\"#ed7953\"],[0.7777777777777778,\"#fb9f3a\"],[0.8888888888888888,\"#fdca26\"],[1.0,\"#f0f921\"]],\"type\":\"histogram2d\"}],\"histogram\":[{\"marker\":{\"pattern\":{\"fillmode\":\"overlay\",\"size\":10,\"solidity\":0.2}},\"type\":\"histogram\"}],\"mesh3d\":[{\"colorbar\":{\"outlinewidth\":0,\"ticks\":\"\"},\"type\":\"mesh3d\"}],\"parcoords\":[{\"line\":{\"colorbar\":{\"outlinewidth\":0,\"ticks\":\"\"}},\"type\":\"parcoords\"}],\"pie\":[{\"automargin\":true,\"type\":\"pie\"}],\"scatter3d\":[{\"line\":{\"colorbar\":{\"outlinewidth\":0,\"ticks\":\"\"}},\"marker\":{\"colorbar\":{\"outlinewidth\":0,\"ticks\":\"\"}},\"type\":\"scatter3d\"}],\"scattercarpet\":[{\"marker\":{\"colorbar\":{\"outlinewidth\":0,\"ticks\":\"\"}},\"type\":\"scattercarpet\"}],\"scattergeo\":[{\"marker\":{\"colorbar\":{\"outlinewidth\":0,\"ticks\":\"\"}},\"type\":\"scattergeo\"}],\"scattergl\":[{\"marker\":{\"colorbar\":{\"outlinewidth\":0,\"ticks\":\"\"}},\"type\":\"scattergl\"}],\"scattermapbox\":[{\"marker\":{\"colorbar\":{\"outlinewidth\":0,\"ticks\":\"\"}},\"type\":\"scattermapbox\"}],\"scatterpolargl\":[{\"marker\":{\"colorbar\":{\"outlinewidth\":0,\"ticks\":\"\"}},\"type\":\"scatterpolargl\"}],\"scatterpolar\":[{\"marker\":{\"colorbar\":{\"outlinewidth\":0,\"ticks\":\"\"}},\"type\":\"scatterpolar\"}],\"scatter\":[{\"fillpattern\":{\"fillmode\":\"overlay\",\"size\":10,\"solidity\":0.2},\"type\":\"scatter\"}],\"scatterternary\":[{\"marker\":{\"colorbar\":{\"outlinewidth\":0,\"ticks\":\"\"}},\"type\":\"scatterternary\"}],\"surface\":[{\"colorbar\":{\"outlinewidth\":0,\"ticks\":\"\"},\"colorscale\":[[0.0,\"#0d0887\"],[0.1111111111111111,\"#46039f\"],[0.2222222222222222,\"#7201a8\"],[0.3333333333333333,\"#9c179e\"],[0.4444444444444444,\"#bd3786\"],[0.5555555555555556,\"#d8576b\"],[0.6666666666666666,\"#ed7953\"],[0.7777777777777778,\"#fb9f3a\"],[0.8888888888888888,\"#fdca26\"],[1.0,\"#f0f921\"]],\"type\":\"surface\"}],\"table\":[{\"cells\":{\"fill\":{\"color\":\"#EBF0F8\"},\"line\":{\"color\":\"white\"}},\"header\":{\"fill\":{\"color\":\"#C8D4E3\"},\"line\":{\"color\":\"white\"}},\"type\":\"table\"}]},\"layout\":{\"annotationdefaults\":{\"arrowcolor\":\"#2a3f5f\",\"arrowhead\":0,\"arrowwidth\":1},\"autotypenumbers\":\"strict\",\"coloraxis\":{\"colorbar\":{\"outlinewidth\":0,\"ticks\":\"\"}},\"colorscale\":{\"diverging\":[[0,\"#8e0152\"],[0.1,\"#c51b7d\"],[0.2,\"#de77ae\"],[0.3,\"#f1b6da\"],[0.4,\"#fde0ef\"],[0.5,\"#f7f7f7\"],[0.6,\"#e6f5d0\"],[0.7,\"#b8e186\"],[0.8,\"#7fbc41\"],[0.9,\"#4d9221\"],[1,\"#276419\"]],\"sequential\":[[0.0,\"#0d0887\"],[0.1111111111111111,\"#46039f\"],[0.2222222222222222,\"#7201a8\"],[0.3333333333333333,\"#9c179e\"],[0.4444444444444444,\"#bd3786\"],[0.5555555555555556,\"#d8576b\"],[0.6666666666666666,\"#ed7953\"],[0.7777777777777778,\"#fb9f3a\"],[0.8888888888888888,\"#fdca26\"],[1.0,\"#f0f921\"]],\"sequentialminus\":[[0.0,\"#0d0887\"],[0.1111111111111111,\"#46039f\"],[0.2222222222222222,\"#7201a8\"],[0.3333333333333333,\"#9c179e\"],[0.4444444444444444,\"#bd3786\"],[0.5555555555555556,\"#d8576b\"],[0.6666666666666666,\"#ed7953\"],[0.7777777777777778,\"#fb9f3a\"],[0.8888888888888888,\"#fdca26\"],[1.0,\"#f0f921\"]]},\"colorway\":[\"#636efa\",\"#EF553B\",\"#00cc96\",\"#ab63fa\",\"#FFA15A\",\"#19d3f3\",\"#FF6692\",\"#B6E880\",\"#FF97FF\",\"#FECB52\"],\"font\":{\"color\":\"#2a3f5f\"},\"geo\":{\"bgcolor\":\"white\",\"lakecolor\":\"white\",\"landcolor\":\"white\",\"showlakes\":true,\"showland\":true,\"subunitcolor\":\"#C8D4E3\"},\"hoverlabel\":{\"align\":\"left\"},\"hovermode\":\"closest\",\"mapbox\":{\"style\":\"light\"},\"paper_bgcolor\":\"white\",\"plot_bgcolor\":\"white\",\"polar\":{\"angularaxis\":{\"gridcolor\":\"#EBF0F8\",\"linecolor\":\"#EBF0F8\",\"ticks\":\"\"},\"bgcolor\":\"white\",\"radialaxis\":{\"gridcolor\":\"#EBF0F8\",\"linecolor\":\"#EBF0F8\",\"ticks\":\"\"}},\"scene\":{\"xaxis\":{\"backgroundcolor\":\"white\",\"gridcolor\":\"#DFE8F3\",\"gridwidth\":2,\"linecolor\":\"#EBF0F8\",\"showbackground\":true,\"ticks\":\"\",\"zerolinecolor\":\"#EBF0F8\"},\"yaxis\":{\"backgroundcolor\":\"white\",\"gridcolor\":\"#DFE8F3\",\"gridwidth\":2,\"linecolor\":\"#EBF0F8\",\"showbackground\":true,\"ticks\":\"\",\"zerolinecolor\":\"#EBF0F8\"},\"zaxis\":{\"backgroundcolor\":\"white\",\"gridcolor\":\"#DFE8F3\",\"gridwidth\":2,\"linecolor\":\"#EBF0F8\",\"showbackground\":true,\"ticks\":\"\",\"zerolinecolor\":\"#EBF0F8\"}},\"shapedefaults\":{\"line\":{\"color\":\"#2a3f5f\"}},\"ternary\":{\"aaxis\":{\"gridcolor\":\"#DFE8F3\",\"linecolor\":\"#A2B1C6\",\"ticks\":\"\"},\"baxis\":{\"gridcolor\":\"#DFE8F3\",\"linecolor\":\"#A2B1C6\",\"ticks\":\"\"},\"bgcolor\":\"white\",\"caxis\":{\"gridcolor\":\"#DFE8F3\",\"linecolor\":\"#A2B1C6\",\"ticks\":\"\"}},\"title\":{\"x\":0.05},\"xaxis\":{\"automargin\":true,\"gridcolor\":\"#EBF0F8\",\"linecolor\":\"#EBF0F8\",\"ticks\":\"\",\"title\":{\"standoff\":15},\"zerolinecolor\":\"#EBF0F8\",\"zerolinewidth\":2},\"yaxis\":{\"automargin\":true,\"gridcolor\":\"#EBF0F8\",\"linecolor\":\"#EBF0F8\",\"ticks\":\"\",\"title\":{\"standoff\":15},\"zerolinecolor\":\"#EBF0F8\",\"zerolinewidth\":2}}},\"xaxis\":{\"anchor\":\"y\",\"domain\":[0.0,0.175],\"showgrid\":true},\"yaxis\":{\"anchor\":\"x\",\"domain\":[0.0,1.0],\"showgrid\":true},\"xaxis2\":{\"anchor\":\"y2\",\"domain\":[0.275,0.45],\"showgrid\":true},\"yaxis2\":{\"anchor\":\"x2\",\"domain\":[0.0,1.0],\"showgrid\":true},\"xaxis3\":{\"anchor\":\"y3\",\"domain\":[0.55,0.7250000000000001],\"showgrid\":true},\"yaxis3\":{\"anchor\":\"x3\",\"domain\":[0.0,1.0],\"showgrid\":true},\"xaxis4\":{\"anchor\":\"y4\",\"domain\":[0.825,1.0],\"showgrid\":true},\"yaxis4\":{\"anchor\":\"x4\",\"domain\":[0.0,1.0],\"showgrid\":true},\"annotations\":[{\"font\":{\"size\":16},\"showarrow\":false,\"text\":\"Topic 0\",\"x\":0.0875,\"xanchor\":\"center\",\"xref\":\"paper\",\"y\":1.0,\"yanchor\":\"bottom\",\"yref\":\"paper\"},{\"font\":{\"size\":16},\"showarrow\":false,\"text\":\"Topic 1\",\"x\":0.36250000000000004,\"xanchor\":\"center\",\"xref\":\"paper\",\"y\":1.0,\"yanchor\":\"bottom\",\"yref\":\"paper\"}],\"title\":{\"font\":{\"size\":22,\"color\":\"Black\"},\"text\":\"Topic Word Scores\",\"x\":0.5,\"xanchor\":\"center\",\"yanchor\":\"top\"},\"hoverlabel\":{\"font\":{\"size\":16,\"family\":\"Rockwell\"},\"bgcolor\":\"white\"},\"showlegend\":false,\"width\":1000,\"height\":325.0},                        {\"responsive\": true}                    ).then(function(){\n",
       "                            \n",
       "var gd = document.getElementById('fd292374-2de0-4b56-ba67-2daf0a18c25f');\n",
       "var x = new MutationObserver(function (mutations, observer) {{\n",
       "        var display = window.getComputedStyle(gd).display;\n",
       "        if (!display || display === 'none') {{\n",
       "            console.log([gd, 'removed!']);\n",
       "            Plotly.purge(gd);\n",
       "            observer.disconnect();\n",
       "        }}\n",
       "}});\n",
       "\n",
       "// Listen for the removal of the full notebook cells\n",
       "var notebookContainer = gd.closest('#notebook-container');\n",
       "if (notebookContainer) {{\n",
       "    x.observe(notebookContainer, {childList: true});\n",
       "}}\n",
       "\n",
       "// Listen for the clearing of the current output cell\n",
       "var outputEl = gd.closest('.output');\n",
       "if (outputEl) {{\n",
       "    x.observe(outputEl, {childList: true});\n",
       "}}\n",
       "\n",
       "                        })                };                });            </script>        </div>"
      ]
     },
     "metadata": {},
     "output_type": "display_data"
    }
   ],
   "source": [
    "# visualize topic words/n_grams\n",
    "fig = topic_model.visualize_barchart(top_n_topics=10)\n",
    "fig.show()\n"
   ]
  },
  {
   "cell_type": "code",
   "execution_count": null,
   "metadata": {},
   "outputs": [],
   "source": []
  }
 ],
 "metadata": {
  "kernelspec": {
   "display_name": "dislex_project",
   "language": "python",
   "name": "python3"
  },
  "language_info": {
   "codemirror_mode": {
    "name": "ipython",
    "version": 3
   },
   "file_extension": ".py",
   "mimetype": "text/x-python",
   "name": "python",
   "nbconvert_exporter": "python",
   "pygments_lexer": "ipython3",
   "version": "3.10.6"
  }
 },
 "nbformat": 4,
 "nbformat_minor": 2
}
