{
 "cells": [
  {
   "cell_type": "code",
   "execution_count": 1,
   "id": "8e7c0d9b-58cf-48fe-a98f-e10856800d00",
   "metadata": {},
   "outputs": [
    {
     "name": "stdout",
     "output_type": "stream",
     "text": [
      "                  Country                                               Text\n",
      "0                Cambodia  1 \\n  \\n \\nKINGDOM OF CAMBODIA \\nNATION  RELIG...\n",
      "1                   India  1 \\n THE DISASTER MANAGEMENT ACT, 2005  \\n____...\n",
      "2  Bosnia and Herzegovina   1  \\n \\nPursuant to Article IV4.a) of the Con...\n",
      "3                Barbados  CHAPTER 160A\\nEMERGENCY MANAGEMENT\\n2006-20\\nT...\n",
      "4              Bangladesh   \\nRegistered No. DA -1  \\n \\nBangladesh Gazet...\n"
     ]
    }
   ],
   "source": [
    "# The following code extracts text from the selectable pdf file and the dataframe is then converted to a pickle file\n",
    "import os\n",
    "import PyPDF2\n",
    "import pandas as pd\n",
    "\n",
    "directory = '/home/pratimathapa/code/PratimaThapa/DisLex_Project/raw_data' # Add the path to your directory\n",
    "\n",
    "# List all files in the directory\n",
    "files = os.listdir(directory)\n",
    "\n",
    "# Filter out files not ending with \"_scanned.pdf\" and are PDFs\n",
    "pdf_files = [file for file in files if file.endswith('.pdf') and not file.endswith('_scanned.pdf')]\n",
    "\n",
    "data = []\n",
    "\n",
    "for file_name in pdf_files:\n",
    "    file_path = os.path.join(directory, file_name)\n",
    "    country_name = file_name.replace('.pdf', '')  # Extract country name from the file name\n",
    "\n",
    "    # Open each PDF file\n",
    "    with open(file_path, 'rb') as pdf_file:\n",
    "        pdf_reader = PyPDF2.PdfReader(pdf_file)\n",
    "\n",
    "        # Extract text from each page\n",
    "        num_pages = len(pdf_reader.pages)\n",
    "        text = ''\n",
    "        for page_num in range(num_pages):\n",
    "            page = pdf_reader.pages[page_num]\n",
    "            text += page.extract_text()\n",
    "        # Append country name and extracted text to the list\n",
    "        data.append({'Country': country_name, 'Text': text})\n",
    "\n",
    "# Create a Pandas DataFrame\n",
    "df = pd.DataFrame(data)\n",
    "\n",
    "# Display the DataFrame\n",
    "#print(df)\n",
    "# Save the DataFrame to a CSV file if needed\n",
    "#df.to_csv('extracted_text_data_eng.csv', index=False)\n",
    "\n",
    "# Saving the dataframe as pickle file\n",
    "df.to_pickle('extracted_text_data_eng.pkl')\n",
    "\n",
    "# Load the saved pickle file back as a DataFrame\n",
    "df_loaded = pd.read_pickle('extracted_text_data_eng.pkl')\n",
    "print(df_loaded.head())"
   ]
  },
  {
   "cell_type": "code",
   "execution_count": null,
   "id": "b3e80989-af09-4d1f-9431-28cec73a5675",
   "metadata": {},
   "outputs": [],
   "source": []
  }
 ],
 "metadata": {
  "kernelspec": {
   "display_name": "Python 3 (ipykernel)",
   "language": "python",
   "name": "python3"
  },
  "language_info": {
   "codemirror_mode": {
    "name": "ipython",
    "version": 3
   },
   "file_extension": ".py",
   "mimetype": "text/x-python",
   "name": "python",
   "nbconvert_exporter": "python",
   "pygments_lexer": "ipython3",
   "version": "3.10.6"
  }
 },
 "nbformat": 4,
 "nbformat_minor": 5
}
