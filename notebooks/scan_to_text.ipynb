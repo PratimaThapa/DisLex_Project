{
 "cells": [
  {
   "cell_type": "code",
   "execution_count": null,
   "id": "27ab158f-20c8-47f0-b2aa-88be1be6a2ee",
   "metadata": {},
   "outputs": [],
   "source": []
  },
  {
   "cell_type": "code",
   "execution_count": 2,
   "id": "77589933-8fe0-4000-ac92-1fe384cc64a1",
   "metadata": {},
   "outputs": [
    {
     "name": "stdout",
     "output_type": "stream",
     "text": [
      "Empty DataFrame\n",
      "Columns: [Country, Language, Text]\n",
      "Index: []\n"
     ]
    }
   ],
   "source": [
    "import fitz  # PyMuPDF\n",
    "import os\n",
    "import pandas as pd\n",
    "\n",
    "# Directory path\n",
    "directory = '/home/pratimathapa/code/PratimaThapa/DisLex_Project/raw_data/scanned_data_eng'\n",
    "\n",
    "# Function to extract text from PDF\n",
    "def extract_text_from_pdf(pdf_path):\n",
    "    text = ''\n",
    "    try:\n",
    "        document = fitz.open(pdf_path)\n",
    "        for page in document:\n",
    "            text += page.get_text()\n",
    "    except Exception as e:\n",
    "        print(f\"Exception occurred: {str(e)}\")\n",
    "    return text\n",
    "\n",
    "# Function to get country name from file name\n",
    "def get_country_name(file_name):\n",
    "    return file_name.split('_scanned.pdf')[0]\n",
    "\n",
    "# Create an empty DataFrame\n",
    "data = {'Country': [], 'Language': [], 'Text': []}  # Updated 'Text' here\n",
    "df = pd.DataFrame(data)\n",
    "\n",
    "# Loop through the directory\n",
    "for filename in os.listdir(directory):\n",
    "    if filename.endswith('_scanned.pdf'):\n",
    "        file_path = os.path.join(directory, filename)\n",
    "        country = get_country_name(filename)\n",
    "        text = extract_text_from_pdf(file_path)\n",
    "        \n",
    "        # Append data to DataFrame\n",
    "        df = df.append({'Country': country, 'Language': 'English', 'Text': text}, ignore_index=True)  # Updated 'Text' here\n",
    "\n",
    "# Display the DataFrame\n",
    "print(df)\n",
    "\n",
    "# Save DataFrame to a pickle file\n",
    "df.to_pickle('extracted_data.pkl')\n",
    "\n"
   ]
  },
  {
   "cell_type": "code",
   "execution_count": null,
   "id": "e18a197e-ef41-4c17-aeb4-8d19f6fe5c1b",
   "metadata": {},
   "outputs": [],
   "source": []
  }
 ],
 "metadata": {
  "kernelspec": {
   "display_name": "Python 3 (ipykernel)",
   "language": "python",
   "name": "python3"
  },
  "language_info": {
   "codemirror_mode": {
    "name": "ipython",
    "version": 3
   },
   "file_extension": ".py",
   "mimetype": "text/x-python",
   "name": "python",
   "nbconvert_exporter": "python",
   "pygments_lexer": "ipython3",
   "version": "3.10.6"
  }
 },
 "nbformat": 4,
 "nbformat_minor": 5
}
