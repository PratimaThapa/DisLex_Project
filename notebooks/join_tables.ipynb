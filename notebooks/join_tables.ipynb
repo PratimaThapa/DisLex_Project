{
 "cells": [
  {
   "cell_type": "code",
   "execution_count": 5,
   "metadata": {},
   "outputs": [
    {
     "name": "stdout",
     "output_type": "stream",
     "text": [
      "                                            Sentence Language  Country\n",
      "0  REPUBLIC OF VANUATU  Assent:  Commencement:  2...  English  Vanuatu\n",
      "1  Be it enacted by lbe President and Parliament ...  English  Vanuatu\n",
      "2  Geological Hazards and Climate Change;  disast...  English  Vanuatu\n",
      "3  23 oj2()19  4  PART 1  PRELIMINARY MATTERS  <a...  English  Vanuatu\n",
      "4  2501'2016;  National Cluster means a Govemment...  English  Vanuatu\n"
     ]
    }
   ],
   "source": [
    "import os\n",
    "import pandas as pd\n",
    "\n",
    "# Path to the folder containing Excel files\n",
    "folder_path = '/home/pratimathapa/code/PratimaThapa/DisLex_Project/csv_files/English'   #Path to your folder\n",
    "\n",
    "# Initialize an empty list to store DataFrames\n",
    "dfs = []\n",
    "\n",
    "# Iterate through each file in the folder\n",
    "for filename in os.listdir(folder_path):\n",
    "    if filename.endswith('.xlsx'):\n",
    "        file_path = os.path.join(folder_path, filename)\n",
    "        # Read the Excel file into a DataFrame\n",
    "        df = pd.read_excel(file_path)\n",
    "        # Append the DataFrame to the list\n",
    "        dfs.append(df)\n",
    "\n",
    "# Concatenate all DataFrames in the list into a single DataFrame\n",
    "combined_df = pd.concat(dfs, ignore_index=True)\n",
    "\n",
    "# Display the combined DataFrame\n",
    "print(combined_df.head())\n"
   ]
  },
  {
   "cell_type": "code",
   "execution_count": 6,
   "metadata": {},
   "outputs": [],
   "source": [
    "# Save as Excel file\n",
    "combined_df.to_excel('/home/pratimathapa/code/PratimaThapa/DisLex_Project/csv_files/English/combined_table_eng.xlsx', index=False)  #Path to your folder\n"
   ]
  }
 ],
 "metadata": {
  "kernelspec": {
   "display_name": "dislex_project",
   "language": "python",
   "name": "python3"
  },
  "language_info": {
   "codemirror_mode": {
    "name": "ipython",
    "version": 3
   },
   "file_extension": ".py",
   "mimetype": "text/x-python",
   "name": "python",
   "nbconvert_exporter": "python",
   "pygments_lexer": "ipython3",
   "version": "3.10.6"
  }
 },
 "nbformat": 4,
 "nbformat_minor": 2
}
